{
  "nbformat": 4,
  "nbformat_minor": 0,
  "metadata": {
    "colab": {
      "provenance": [],
      "collapsed_sections": []
    },
    "kernelspec": {
      "name": "python3",
      "display_name": "Python 3"
    },
    "language_info": {
      "name": "python"
    }
  },
  "cells": [
    {
      "cell_type": "code",
      "source": [
        "# colab has an older version of beautifulsoup by default\n",
        "# here we upgrade it\n",
        "# if you are working on your own computer, you can probably comment this step out and skip it\n",
        "!pip install --upgrade beautifulsoup4\n",
        "from bs4 import BeautifulSoup\n",
        "import requests\n",
        "import pandas as pd\n",
        "import re"
      ],
      "metadata": {
        "colab": {
          "base_uri": "https://localhost:8080/"
        },
        "id": "h7XGRW58Onq4",
        "outputId": "0df9240b-b4fc-4d96-d52a-6018129bcc32"
      },
      "execution_count": 14,
      "outputs": [
        {
          "output_type": "stream",
          "name": "stdout",
          "text": [
            "Looking in indexes: https://pypi.org/simple, https://us-python.pkg.dev/colab-wheels/public/simple/\n",
            "Requirement already satisfied: beautifulsoup4 in /usr/local/lib/python3.7/dist-packages (4.11.1)\n",
            "Requirement already satisfied: soupsieve>1.2 in /usr/local/lib/python3.7/dist-packages (from beautifulsoup4) (2.3.2.post1)\n"
          ]
        }
      ]
    },
    {
      "cell_type": "code",
      "execution_count": 2,
      "metadata": {
        "id": "09E5mZ6mjM-J",
        "colab": {
          "base_uri": "https://localhost:8080/"
        },
        "outputId": "9a4b3cc5-1160-4687-c64f-1c97fc65f974"
      },
      "outputs": [
        {
          "output_type": "stream",
          "name": "stdout",
          "text": [
            "Looking in indexes: https://pypi.org/simple, https://us-python.pkg.dev/colab-wheels/public/simple/\n",
            "Requirement already satisfied: beautifulsoup4 in /usr/local/lib/python3.7/dist-packages (4.11.1)\n",
            "Requirement already satisfied: soupsieve>1.2 in /usr/local/lib/python3.7/dist-packages (from beautifulsoup4) (2.3.2.post1)\n"
          ]
        }
      ],
      "source": [
        "# 1. import libraries\n",
        "!pip install --upgrade beautifulsoup4\n",
        "from bs4 import BeautifulSoup\n",
        "import requests\n",
        "import pandas as pd\n",
        "import re"
      ]
    },
    {
      "cell_type": "code",
      "source": [
        "# 2. find url and store it in a variable\n",
        "url = \"https://en.wikipedia.org/wiki/Berlin\""
      ],
      "metadata": {
        "id": "EfulSS0rj9Gd"
      },
      "execution_count": 3,
      "outputs": []
    },
    {
      "cell_type": "code",
      "source": [
        "# 3. download html with a get request\n",
        "response = requests.get(url)\n",
        "response.status_code # 200 status code means OK!"
      ],
      "metadata": {
        "colab": {
          "base_uri": "https://localhost:8080/"
        },
        "id": "6ToaJ81GkC0r",
        "outputId": "be54cae3-b5b3-47eb-8378-03ec8cf5ad28"
      },
      "execution_count": 4,
      "outputs": [
        {
          "output_type": "execute_result",
          "data": {
            "text/plain": [
              "200"
            ]
          },
          "metadata": {},
          "execution_count": 4
        }
      ]
    },
    {
      "cell_type": "code",
      "source": [
        "# 4.1. parse html (create the 'soup')\n",
        "soup = BeautifulSoup(response.content, \"html.parser\")\n",
        "# 4.2. check that the html code looks like it should\n",
        "#soup"
      ],
      "metadata": {
        "id": "bBB9cK_1kHeK"
      },
      "execution_count": 5,
      "outputs": []
    },
    {
      "cell_type": "code",
      "source": [
        "# 5. retrieve/extract the desired info (here, you'll paste the \"Selector\" you copied before to get the element that belongs to the top movie)\n",
        "\n",
        "# let's first try to get the name of the city\n",
        "# by copying the selector we can see that it has the id firstHeading (it also has a class by the same name!)\n",
        "soup.select(\"#firstHeading\")"
      ],
      "metadata": {
        "colab": {
          "base_uri": "https://localhost:8080/"
        },
        "id": "NEPylwtLkRz6",
        "outputId": "19eefc64-4b52-48ad-abcd-a39e78225c54"
      },
      "execution_count": 6,
      "outputs": [
        {
          "output_type": "execute_result",
          "data": {
            "text/plain": [
              "[<h1 class=\"firstHeading mw-first-heading\" id=\"firstHeading\"><span class=\"mw-page-title-main\">Berlin</span></h1>]"
            ]
          },
          "metadata": {},
          "execution_count": 6
        }
      ]
    },
    {
      "cell_type": "code",
      "source": [
        "soup.select(\"#firstHeading\")[0].get_text()"
      ],
      "metadata": {
        "colab": {
          "base_uri": "https://localhost:8080/",
          "height": 35
        },
        "id": "xC2gDSscWtyS",
        "outputId": "d26bd2db-9204-47d6-c8d4-86ad7c7d549b"
      },
      "execution_count": 7,
      "outputs": [
        {
          "output_type": "execute_result",
          "data": {
            "text/plain": [
              "'Berlin'"
            ],
            "application/vnd.google.colaboratory.intrinsic+json": {
              "type": "string"
            }
          },
          "metadata": {},
          "execution_count": 7
        }
      ]
    },
    {
      "cell_type": "code",
      "source": [
        "# Let's use this class, infobox-data, to target the information country\n",
        "soup.select(\".infobox-data\")[0].get_text()"
      ],
      "metadata": {
        "colab": {
          "base_uri": "https://localhost:8080/",
          "height": 35
        },
        "id": "zqaG8u2YX96Z",
        "outputId": "ff2c9616-2d7a-4056-bfd8-fb4c77df429f"
      },
      "execution_count": 8,
      "outputs": [
        {
          "output_type": "execute_result",
          "data": {
            "text/plain": [
              "'\\xa0Germany'"
            ],
            "application/vnd.google.colaboratory.intrinsic+json": {
              "type": "string"
            }
          },
          "metadata": {},
          "execution_count": 8
        }
      ]
    },
    {
      "cell_type": "code",
      "source": [
        "soup.select(\".infobox-data\")[0].get_text()"
      ],
      "metadata": {
        "id": "hdVBTcmTIwh8",
        "colab": {
          "base_uri": "https://localhost:8080/",
          "height": 35
        },
        "outputId": "8e1c7eac-4b51-457d-85f0-7cf61312466f"
      },
      "execution_count": 9,
      "outputs": [
        {
          "output_type": "execute_result",
          "data": {
            "text/plain": [
              "'\\xa0Germany'"
            ],
            "application/vnd.google.colaboratory.intrinsic+json": {
              "type": "string"
            }
          },
          "metadata": {},
          "execution_count": 9
        }
      ]
    },
    {
      "cell_type": "markdown",
      "source": [
        "Now we just carry on exploring the html, finding classes, ids, and selectors to target the information we need. Hopefully these classes and selectors will be universal across all cities on wikipedia, but it is likely that they will change in a few places, and we will have to try to make our code robust to this"
      ],
      "metadata": {
        "id": "a5NbgdoeYKIo"
      }
    },
    {
      "cell_type": "code",
      "source": [
        "!pip install --upgrade beautifulsoup4\n",
        "from bs4 import BeautifulSoup\n",
        "import requests\n",
        "import pandas as pd\n",
        "import re\n",
        "\n",
        "def recreate_wiki(cities):\n",
        "   list_for_df = []\n",
        "   for city in cities:\n",
        "     url = f'https://en.wikipedia.org/wiki/{city}'\n",
        "     r = requests.get(url)\n",
        "     soup = BeautifulSoup(r.content, 'html.parser')\n",
        "     response_dict = {}\n",
        "     response_dict['city'] = soup.select(\".firstHeading\")[0].get_text()\n",
        "     response_dict['country'] = soup.select(\".infobox-data\")[0].get_text()\n",
        "     response_dict['latitude'] = soup.select(\".latitude\")[0].get_text()\n",
        "     response_dict['longitude'] = soup.select(\".longitude\")[0].get_text()\n",
        "     response_dict['population'] = soup.select_one('th.infobox-header:-soup-contains(\"Population\")').parent.find_next_sibling().find(text=re.compile(r'\\d+'))\n",
        "     list_for_df.append(response_dict)\n",
        "     cities_df = pd.DataFrame(list_for_df)\n",
        "     cities_df['latitude'] = cities_df['latitude'].str.split('″').str[0].str.replace('°', '.', regex=False).str.replace('′', '', regex=False)\n",
        "     cities_df['longitude'] = cities_df['longitude'].str.split('″').str[0].str.replace('°', '.', regex=False).str.replace('′', '', regex=False)\n",
        "   return cities_df"
      ],
      "metadata": {
        "id": "6ZaT16qaP2yJ",
        "colab": {
          "base_uri": "https://localhost:8080/"
        },
        "outputId": "154a2cd2-1bc4-407b-afde-0282f848de2b"
      },
      "execution_count": 10,
      "outputs": [
        {
          "output_type": "stream",
          "name": "stdout",
          "text": [
            "Looking in indexes: https://pypi.org/simple, https://us-python.pkg.dev/colab-wheels/public/simple/\n",
            "Requirement already satisfied: beautifulsoup4 in /usr/local/lib/python3.7/dist-packages (4.11.1)\n",
            "Requirement already satisfied: soupsieve>1.2 in /usr/local/lib/python3.7/dist-packages (from beautifulsoup4) (2.3.2.post1)\n"
          ]
        }
      ]
    },
    {
      "cell_type": "code",
      "source": [
        "list_of_cities = ['Berlin','Hamburg','London','Manchester','Munich','Stuttgart']\n",
        "cities=recreate_wiki(list_of_cities)\n",
        "cities"
      ],
      "metadata": {
        "colab": {
          "base_uri": "https://localhost:8080/",
          "height": 237
        },
        "id": "vPj5D3KfTZk2",
        "outputId": "9e179c05-cf2d-4889-e530-47f3c714f711"
      },
      "execution_count": 11,
      "outputs": [
        {
          "output_type": "execute_result",
          "data": {
            "text/plain": [
              "         city          country latitude longitude population\n",
              "0      Berlin          Germany  52.3112   13.2418  3,769,495\n",
              "1     Hamburg          Germany  53.3300   10.0000  1,845,229\n",
              "2      London   United Kingdom  51.3026     0.739  9,002,488\n",
              "3  Manchester   United Kingdom  53.2846    2.1443    552,858\n",
              "4      Munich          Germany  48.0815   11.3430  1,488,202\n",
              "5   Stuttgart          Germany  48.4639   09.1048    630,305"
            ],
            "text/html": [
              "\n",
              "  <div id=\"df-b0b333cd-c220-4d1b-acf4-e09b5348c7bd\">\n",
              "    <div class=\"colab-df-container\">\n",
              "      <div>\n",
              "<style scoped>\n",
              "    .dataframe tbody tr th:only-of-type {\n",
              "        vertical-align: middle;\n",
              "    }\n",
              "\n",
              "    .dataframe tbody tr th {\n",
              "        vertical-align: top;\n",
              "    }\n",
              "\n",
              "    .dataframe thead th {\n",
              "        text-align: right;\n",
              "    }\n",
              "</style>\n",
              "<table border=\"1\" class=\"dataframe\">\n",
              "  <thead>\n",
              "    <tr style=\"text-align: right;\">\n",
              "      <th></th>\n",
              "      <th>city</th>\n",
              "      <th>country</th>\n",
              "      <th>latitude</th>\n",
              "      <th>longitude</th>\n",
              "      <th>population</th>\n",
              "    </tr>\n",
              "  </thead>\n",
              "  <tbody>\n",
              "    <tr>\n",
              "      <th>0</th>\n",
              "      <td>Berlin</td>\n",
              "      <td>Germany</td>\n",
              "      <td>52.3112</td>\n",
              "      <td>13.2418</td>\n",
              "      <td>3,769,495</td>\n",
              "    </tr>\n",
              "    <tr>\n",
              "      <th>1</th>\n",
              "      <td>Hamburg</td>\n",
              "      <td>Germany</td>\n",
              "      <td>53.3300</td>\n",
              "      <td>10.0000</td>\n",
              "      <td>1,845,229</td>\n",
              "    </tr>\n",
              "    <tr>\n",
              "      <th>2</th>\n",
              "      <td>London</td>\n",
              "      <td>United Kingdom</td>\n",
              "      <td>51.3026</td>\n",
              "      <td>0.739</td>\n",
              "      <td>9,002,488</td>\n",
              "    </tr>\n",
              "    <tr>\n",
              "      <th>3</th>\n",
              "      <td>Manchester</td>\n",
              "      <td>United Kingdom</td>\n",
              "      <td>53.2846</td>\n",
              "      <td>2.1443</td>\n",
              "      <td>552,858</td>\n",
              "    </tr>\n",
              "    <tr>\n",
              "      <th>4</th>\n",
              "      <td>Munich</td>\n",
              "      <td>Germany</td>\n",
              "      <td>48.0815</td>\n",
              "      <td>11.3430</td>\n",
              "      <td>1,488,202</td>\n",
              "    </tr>\n",
              "    <tr>\n",
              "      <th>5</th>\n",
              "      <td>Stuttgart</td>\n",
              "      <td>Germany</td>\n",
              "      <td>48.4639</td>\n",
              "      <td>09.1048</td>\n",
              "      <td>630,305</td>\n",
              "    </tr>\n",
              "  </tbody>\n",
              "</table>\n",
              "</div>\n",
              "      <button class=\"colab-df-convert\" onclick=\"convertToInteractive('df-b0b333cd-c220-4d1b-acf4-e09b5348c7bd')\"\n",
              "              title=\"Convert this dataframe to an interactive table.\"\n",
              "              style=\"display:none;\">\n",
              "        \n",
              "  <svg xmlns=\"http://www.w3.org/2000/svg\" height=\"24px\"viewBox=\"0 0 24 24\"\n",
              "       width=\"24px\">\n",
              "    <path d=\"M0 0h24v24H0V0z\" fill=\"none\"/>\n",
              "    <path d=\"M18.56 5.44l.94 2.06.94-2.06 2.06-.94-2.06-.94-.94-2.06-.94 2.06-2.06.94zm-11 1L8.5 8.5l.94-2.06 2.06-.94-2.06-.94L8.5 2.5l-.94 2.06-2.06.94zm10 10l.94 2.06.94-2.06 2.06-.94-2.06-.94-.94-2.06-.94 2.06-2.06.94z\"/><path d=\"M17.41 7.96l-1.37-1.37c-.4-.4-.92-.59-1.43-.59-.52 0-1.04.2-1.43.59L10.3 9.45l-7.72 7.72c-.78.78-.78 2.05 0 2.83L4 21.41c.39.39.9.59 1.41.59.51 0 1.02-.2 1.41-.59l7.78-7.78 2.81-2.81c.8-.78.8-2.07 0-2.86zM5.41 20L4 18.59l7.72-7.72 1.47 1.35L5.41 20z\"/>\n",
              "  </svg>\n",
              "      </button>\n",
              "      \n",
              "  <style>\n",
              "    .colab-df-container {\n",
              "      display:flex;\n",
              "      flex-wrap:wrap;\n",
              "      gap: 12px;\n",
              "    }\n",
              "\n",
              "    .colab-df-convert {\n",
              "      background-color: #E8F0FE;\n",
              "      border: none;\n",
              "      border-radius: 50%;\n",
              "      cursor: pointer;\n",
              "      display: none;\n",
              "      fill: #1967D2;\n",
              "      height: 32px;\n",
              "      padding: 0 0 0 0;\n",
              "      width: 32px;\n",
              "    }\n",
              "\n",
              "    .colab-df-convert:hover {\n",
              "      background-color: #E2EBFA;\n",
              "      box-shadow: 0px 1px 2px rgba(60, 64, 67, 0.3), 0px 1px 3px 1px rgba(60, 64, 67, 0.15);\n",
              "      fill: #174EA6;\n",
              "    }\n",
              "\n",
              "    [theme=dark] .colab-df-convert {\n",
              "      background-color: #3B4455;\n",
              "      fill: #D2E3FC;\n",
              "    }\n",
              "\n",
              "    [theme=dark] .colab-df-convert:hover {\n",
              "      background-color: #434B5C;\n",
              "      box-shadow: 0px 1px 3px 1px rgba(0, 0, 0, 0.15);\n",
              "      filter: drop-shadow(0px 1px 2px rgba(0, 0, 0, 0.3));\n",
              "      fill: #FFFFFF;\n",
              "    }\n",
              "  </style>\n",
              "\n",
              "      <script>\n",
              "        const buttonEl =\n",
              "          document.querySelector('#df-b0b333cd-c220-4d1b-acf4-e09b5348c7bd button.colab-df-convert');\n",
              "        buttonEl.style.display =\n",
              "          google.colab.kernel.accessAllowed ? 'block' : 'none';\n",
              "\n",
              "        async function convertToInteractive(key) {\n",
              "          const element = document.querySelector('#df-b0b333cd-c220-4d1b-acf4-e09b5348c7bd');\n",
              "          const dataTable =\n",
              "            await google.colab.kernel.invokeFunction('convertToInteractive',\n",
              "                                                     [key], {});\n",
              "          if (!dataTable) return;\n",
              "\n",
              "          const docLinkHtml = 'Like what you see? Visit the ' +\n",
              "            '<a target=\"_blank\" href=https://colab.research.google.com/notebooks/data_table.ipynb>data table notebook</a>'\n",
              "            + ' to learn more about interactive tables.';\n",
              "          element.innerHTML = '';\n",
              "          dataTable['output_type'] = 'display_data';\n",
              "          await google.colab.output.renderOutput(dataTable, element);\n",
              "          const docLink = document.createElement('div');\n",
              "          docLink.innerHTML = docLinkHtml;\n",
              "          element.appendChild(docLink);\n",
              "        }\n",
              "      </script>\n",
              "    </div>\n",
              "  </div>\n",
              "  "
            ]
          },
          "metadata": {},
          "execution_count": 11
        }
      ]
    },
    {
      "cell_type": "markdown",
      "source": [
        "## Alternate to get population:"
      ],
      "metadata": {
        "id": "eHdsigyS0jTA"
      }
    },
    {
      "cell_type": "code",
      "source": [
        "#df=pd.DataFrame(list(zip(city, country, population, coords)), columns =['city', 'country', 'population', 'coords'])"
      ],
      "metadata": {
        "id": "pTcbUSoAyzZC"
      },
      "execution_count": 12,
      "outputs": []
    },
    {
      "cell_type": "code",
      "source": [
        "# here we make our soup for the city\n",
        "r = requests.get(\"https://en.wikipedia.org/wiki/Berlin\")\n",
        "soup = BeautifulSoup(r.content, 'html.parser')\n",
        "soup.select('.infobox-label ')"
      ],
      "metadata": {
        "id": "cQ3ylUK2za2U",
        "colab": {
          "base_uri": "https://localhost:8080/"
        },
        "outputId": "869c9b0e-5b8d-492e-83b0-24114aa6e7e9"
      },
      "execution_count": 13,
      "outputs": [
        {
          "output_type": "execute_result",
          "data": {
            "text/plain": [
              "[<th class=\"infobox-label\" scope=\"row\">Country</th>,\n",
              " <th class=\"infobox-label\" scope=\"row\"><a href=\"/wiki/States_of_Germany\" title=\"States of Germany\">State</a></th>,\n",
              " <th class=\"infobox-label\" scope=\"row\"> • Body</th>,\n",
              " <th class=\"infobox-label\" scope=\"row\"> • <a href=\"/wiki/Governing_Mayor_of_Berlin\" title=\"Governing Mayor of Berlin\">Governing Mayor</a></th>,\n",
              " <th class=\"infobox-label\" scope=\"row\"> • <a class=\"mw-redirect\" href=\"/wiki/Bundesrat_of_Germany\" title=\"Bundesrat of Germany\">Bundesrat votes</a></th>,\n",
              " <th class=\"infobox-label\" scope=\"row\"> • <a href=\"/wiki/Bundestag\" title=\"Bundestag\">Bundestag seats</a></th>,\n",
              " <th class=\"infobox-label\" scope=\"row\"> • City/State</th>,\n",
              " <th class=\"infobox-label\" scope=\"row\"> • Urban<div class=\"ib-settlement-fn\"></div></th>,\n",
              " <th class=\"infobox-label\" scope=\"row\"> • Metro<div class=\"ib-settlement-fn\"></div></th>,\n",
              " <th class=\"infobox-label\" scope=\"row\">Elevation<div class=\"ib-settlement-fn\"></div></th>,\n",
              " <th class=\"infobox-label\" scope=\"row\"> • City/State</th>,\n",
              " <th class=\"infobox-label\" scope=\"row\"> • <a href=\"/wiki/Urban_area\" title=\"Urban area\">Urban</a><div class=\"ib-settlement-fn\"><sup class=\"reference\" id=\"cite_ref-citypopulation_urban_3-0\"><a href=\"#cite_note-citypopulation_urban-3\">[3]</a></sup></div></th>,\n",
              " <th class=\"infobox-label\" scope=\"row\"> • <a href=\"/wiki/Metropolitan_area\" title=\"Metropolitan area\">Metro</a><div class=\"ib-settlement-fn\"><sup class=\"reference\" id=\"cite_ref-4\"><a href=\"#cite_note-4\">[4]</a></sup></div></th>,\n",
              " <th class=\"infobox-label\" scope=\"row\"><a href=\"/wiki/Demonym\" title=\"Demonym\">Demonyms</a></th>,\n",
              " <th class=\"infobox-label\" scope=\"row\"><a href=\"/wiki/Time_zone\" title=\"Time zone\">Time zone</a></th>,\n",
              " <th class=\"infobox-label\" scope=\"row\"><span class=\"nowrap\"> • Summer (<a href=\"/wiki/Daylight_saving_time\" title=\"Daylight saving time\">DST</a>)</span></th>,\n",
              " <th class=\"infobox-label\" scope=\"row\"><a href=\"/wiki/Telephone_numbering_plan\" title=\"Telephone numbering plan\">Area codes</a></th>,\n",
              " <th class=\"infobox-label\" scope=\"row\"><a href=\"/wiki/Geocode\" title=\"Geocode\">Geocode</a></th>,\n",
              " <th class=\"infobox-label\" scope=\"row\"><a href=\"/wiki/ISO_3166\" title=\"ISO 3166\">ISO 3166 code</a></th>,\n",
              " <th class=\"infobox-label\" scope=\"row\"><a href=\"/wiki/Vehicle_registration_plate\" title=\"Vehicle registration plate\">Vehicle registration</a></th>,\n",
              " <th class=\"infobox-label\" scope=\"row\"><a href=\"/wiki/Gross_regional_product\" title=\"Gross regional product\">GRP (nominal)</a></th>,\n",
              " <th class=\"infobox-label\" scope=\"row\">GRP per capita</th>,\n",
              " <th class=\"infobox-label\" scope=\"row\"><a class=\"mw-redirect\" href=\"/wiki/GeoTLD\" title=\"GeoTLD\">GeoTLD</a></th>,\n",
              " <th class=\"infobox-label\" scope=\"row\"><a href=\"/wiki/Human_Development_Index\" title=\"Human Development Index\">HDI</a> (2018)</th>,\n",
              " <th class=\"infobox-label\" scope=\"row\">Website</th>]"
            ]
          },
          "metadata": {},
          "execution_count": 13
        }
      ]
    }
  ]
}