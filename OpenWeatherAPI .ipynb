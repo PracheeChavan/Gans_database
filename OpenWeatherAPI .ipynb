{
  "nbformat": 4,
  "nbformat_minor": 0,
  "metadata": {
    "colab": {
      "provenance": [],
      "collapsed_sections": []
    },
    "kernelspec": {
      "name": "python3",
      "display_name": "Python 3"
    },
    "language_info": {
      "name": "python"
    }
  },
  "cells": [
    {
      "cell_type": "markdown",
      "source": [
        "\n",
        "##**Open Weather Map API**"
      ],
      "metadata": {
        "id": "KHBFStyBTdV9"
      }
    },
    {
      "cell_type": "code",
      "execution_count": null,
      "metadata": {
        "id": "9ESSChqwTcyo"
      },
      "outputs": [],
      "source": [
        "import pandas as pd\n",
        "!pip install PyMySQL\n",
        "import pymysql\n",
        "import sqlalchemy \n",
        "# sample cities DataFrame for exercises\n",
        "\n",
        "cities = pd.DataFrame(data = {'city_id' : [1],'city' : ['Berlin'], 'country_code' : ['DE']})\n",
        "cities"
      ]
    },
    {
      "cell_type": "markdown",
      "source": [
        "**API key**"
      ],
      "metadata": {
        "id": "lGqh2NzNTrDb"
      }
    },
    {
      "cell_type": "code",
      "source": [
        "# please use your own API key\n",
        "OWM_key = 'cf36567c4cb288fd1cd39a18cbfc1b5b'"
      ],
      "metadata": {
        "id": "a6Ne9LqrTvQ9"
      },
      "execution_count": null,
      "outputs": []
    },
    {
      "cell_type": "markdown",
      "source": [
        "## Approach without a wrapper"
      ],
      "metadata": {
        "id": "ezsD790NT7n5"
      }
    },
    {
      "cell_type": "markdown",
      "source": [
        "We are going to use 5 day / 3 hour forecast https://openweathermap.org/forecast5\n",
        "\n",
        "Provided at their docmentation you can find an example of API call with only having info about city name and country_code https://openweathermap.org/forecast5#name5\n",
        "\n",
        "api.openweathermap.org/data/2.5/forecast?q={city name},{country code}&appid={API key}\n",
        "\n",
        "city name and country code have to be in format e.g. ('Berin,DE')\n",
        "appid is your unique API key\n",
        "you can also add units which can be 'standard', 'metric', 'imperial'\n",
        "or lang for languages e.g. 'de', 'it' etc.\n",
        "or cnt for number of timestamps in response\n",
        "You can also find an example of API call with having info about latitude and longitude\n",
        "https://openweathermap.org/forecast5#geo5\n",
        "\n",
        "api.openweathermap.org/data/2.5/forecast?lat={lat}&lon={lon}&appid={API key}\n",
        "\n",
        "You can choose your own approach. We will show here the approach with city name and country code"
      ],
      "metadata": {
        "id": "FCptXTkeUHUT"
      }
    },
    {
      "cell_type": "code",
      "source": [
        "import requests\n",
        "url = f\"http://api.openweathermap.org/data/2.5/forecast?q={cities['City'][0]},{cities['Country_code'][0]}&appid={OWM_key}&units=metric\"\n",
        "response = requests.get(url)\n",
        "response.status_code\n",
        "#response.json()"
      ],
      "metadata": {
        "id": "g06b7TaDTvNj"
      },
      "execution_count": null,
      "outputs": []
    },
    {
      "cell_type": "code",
      "source": [
        "weather_dict = {'city_id': [],\n",
        "                'forecast_time': [],\n",
        "                'outlook': [],\n",
        "                'temperature': [],\n",
        "                'temperature_feels_like': [],\n",
        "                'wind_speed': [],\n",
        "                'pop': []}\n",
        "# iterating over items in 'list' node and selecting the subnodes gives us the exact info we need \n",
        "for hour in response.json()['list']:\n",
        "  weather_dict['city_id'].append(cities['city_id'][0])\n",
        "  weather_dict['temperature'].append(hour['main']['temp'])\n",
        "  weather_dict['wind_speed'].append(hour['wind']['speed'])\n",
        "  weather_dict['forecast_time'].append(hour['dt_txt'])\n",
        "  weather_dict['outlook'].append(hour['weather'][0]['description'])\n",
        "  weather_dict['temperature_feels_like'].append(hour['main']['feels_like'])\n",
        "  weather_dict['pop'].append(hour['pop'])"
      ],
      "metadata": {
        "id": "W5LHQl1EUWXA"
      },
      "execution_count": null,
      "outputs": []
    },
    {
      "cell_type": "markdown",
      "source": [
        " **Creating a new weather DataFrame**"
      ],
      "metadata": {
        "id": "OlsNeFMdUlH-"
      }
    },
    {
      "cell_type": "code",
      "source": [
        "weather_df = pd.DataFrame(weather_dict)"
      ],
      "metadata": {
        "id": "wCjSJoaOT8lX"
      },
      "execution_count": null,
      "outputs": []
    }
  ]
}
