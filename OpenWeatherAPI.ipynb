{
  "cells": [
    {
      "cell_type": "markdown",
      "metadata": {
        "id": "-QVe-eC2ncmA"
      },
      "source": [
        "# Open Weather Map API"
      ]
    },
    {
      "cell_type": "markdown",
      "metadata": {
        "id": "KOtYIXtnncmC"
      },
      "source": [
        "## 1. create a dummy 'cities' DataFrame"
      ]
    },
    {
      "cell_type": "code",
      "execution_count": 1,
      "metadata": {
        "id": "iKfhR6O1owVz",
        "colab": {
          "base_uri": "https://localhost:8080/"
        },
        "outputId": "bb7d883e-44fc-4880-a500-c8bd5068a6c9"
      },
      "outputs": [
        {
          "output_type": "stream",
          "name": "stdout",
          "text": [
            "Looking in indexes: https://pypi.org/simple, https://us-python.pkg.dev/colab-wheels/public/simple/\n",
            "Collecting PyMySQL\n",
            "  Downloading PyMySQL-1.0.2-py3-none-any.whl (43 kB)\n",
            "\u001b[K     |████████████████████████████████| 43 kB 1.2 MB/s \n",
            "\u001b[?25hInstalling collected packages: PyMySQL\n",
            "Successfully installed PyMySQL-1.0.2\n"
          ]
        }
      ],
      "source": [
        "import pandas as pd\n",
        "!pip install PyMySQL\n",
        "import pymysql\n",
        "import sqlalchemy "
      ]
    },
    {
      "cell_type": "code",
      "execution_count": 2,
      "metadata": {
        "id": "b-7ftNMNrGjc"
      },
      "outputs": [],
      "source": [
        "# sample cities DataFrame for exercises\n",
        "\n",
        "cities = pd.DataFrame(data = {'City_id' : [1],'City' : ['Berlin'], 'Country_code' : ['DE']})"
      ]
    },
    {
      "cell_type": "code",
      "source": [
        "schema=\"gans_database\"   # name of the database you want to use here\n",
        "host=\"127.0.0.1\"        # to connect to your local server\n",
        "user=\"root\"\n",
        "password=\"SharpGajanan9860\" # your password!!!!\n",
        "port=3306\n",
        "con = f'mysql+pymysql://{user}:{password}@{host}:{port}/{schema}'"
      ],
      "metadata": {
        "id": "wutaB3OLeRj1"
      },
      "execution_count": 3,
      "outputs": []
    },
    {
      "cell_type": "markdown",
      "metadata": {
        "id": "4gWETwVencmF"
      },
      "source": [
        "## 2. API key"
      ]
    },
    {
      "cell_type": "markdown",
      "metadata": {
        "id": "uIAws09asuSL"
      },
      "source": [
        "Don't forget that for OpenWeatherAPI you need an API key"
      ]
    },
    {
      "cell_type": "code",
      "execution_count": 4,
      "metadata": {
        "id": "71kCoqKWs008"
      },
      "outputs": [],
      "source": [
        "# please use your own API key\n",
        "OWM_key = 'cf36567c4cb288fd1cd39a18cbfc1b5b'"
      ]
    },
    {
      "cell_type": "markdown",
      "metadata": {
        "id": "saUYQSYWncmF"
      },
      "source": [
        "## 3. Different approaches"
      ]
    },
    {
      "cell_type": "markdown",
      "metadata": {
        "id": "UUkoeNZNo_Uo"
      },
      "source": [
        "As we saw in the Spotify example, for some API's there could be a Python wrapper that can help you get the data in easier and simpler way.  \n",
        "Here, we will see two different approaches to OpenWeather API:\n",
        "1. with PyOWM - Python wrapper library\n",
        "2. without the wrapper"
      ]
    },
    {
      "cell_type": "markdown",
      "metadata": {
        "id": "j-fyK41tpi2M"
      },
      "source": [
        "### 3.1 Approach with a wrapper (PyOWM)"
      ]
    },
    {
      "cell_type": "markdown",
      "metadata": {
        "id": "Jze9Gbcnpm-J"
      },
      "source": [
        "Documentation for PyOWM you can find here: https://pyowm.readthedocs.io/en/latest/"
      ]
    },
    {
      "cell_type": "code",
      "execution_count": 5,
      "metadata": {
        "id": "WkjX1bMVq9jA",
        "colab": {
          "base_uri": "https://localhost:8080/"
        },
        "outputId": "71f1f793-12a3-43a6-c8b2-246a19d972eb"
      },
      "outputs": [
        {
          "output_type": "stream",
          "name": "stdout",
          "text": [
            "Looking in indexes: https://pypi.org/simple, https://us-python.pkg.dev/colab-wheels/public/simple/\n",
            "Collecting pyowm\n",
            "  Downloading pyowm-3.3.0-py3-none-any.whl (4.5 MB)\n",
            "\u001b[K     |████████████████████████████████| 4.5 MB 5.0 MB/s \n",
            "\u001b[?25hRequirement already satisfied: requests[socks] in /usr/local/lib/python3.7/dist-packages (from pyowm) (2.23.0)\n",
            "Collecting geojson<3,>=2.3.0\n",
            "  Downloading geojson-2.5.0-py2.py3-none-any.whl (14 kB)\n",
            "Requirement already satisfied: PySocks<2,>=1.7.1 in /usr/local/lib/python3.7/dist-packages (from pyowm) (1.7.1)\n",
            "Requirement already satisfied: idna<3,>=2.5 in /usr/local/lib/python3.7/dist-packages (from requests[socks]->pyowm) (2.10)\n",
            "Requirement already satisfied: chardet<4,>=3.0.2 in /usr/local/lib/python3.7/dist-packages (from requests[socks]->pyowm) (3.0.4)\n",
            "Requirement already satisfied: urllib3!=1.25.0,!=1.25.1,<1.26,>=1.21.1 in /usr/local/lib/python3.7/dist-packages (from requests[socks]->pyowm) (1.24.3)\n",
            "Requirement already satisfied: certifi>=2017.4.17 in /usr/local/lib/python3.7/dist-packages (from requests[socks]->pyowm) (2022.9.24)\n",
            "Installing collected packages: geojson, pyowm\n",
            "Successfully installed geojson-2.5.0 pyowm-3.3.0\n"
          ]
        }
      ],
      "source": [
        "!pip install -U pyowm\n",
        "\n",
        "from pyowm.owm import OWM"
      ]
    },
    {
      "cell_type": "markdown",
      "metadata": {
        "id": "fnO-CNegX5K5"
      },
      "source": [
        "If you go to https://pyowm.readthedocs.io/en/latest/v3/code-recipes.html#weather_data you can get code example to get example how to get wind speed in 3h from now:"
      ]
    },
    {
      "cell_type": "code",
      "execution_count": 6,
      "metadata": {
        "colab": {
          "base_uri": "https://localhost:8080/"
        },
        "id": "7or9enoDYR0P",
        "outputId": "c1c4084a-4d63-4ca9-f99d-740575db4f0b"
      },
      "outputs": [
        {
          "output_type": "execute_result",
          "data": {
            "text/plain": [
              "2.83"
            ]
          },
          "metadata": {},
          "execution_count": 6
        }
      ],
      "source": [
        "owm = OWM(OWM_key)\n",
        "mgr = owm.weather_manager()\n",
        "one_call = mgr.one_call(lat=52.5244, lon=13.4105)\n",
        "\n",
        "one_call.forecast_hourly[3].wind().get('speed', 0)"
      ]
    },
    {
      "cell_type": "markdown",
      "metadata": {
        "id": "zT7g0LWcYnKV"
      },
      "source": [
        "Problem with PyOWM is that except for few code examples, they don't provide much details about their classes or methods, so working with this wrapper would have to include a lot of testing and exploration on your own, or even looking into raw code on their GitHub."
      ]
    },
    {
      "cell_type": "markdown",
      "metadata": {
        "id": "pGF9FUXMZAdI",
        "jp-MarkdownHeadingCollapsed": true,
        "tags": []
      },
      "source": [
        "#### *BONUS* If you still want to use a wrapper, check the following code for an example:"
      ]
    },
    {
      "cell_type": "code",
      "execution_count": 7,
      "metadata": {
        "id": "xexg0XZWsPL6"
      },
      "outputs": [],
      "source": [
        "owm = OWM(OWM_key)\n",
        "mgr = owm.weather_manager()"
      ]
    },
    {
      "cell_type": "code",
      "execution_count": 8,
      "metadata": {
        "id": "Nw0egfyYncmH"
      },
      "outputs": [],
      "source": [
        "mgr_geo = owm.geocoding_manager()\n",
        "\n",
        "# geocode Berlin (no country specified) - we'll get many results\n",
        "list_of_locations = mgr_geo.geocode(cities['City'][0])\n",
        "city = list_of_locations[0]  # taking the first Berlin in the list\n",
        "lat = city.lat\n",
        "lon = city.lon "
      ]
    },
    {
      "cell_type": "code",
      "execution_count": 9,
      "metadata": {
        "id": "btZX06ouD95w"
      },
      "outputs": [],
      "source": [
        "one_call = mgr.one_call(lat=lat, lon=lon, units='metric', timeformat='date')\n",
        "\n",
        "hourly_forecast = one_call.forecast_hourly"
      ]
    },
    {
      "cell_type": "code",
      "execution_count": 11,
      "metadata": {
        "id": "oI-YjC6jgBRR"
      },
      "outputs": [],
      "source": [
        "weather_dict = {'city_id': [],\n",
        "                'forecast_time': [],\n",
        "                'outlook': [],\n",
        "                'temperature': [],\n",
        "                'temperature_feels_like': [],\n",
        "                'wind_speed': [],\n",
        "                'pop': []}\n",
        "for i in range(round(len(hourly_forecast)/3)):\n",
        "  index = i*3 #because we want forecast for every 3 hours\n",
        "  weather_dict['city_id'].append(cities['City_id'][0])\n",
        "  weather_dict['temperature'].append(hourly_forecast[index].temperature().get('temp'))\n",
        "  weather_dict['wind_speed'].append(hourly_forecast[index].wind().get('speed'))\n",
        "  weather_dict['forecast_time'].append(hourly_forecast[index].reference_time(timeformat='iso'))\n",
        "  weather_dict['outlook'].append(hourly_forecast[index].detailed_status)\n",
        "  weather_dict['temperature_feels_like'].append(hourly_forecast[index].temperature().get('feels_like'))\n",
        "  weather_dict['pop'].append(hourly_forecast[index].precipitation_probability)\n",
        "\n"
      ]
    },
    {
      "cell_type": "code",
      "execution_count": 12,
      "metadata": {
        "id": "HcfBie_jhiqJ"
      },
      "outputs": [],
      "source": [
        "weather_df = pd.DataFrame(weather_dict)"
      ]
    },
    {
      "cell_type": "markdown",
      "metadata": {
        "id": "sYk0kjFtZPmS"
      },
      "source": [
        "## 3.2 Approach without a wrapper"
      ]
    },
    {
      "cell_type": "markdown",
      "metadata": {
        "id": "hOVbwo__ZgeJ"
      },
      "source": [
        "OpenWeatherMap API has a nice documentation and you can find it here: https://openweathermap.org/api"
      ]
    },
    {
      "cell_type": "markdown",
      "metadata": {
        "id": "v-1ZmczpZni9"
      },
      "source": [
        "We are going to use 5 day / 3 hour forecast https://openweathermap.org/forecast5"
      ]
    },
    {
      "cell_type": "markdown",
      "metadata": {
        "id": "7urlZlrfahxo"
      },
      "source": [
        "Provided at their docmentation you can find an example of API call with only having info about city name and country_code\n",
        "https://openweathermap.org/forecast5#name5\n",
        "\n",
        "`api.openweathermap.org/data/2.5/forecast?q={city name},{country code}&appid={API key}`\n",
        "\n",
        "- city name and country code have to be in format e.g. ('Berin,DE')\n",
        "- appid is your unique API key\n",
        "- you can also add units which can be 'standard', 'metric', 'imperial'\n",
        "- or lang for languages e.g. 'de', 'it' etc.\n",
        "- or cnt for number of timestamps in response\n",
        "\n",
        "You can also find an example of API call with having info about latitude and longitude  \n",
        "https://openweathermap.org/forecast5#geo5\n",
        "\n",
        "api.openweathermap.org/data/2.5/forecast?lat={lat}&lon={lon}&appid={API key}\n",
        "\n",
        "You can choose your own approach. We will show here the approach with city name and country code"
      ]
    },
    {
      "cell_type": "markdown",
      "metadata": {
        "id": "O19dQ_G7ncmJ"
      },
      "source": [
        "#### 3.2.1 Creating a request"
      ]
    },
    {
      "cell_type": "code",
      "execution_count": 13,
      "metadata": {
        "tags": [],
        "id": "x6gbiadIncmJ"
      },
      "outputs": [],
      "source": [
        "import requests"
      ]
    },
    {
      "cell_type": "code",
      "execution_count": 14,
      "metadata": {
        "id": "fYlOihiAncmJ"
      },
      "outputs": [],
      "source": [
        "url = f\"http://api.openweathermap.org/data/2.5/forecast?q={cities['City'][0]},{cities['Country_code'][0]}&appid={OWM_key}&units=metric\"\n",
        "response = requests.get(url)"
      ]
    },
    {
      "cell_type": "code",
      "execution_count": 15,
      "metadata": {
        "colab": {
          "base_uri": "https://localhost:8080/"
        },
        "id": "Kybfn8FvncmJ",
        "outputId": "90309df7-e62b-45cd-b6a1-8402225d4825"
      },
      "outputs": [
        {
          "output_type": "execute_result",
          "data": {
            "text/plain": [
              "200"
            ]
          },
          "metadata": {},
          "execution_count": 15
        }
      ],
      "source": [
        "response = requests.get(url)\n",
        "response.status_code"
      ]
    },
    {
      "cell_type": "markdown",
      "metadata": {
        "id": "-d4A47JencmJ"
      },
      "source": [
        "#### 3.2.2 Exploring the response (json)\n",
        "\n",
        "You can copy paste your json response output to one of many online json viewers to see your json in nicer and more practical way\n",
        "http://jsonviewer.stack.hu/"
      ]
    },
    {
      "cell_type": "code",
      "execution_count": 16,
      "metadata": {
        "collapsed": true,
        "jupyter": {
          "outputs_hidden": true
        },
        "tags": [],
        "id": "xIDfsGpfncmJ"
      },
      "outputs": [],
      "source": [
        "#response.json()"
      ]
    },
    {
      "cell_type": "code",
      "execution_count": 17,
      "metadata": {
        "colab": {
          "base_uri": "https://localhost:8080/",
          "height": 35
        },
        "id": "4yxCabB2ncmJ",
        "outputId": "3d946d8b-535b-4259-f9f4-7cb56119a63b"
      },
      "outputs": [
        {
          "output_type": "execute_result",
          "data": {
            "text/plain": [
              "<IPython.core.display.JSON object>"
            ],
            "application/json": [
              {
                "dt": 1665748800,
                "main": {
                  "temp": 16.66,
                  "feels_like": 16.34,
                  "temp_min": 16.64,
                  "temp_max": 16.66,
                  "pressure": 1003,
                  "sea_level": 1003,
                  "grnd_level": 1009,
                  "humidity": 75,
                  "temp_kf": 0.02
                },
                "weather": [
                  {
                    "id": 801,
                    "main": "Clouds",
                    "description": "few clouds",
                    "icon": "02d"
                  }
                ],
                "clouds": {
                  "all": 20
                },
                "wind": {
                  "speed": 2.9,
                  "deg": 212,
                  "gust": 4.57
                },
                "visibility": 10000,
                "pop": 0,
                "sys": {
                  "pod": "d"
                },
                "dt_txt": "2022-10-14 12:00:00"
              },
              {
                "dt": 1665759600,
                "main": {
                  "temp": 16.66,
                  "feels_like": 16.21,
                  "temp_min": 16.66,
                  "temp_max": 16.67,
                  "pressure": 1006,
                  "sea_level": 1006,
                  "grnd_level": 1007,
                  "humidity": 70,
                  "temp_kf": -0.01
                },
                "weather": [
                  {
                    "id": 802,
                    "main": "Clouds",
                    "description": "scattered clouds",
                    "icon": "03d"
                  }
                ],
                "clouds": {
                  "all": 33
                },
                "wind": {
                  "speed": 1.98,
                  "deg": 183,
                  "gust": 3.65
                },
                "visibility": 10000,
                "pop": 0,
                "sys": {
                  "pod": "d"
                },
                "dt_txt": "2022-10-14 15:00:00"
              },
              {
                "dt": 1665770400,
                "main": {
                  "temp": 14.77,
                  "feels_like": 14.29,
                  "temp_min": 13.83,
                  "temp_max": 14.77,
                  "pressure": 1009,
                  "sea_level": 1009,
                  "grnd_level": 1007,
                  "humidity": 76,
                  "temp_kf": 0.94
                },
                "weather": [
                  {
                    "id": 500,
                    "main": "Rain",
                    "description": "light rain",
                    "icon": "10n"
                  }
                ],
                "clouds": {
                  "all": 60
                },
                "wind": {
                  "speed": 2.4,
                  "deg": 183,
                  "gust": 5.34
                },
                "visibility": 10000,
                "pop": 0.2,
                "rain": {
                  "3h": 0.12
                },
                "sys": {
                  "pod": "n"
                },
                "dt_txt": "2022-10-14 18:00:00"
              },
              {
                "dt": 1665781200,
                "main": {
                  "temp": 12.69,
                  "feels_like": 12.13,
                  "temp_min": 12.69,
                  "temp_max": 12.69,
                  "pressure": 1011,
                  "sea_level": 1011,
                  "grnd_level": 1006,
                  "humidity": 81,
                  "temp_kf": 0
                },
                "weather": [
                  {
                    "id": 804,
                    "main": "Clouds",
                    "description": "overcast clouds",
                    "icon": "04n"
                  }
                ],
                "clouds": {
                  "all": 99
                },
                "wind": {
                  "speed": 2.69,
                  "deg": 152,
                  "gust": 6.54
                },
                "visibility": 10000,
                "pop": 0,
                "sys": {
                  "pod": "n"
                },
                "dt_txt": "2022-10-14 21:00:00"
              },
              {
                "dt": 1665792000,
                "main": {
                  "temp": 13.47,
                  "feels_like": 12.94,
                  "temp_min": 13.47,
                  "temp_max": 13.47,
                  "pressure": 1010,
                  "sea_level": 1010,
                  "grnd_level": 1004,
                  "humidity": 79,
                  "temp_kf": 0
                },
                "weather": [
                  {
                    "id": 500,
                    "main": "Rain",
                    "description": "light rain",
                    "icon": "10n"
                  }
                ],
                "clouds": {
                  "all": 99
                },
                "wind": {
                  "speed": 3.3,
                  "deg": 183,
                  "gust": 8.43
                },
                "visibility": 10000,
                "pop": 0.35,
                "rain": {
                  "3h": 0.12
                },
                "sys": {
                  "pod": "n"
                },
                "dt_txt": "2022-10-15 00:00:00"
              },
              {
                "dt": 1665802800,
                "main": {
                  "temp": 13.24,
                  "feels_like": 13.07,
                  "temp_min": 13.24,
                  "temp_max": 13.24,
                  "pressure": 1009,
                  "sea_level": 1009,
                  "grnd_level": 1004,
                  "humidity": 94,
                  "temp_kf": 0
                },
                "weather": [
                  {
                    "id": 500,
                    "main": "Rain",
                    "description": "light rain",
                    "icon": "10n"
                  }
                ],
                "clouds": {
                  "all": 100
                },
                "wind": {
                  "speed": 3.21,
                  "deg": 200,
                  "gust": 8.16
                },
                "visibility": 10000,
                "pop": 0.96,
                "rain": {
                  "3h": 0.68
                },
                "sys": {
                  "pod": "n"
                },
                "dt_txt": "2022-10-15 03:00:00"
              },
              {
                "dt": 1665813600,
                "main": {
                  "temp": 12.9,
                  "feels_like": 12.75,
                  "temp_min": 12.9,
                  "temp_max": 12.9,
                  "pressure": 1008,
                  "sea_level": 1008,
                  "grnd_level": 1003,
                  "humidity": 96,
                  "temp_kf": 0
                },
                "weather": [
                  {
                    "id": 500,
                    "main": "Rain",
                    "description": "light rain",
                    "icon": "10d"
                  }
                ],
                "clouds": {
                  "all": 98
                },
                "wind": {
                  "speed": 2.48,
                  "deg": 195,
                  "gust": 5.71
                },
                "visibility": 10000,
                "pop": 0.79,
                "rain": {
                  "3h": 0.21
                },
                "sys": {
                  "pod": "d"
                },
                "dt_txt": "2022-10-15 06:00:00"
              },
              {
                "dt": 1665824400,
                "main": {
                  "temp": 15.52,
                  "feels_like": 15.19,
                  "temp_min": 15.52,
                  "temp_max": 15.52,
                  "pressure": 1009,
                  "sea_level": 1009,
                  "grnd_level": 1004,
                  "humidity": 79,
                  "temp_kf": 0
                },
                "weather": [
                  {
                    "id": 803,
                    "main": "Clouds",
                    "description": "broken clouds",
                    "icon": "04d"
                  }
                ],
                "clouds": {
                  "all": 72
                },
                "wind": {
                  "speed": 2.88,
                  "deg": 232,
                  "gust": 4.53
                },
                "visibility": 10000,
                "pop": 0,
                "sys": {
                  "pod": "d"
                },
                "dt_txt": "2022-10-15 09:00:00"
              },
              {
                "dt": 1665835200,
                "main": {
                  "temp": 18.58,
                  "feels_like": 18.03,
                  "temp_min": 18.58,
                  "temp_max": 18.58,
                  "pressure": 1008,
                  "sea_level": 1008,
                  "grnd_level": 1003,
                  "humidity": 59,
                  "temp_kf": 0
                },
                "weather": [
                  {
                    "id": 803,
                    "main": "Clouds",
                    "description": "broken clouds",
                    "icon": "04d"
                  }
                ],
                "clouds": {
                  "all": 67
                },
                "wind": {
                  "speed": 4.09,
                  "deg": 207,
                  "gust": 6.21
                },
                "visibility": 10000,
                "pop": 0,
                "sys": {
                  "pod": "d"
                },
                "dt_txt": "2022-10-15 12:00:00"
              },
              {
                "dt": 1665846000,
                "main": {
                  "temp": 18.47,
                  "feels_like": 17.91,
                  "temp_min": 18.47,
                  "temp_max": 18.47,
                  "pressure": 1008,
                  "sea_level": 1008,
                  "grnd_level": 1003,
                  "humidity": 59,
                  "temp_kf": 0
                },
                "weather": [
                  {
                    "id": 803,
                    "main": "Clouds",
                    "description": "broken clouds",
                    "icon": "04d"
                  }
                ],
                "clouds": {
                  "all": 75
                },
                "wind": {
                  "speed": 4.38,
                  "deg": 204,
                  "gust": 7.5
                },
                "visibility": 10000,
                "pop": 0,
                "sys": {
                  "pod": "d"
                },
                "dt_txt": "2022-10-15 15:00:00"
              },
              {
                "dt": 1665856800,
                "main": {
                  "temp": 17.07,
                  "feels_like": 16.74,
                  "temp_min": 17.07,
                  "temp_max": 17.07,
                  "pressure": 1010,
                  "sea_level": 1010,
                  "grnd_level": 1005,
                  "humidity": 73,
                  "temp_kf": 0
                },
                "weather": [
                  {
                    "id": 803,
                    "main": "Clouds",
                    "description": "broken clouds",
                    "icon": "04n"
                  }
                ],
                "clouds": {
                  "all": 81
                },
                "wind": {
                  "speed": 4.44,
                  "deg": 222,
                  "gust": 9.66
                },
                "visibility": 10000,
                "pop": 0,
                "sys": {
                  "pod": "n"
                },
                "dt_txt": "2022-10-15 18:00:00"
              },
              {
                "dt": 1665867600,
                "main": {
                  "temp": 14.82,
                  "feels_like": 14.66,
                  "temp_min": 14.82,
                  "temp_max": 14.82,
                  "pressure": 1012,
                  "sea_level": 1012,
                  "grnd_level": 1007,
                  "humidity": 88,
                  "temp_kf": 0
                },
                "weather": [
                  {
                    "id": 804,
                    "main": "Clouds",
                    "description": "overcast clouds",
                    "icon": "04n"
                  }
                ],
                "clouds": {
                  "all": 87
                },
                "wind": {
                  "speed": 3.47,
                  "deg": 220,
                  "gust": 10.06
                },
                "visibility": 10000,
                "pop": 0,
                "sys": {
                  "pod": "n"
                },
                "dt_txt": "2022-10-15 21:00:00"
              },
              {
                "dt": 1665878400,
                "main": {
                  "temp": 13.57,
                  "feels_like": 13.38,
                  "temp_min": 13.57,
                  "temp_max": 13.57,
                  "pressure": 1014,
                  "sea_level": 1014,
                  "grnd_level": 1009,
                  "humidity": 92,
                  "temp_kf": 0
                },
                "weather": [
                  {
                    "id": 804,
                    "main": "Clouds",
                    "description": "overcast clouds",
                    "icon": "04n"
                  }
                ],
                "clouds": {
                  "all": 92
                },
                "wind": {
                  "speed": 2.44,
                  "deg": 253,
                  "gust": 6.38
                },
                "visibility": 10000,
                "pop": 0,
                "sys": {
                  "pod": "n"
                },
                "dt_txt": "2022-10-16 00:00:00"
              },
              {
                "dt": 1665889200,
                "main": {
                  "temp": 12.75,
                  "feels_like": 12.46,
                  "temp_min": 12.75,
                  "temp_max": 12.75,
                  "pressure": 1015,
                  "sea_level": 1015,
                  "grnd_level": 1010,
                  "humidity": 91,
                  "temp_kf": 0
                },
                "weather": [
                  {
                    "id": 804,
                    "main": "Clouds",
                    "description": "overcast clouds",
                    "icon": "04n"
                  }
                ],
                "clouds": {
                  "all": 98
                },
                "wind": {
                  "speed": 1.51,
                  "deg": 214,
                  "gust": 2.37
                },
                "visibility": 10000,
                "pop": 0,
                "sys": {
                  "pod": "n"
                },
                "dt_txt": "2022-10-16 03:00:00"
              },
              {
                "dt": 1665900000,
                "main": {
                  "temp": 13.16,
                  "feels_like": 12.83,
                  "temp_min": 13.16,
                  "temp_max": 13.16,
                  "pressure": 1015,
                  "sea_level": 1015,
                  "grnd_level": 1010,
                  "humidity": 88,
                  "temp_kf": 0
                },
                "weather": [
                  {
                    "id": 804,
                    "main": "Clouds",
                    "description": "overcast clouds",
                    "icon": "04d"
                  }
                ],
                "clouds": {
                  "all": 99
                },
                "wind": {
                  "speed": 2.37,
                  "deg": 164,
                  "gust": 5.7
                },
                "visibility": 10000,
                "pop": 0,
                "sys": {
                  "pod": "d"
                },
                "dt_txt": "2022-10-16 06:00:00"
              },
              {
                "dt": 1665910800,
                "main": {
                  "temp": 17.22,
                  "feels_like": 16.88,
                  "temp_min": 17.22,
                  "temp_max": 17.22,
                  "pressure": 1015,
                  "sea_level": 1015,
                  "grnd_level": 1010,
                  "humidity": 72,
                  "temp_kf": 0
                },
                "weather": [
                  {
                    "id": 804,
                    "main": "Clouds",
                    "description": "overcast clouds",
                    "icon": "04d"
                  }
                ],
                "clouds": {
                  "all": 100
                },
                "wind": {
                  "speed": 4.35,
                  "deg": 212,
                  "gust": 8.56
                },
                "visibility": 10000,
                "pop": 0,
                "sys": {
                  "pod": "d"
                },
                "dt_txt": "2022-10-16 09:00:00"
              },
              {
                "dt": 1665921600,
                "main": {
                  "temp": 16.76,
                  "feels_like": 16.5,
                  "temp_min": 16.76,
                  "temp_max": 16.76,
                  "pressure": 1017,
                  "sea_level": 1017,
                  "grnd_level": 1012,
                  "humidity": 77,
                  "temp_kf": 0
                },
                "weather": [
                  {
                    "id": 500,
                    "main": "Rain",
                    "description": "light rain",
                    "icon": "10d"
                  }
                ],
                "clouds": {
                  "all": 99
                },
                "wind": {
                  "speed": 3.72,
                  "deg": 244,
                  "gust": 8.7
                },
                "visibility": 10000,
                "pop": 0.36,
                "rain": {
                  "3h": 0.43
                },
                "sys": {
                  "pod": "d"
                },
                "dt_txt": "2022-10-16 12:00:00"
              },
              {
                "dt": 1665932400,
                "main": {
                  "temp": 15.2,
                  "feels_like": 15,
                  "temp_min": 15.2,
                  "temp_max": 15.2,
                  "pressure": 1018,
                  "sea_level": 1018,
                  "grnd_level": 1013,
                  "humidity": 85,
                  "temp_kf": 0
                },
                "weather": [
                  {
                    "id": 500,
                    "main": "Rain",
                    "description": "light rain",
                    "icon": "10d"
                  }
                ],
                "clouds": {
                  "all": 100
                },
                "wind": {
                  "speed": 2.39,
                  "deg": 249,
                  "gust": 5.25
                },
                "visibility": 10000,
                "pop": 0.8,
                "rain": {
                  "3h": 0.81
                },
                "sys": {
                  "pod": "d"
                },
                "dt_txt": "2022-10-16 15:00:00"
              },
              {
                "dt": 1665943200,
                "main": {
                  "temp": 13.26,
                  "feels_like": 13.04,
                  "temp_min": 13.26,
                  "temp_max": 13.26,
                  "pressure": 1021,
                  "sea_level": 1021,
                  "grnd_level": 1016,
                  "humidity": 92,
                  "temp_kf": 0
                },
                "weather": [
                  {
                    "id": 804,
                    "main": "Clouds",
                    "description": "overcast clouds",
                    "icon": "04n"
                  }
                ],
                "clouds": {
                  "all": 95
                },
                "wind": {
                  "speed": 1.65,
                  "deg": 274,
                  "gust": 2.48
                },
                "visibility": 10000,
                "pop": 0.53,
                "sys": {
                  "pod": "n"
                },
                "dt_txt": "2022-10-16 18:00:00"
              },
              {
                "dt": 1665954000,
                "main": {
                  "temp": 12.32,
                  "feels_like": 12.01,
                  "temp_min": 12.32,
                  "temp_max": 12.32,
                  "pressure": 1023,
                  "sea_level": 1023,
                  "grnd_level": 1018,
                  "humidity": 92,
                  "temp_kf": 0
                },
                "weather": [
                  {
                    "id": 802,
                    "main": "Clouds",
                    "description": "scattered clouds",
                    "icon": "03n"
                  }
                ],
                "clouds": {
                  "all": 49
                },
                "wind": {
                  "speed": 0.39,
                  "deg": 347,
                  "gust": 0.44
                },
                "visibility": 10000,
                "pop": 0,
                "sys": {
                  "pod": "n"
                },
                "dt_txt": "2022-10-16 21:00:00"
              },
              {
                "dt": 1665964800,
                "main": {
                  "temp": 12.46,
                  "feels_like": 12.14,
                  "temp_min": 12.46,
                  "temp_max": 12.46,
                  "pressure": 1024,
                  "sea_level": 1024,
                  "grnd_level": 1019,
                  "humidity": 91,
                  "temp_kf": 0
                },
                "weather": [
                  {
                    "id": 803,
                    "main": "Clouds",
                    "description": "broken clouds",
                    "icon": "04n"
                  }
                ],
                "clouds": {
                  "all": 62
                },
                "wind": {
                  "speed": 1.44,
                  "deg": 81,
                  "gust": 1.62
                },
                "visibility": 10000,
                "pop": 0,
                "sys": {
                  "pod": "n"
                },
                "dt_txt": "2022-10-17 00:00:00"
              },
              {
                "dt": 1665975600,
                "main": {
                  "temp": 11.77,
                  "feels_like": 11.46,
                  "temp_min": 11.77,
                  "temp_max": 11.77,
                  "pressure": 1024,
                  "sea_level": 1024,
                  "grnd_level": 1019,
                  "humidity": 94,
                  "temp_kf": 0
                },
                "weather": [
                  {
                    "id": 802,
                    "main": "Clouds",
                    "description": "scattered clouds",
                    "icon": "03n"
                  }
                ],
                "clouds": {
                  "all": 38
                },
                "wind": {
                  "speed": 2.28,
                  "deg": 116,
                  "gust": 4.37
                },
                "visibility": 10000,
                "pop": 0,
                "sys": {
                  "pod": "n"
                },
                "dt_txt": "2022-10-17 03:00:00"
              },
              {
                "dt": 1665986400,
                "main": {
                  "temp": 11.92,
                  "feels_like": 11.67,
                  "temp_min": 11.92,
                  "temp_max": 11.92,
                  "pressure": 1025,
                  "sea_level": 1025,
                  "grnd_level": 1020,
                  "humidity": 96,
                  "temp_kf": 0
                },
                "weather": [
                  {
                    "id": 803,
                    "main": "Clouds",
                    "description": "broken clouds",
                    "icon": "04d"
                  }
                ],
                "clouds": {
                  "all": 68
                },
                "wind": {
                  "speed": 2.42,
                  "deg": 116,
                  "gust": 5.56
                },
                "visibility": 10000,
                "pop": 0,
                "sys": {
                  "pod": "d"
                },
                "dt_txt": "2022-10-17 06:00:00"
              },
              {
                "dt": 1665997200,
                "main": {
                  "temp": 16.66,
                  "feels_like": 16.47,
                  "temp_min": 16.66,
                  "temp_max": 16.66,
                  "pressure": 1025,
                  "sea_level": 1025,
                  "grnd_level": 1020,
                  "humidity": 80,
                  "temp_kf": 0
                },
                "weather": [
                  {
                    "id": 804,
                    "main": "Clouds",
                    "description": "overcast clouds",
                    "icon": "04d"
                  }
                ],
                "clouds": {
                  "all": 87
                },
                "wind": {
                  "speed": 3.45,
                  "deg": 149,
                  "gust": 5.98
                },
                "visibility": 10000,
                "pop": 0,
                "sys": {
                  "pod": "d"
                },
                "dt_txt": "2022-10-17 09:00:00"
              },
              {
                "dt": 1666008000,
                "main": {
                  "temp": 20.53,
                  "feels_like": 20.26,
                  "temp_min": 20.53,
                  "temp_max": 20.53,
                  "pressure": 1024,
                  "sea_level": 1024,
                  "grnd_level": 1019,
                  "humidity": 62,
                  "temp_kf": 0
                },
                "weather": [
                  {
                    "id": 804,
                    "main": "Clouds",
                    "description": "overcast clouds",
                    "icon": "04d"
                  }
                ],
                "clouds": {
                  "all": 94
                },
                "wind": {
                  "speed": 3.76,
                  "deg": 173,
                  "gust": 6.54
                },
                "visibility": 10000,
                "pop": 0,
                "sys": {
                  "pod": "d"
                },
                "dt_txt": "2022-10-17 12:00:00"
              },
              {
                "dt": 1666018800,
                "main": {
                  "temp": 20.16,
                  "feels_like": 19.88,
                  "temp_min": 20.16,
                  "temp_max": 20.16,
                  "pressure": 1024,
                  "sea_level": 1024,
                  "grnd_level": 1019,
                  "humidity": 63,
                  "temp_kf": 0
                },
                "weather": [
                  {
                    "id": 804,
                    "main": "Clouds",
                    "description": "overcast clouds",
                    "icon": "04d"
                  }
                ],
                "clouds": {
                  "all": 100
                },
                "wind": {
                  "speed": 2.38,
                  "deg": 177,
                  "gust": 6.22
                },
                "visibility": 10000,
                "pop": 0,
                "sys": {
                  "pod": "d"
                },
                "dt_txt": "2022-10-17 15:00:00"
              },
              {
                "dt": 1666029600,
                "main": {
                  "temp": 17.75,
                  "feels_like": 17.46,
                  "temp_min": 17.75,
                  "temp_max": 17.75,
                  "pressure": 1024,
                  "sea_level": 1024,
                  "grnd_level": 1019,
                  "humidity": 72,
                  "temp_kf": 0
                },
                "weather": [
                  {
                    "id": 804,
                    "main": "Clouds",
                    "description": "overcast clouds",
                    "icon": "04n"
                  }
                ],
                "clouds": {
                  "all": 100
                },
                "wind": {
                  "speed": 2.54,
                  "deg": 168,
                  "gust": 5.33
                },
                "visibility": 10000,
                "pop": 0,
                "sys": {
                  "pod": "n"
                },
                "dt_txt": "2022-10-17 18:00:00"
              },
              {
                "dt": 1666040400,
                "main": {
                  "temp": 16.25,
                  "feels_like": 15.89,
                  "temp_min": 16.25,
                  "temp_max": 16.25,
                  "pressure": 1024,
                  "sea_level": 1024,
                  "grnd_level": 1019,
                  "humidity": 75,
                  "temp_kf": 0
                },
                "weather": [
                  {
                    "id": 804,
                    "main": "Clouds",
                    "description": "overcast clouds",
                    "icon": "04n"
                  }
                ],
                "clouds": {
                  "all": 91
                },
                "wind": {
                  "speed": 2.81,
                  "deg": 195,
                  "gust": 8.59
                },
                "visibility": 10000,
                "pop": 0,
                "sys": {
                  "pod": "n"
                },
                "dt_txt": "2022-10-17 21:00:00"
              },
              {
                "dt": 1666051200,
                "main": {
                  "temp": 15.57,
                  "feels_like": 15.25,
                  "temp_min": 15.57,
                  "temp_max": 15.57,
                  "pressure": 1025,
                  "sea_level": 1025,
                  "grnd_level": 1019,
                  "humidity": 79,
                  "temp_kf": 0
                },
                "weather": [
                  {
                    "id": 804,
                    "main": "Clouds",
                    "description": "overcast clouds",
                    "icon": "04n"
                  }
                ],
                "clouds": {
                  "all": 95
                },
                "wind": {
                  "speed": 2.09,
                  "deg": 242,
                  "gust": 4.54
                },
                "visibility": 10000,
                "pop": 0,
                "sys": {
                  "pod": "n"
                },
                "dt_txt": "2022-10-18 00:00:00"
              },
              {
                "dt": 1666062000,
                "main": {
                  "temp": 15.43,
                  "feels_like": 15.38,
                  "temp_min": 15.43,
                  "temp_max": 15.43,
                  "pressure": 1025,
                  "sea_level": 1025,
                  "grnd_level": 1020,
                  "humidity": 90,
                  "temp_kf": 0
                },
                "weather": [
                  {
                    "id": 804,
                    "main": "Clouds",
                    "description": "overcast clouds",
                    "icon": "04n"
                  }
                ],
                "clouds": {
                  "all": 99
                },
                "wind": {
                  "speed": 3.35,
                  "deg": 342,
                  "gust": 8.95
                },
                "visibility": 10000,
                "pop": 0.17,
                "sys": {
                  "pod": "n"
                },
                "dt_txt": "2022-10-18 03:00:00"
              },
              {
                "dt": 1666072800,
                "main": {
                  "temp": 14.9,
                  "feels_like": 14.85,
                  "temp_min": 14.9,
                  "temp_max": 14.9,
                  "pressure": 1027,
                  "sea_level": 1027,
                  "grnd_level": 1021,
                  "humidity": 92,
                  "temp_kf": 0
                },
                "weather": [
                  {
                    "id": 500,
                    "main": "Rain",
                    "description": "light rain",
                    "icon": "10d"
                  }
                ],
                "clouds": {
                  "all": 100
                },
                "wind": {
                  "speed": 1.12,
                  "deg": 16,
                  "gust": 3.71
                },
                "visibility": 10000,
                "pop": 0.82,
                "rain": {
                  "3h": 1.25
                },
                "sys": {
                  "pod": "d"
                },
                "dt_txt": "2022-10-18 06:00:00"
              },
              {
                "dt": 1666083600,
                "main": {
                  "temp": 15.01,
                  "feels_like": 15.05,
                  "temp_min": 15.01,
                  "temp_max": 15.01,
                  "pressure": 1028,
                  "sea_level": 1028,
                  "grnd_level": 1023,
                  "humidity": 95,
                  "temp_kf": 0
                },
                "weather": [
                  {
                    "id": 501,
                    "main": "Rain",
                    "description": "moderate rain",
                    "icon": "10d"
                  }
                ],
                "clouds": {
                  "all": 100
                },
                "wind": {
                  "speed": 1.48,
                  "deg": 335,
                  "gust": 3.31
                },
                "visibility": 10000,
                "pop": 0.86,
                "rain": {
                  "3h": 3.5
                },
                "sys": {
                  "pod": "d"
                },
                "dt_txt": "2022-10-18 09:00:00"
              },
              {
                "dt": 1666094400,
                "main": {
                  "temp": 15.57,
                  "feels_like": 15.43,
                  "temp_min": 15.57,
                  "temp_max": 15.57,
                  "pressure": 1028,
                  "sea_level": 1028,
                  "grnd_level": 1023,
                  "humidity": 86,
                  "temp_kf": 0
                },
                "weather": [
                  {
                    "id": 500,
                    "main": "Rain",
                    "description": "light rain",
                    "icon": "10d"
                  }
                ],
                "clouds": {
                  "all": 100
                },
                "wind": {
                  "speed": 1.99,
                  "deg": 0,
                  "gust": 3.13
                },
                "visibility": 10000,
                "pop": 0.78,
                "rain": {
                  "3h": 1.12
                },
                "sys": {
                  "pod": "d"
                },
                "dt_txt": "2022-10-18 12:00:00"
              },
              {
                "dt": 1666105200,
                "main": {
                  "temp": 14.41,
                  "feels_like": 13.86,
                  "temp_min": 14.41,
                  "temp_max": 14.41,
                  "pressure": 1029,
                  "sea_level": 1029,
                  "grnd_level": 1024,
                  "humidity": 75,
                  "temp_kf": 0
                },
                "weather": [
                  {
                    "id": 500,
                    "main": "Rain",
                    "description": "light rain",
                    "icon": "10d"
                  }
                ],
                "clouds": {
                  "all": 100
                },
                "wind": {
                  "speed": 2.48,
                  "deg": 6,
                  "gust": 4.8
                },
                "visibility": 10000,
                "pop": 0.53,
                "rain": {
                  "3h": 0.29
                },
                "sys": {
                  "pod": "d"
                },
                "dt_txt": "2022-10-18 15:00:00"
              },
              {
                "dt": 1666116000,
                "main": {
                  "temp": 11.39,
                  "feels_like": 10.67,
                  "temp_min": 11.39,
                  "temp_max": 11.39,
                  "pressure": 1029,
                  "sea_level": 1029,
                  "grnd_level": 1024,
                  "humidity": 80,
                  "temp_kf": 0
                },
                "weather": [
                  {
                    "id": 803,
                    "main": "Clouds",
                    "description": "broken clouds",
                    "icon": "04n"
                  }
                ],
                "clouds": {
                  "all": 84
                },
                "wind": {
                  "speed": 1.63,
                  "deg": 1,
                  "gust": 2.72
                },
                "visibility": 10000,
                "pop": 0.45,
                "sys": {
                  "pod": "n"
                },
                "dt_txt": "2022-10-18 18:00:00"
              },
              {
                "dt": 1666126800,
                "main": {
                  "temp": 9.91,
                  "feels_like": 9.69,
                  "temp_min": 9.91,
                  "temp_max": 9.91,
                  "pressure": 1029,
                  "sea_level": 1029,
                  "grnd_level": 1024,
                  "humidity": 82,
                  "temp_kf": 0
                },
                "weather": [
                  {
                    "id": 800,
                    "main": "Clear",
                    "description": "clear sky",
                    "icon": "01n"
                  }
                ],
                "clouds": {
                  "all": 2
                },
                "wind": {
                  "speed": 1.37,
                  "deg": 332,
                  "gust": 1.7
                },
                "visibility": 10000,
                "pop": 0,
                "sys": {
                  "pod": "n"
                },
                "dt_txt": "2022-10-18 21:00:00"
              },
              {
                "dt": 1666137600,
                "main": {
                  "temp": 8.91,
                  "feels_like": 8.42,
                  "temp_min": 8.91,
                  "temp_max": 8.91,
                  "pressure": 1029,
                  "sea_level": 1029,
                  "grnd_level": 1023,
                  "humidity": 81,
                  "temp_kf": 0
                },
                "weather": [
                  {
                    "id": 800,
                    "main": "Clear",
                    "description": "clear sky",
                    "icon": "01n"
                  }
                ],
                "clouds": {
                  "all": 1
                },
                "wind": {
                  "speed": 1.49,
                  "deg": 342,
                  "gust": 1.86
                },
                "visibility": 10000,
                "pop": 0,
                "sys": {
                  "pod": "n"
                },
                "dt_txt": "2022-10-19 00:00:00"
              },
              {
                "dt": 1666148400,
                "main": {
                  "temp": 8.16,
                  "feels_like": 8.16,
                  "temp_min": 8.16,
                  "temp_max": 8.16,
                  "pressure": 1027,
                  "sea_level": 1027,
                  "grnd_level": 1022,
                  "humidity": 80,
                  "temp_kf": 0
                },
                "weather": [
                  {
                    "id": 800,
                    "main": "Clear",
                    "description": "clear sky",
                    "icon": "01n"
                  }
                ],
                "clouds": {
                  "all": 0
                },
                "wind": {
                  "speed": 1.03,
                  "deg": 326,
                  "gust": 1.05
                },
                "visibility": 10000,
                "pop": 0,
                "sys": {
                  "pod": "n"
                },
                "dt_txt": "2022-10-19 03:00:00"
              },
              {
                "dt": 1666159200,
                "main": {
                  "temp": 7.58,
                  "feels_like": 7.58,
                  "temp_min": 7.58,
                  "temp_max": 7.58,
                  "pressure": 1027,
                  "sea_level": 1027,
                  "grnd_level": 1021,
                  "humidity": 80,
                  "temp_kf": 0
                },
                "weather": [
                  {
                    "id": 800,
                    "main": "Clear",
                    "description": "clear sky",
                    "icon": "01d"
                  }
                ],
                "clouds": {
                  "all": 0
                },
                "wind": {
                  "speed": 1.32,
                  "deg": 307,
                  "gust": 1.39
                },
                "visibility": 10000,
                "pop": 0,
                "sys": {
                  "pod": "d"
                },
                "dt_txt": "2022-10-19 06:00:00"
              },
              {
                "dt": 1666170000,
                "main": {
                  "temp": 11.47,
                  "feels_like": 10.34,
                  "temp_min": 11.47,
                  "temp_max": 11.47,
                  "pressure": 1026,
                  "sea_level": 1026,
                  "grnd_level": 1021,
                  "humidity": 64,
                  "temp_kf": 0
                },
                "weather": [
                  {
                    "id": 800,
                    "main": "Clear",
                    "description": "clear sky",
                    "icon": "01d"
                  }
                ],
                "clouds": {
                  "all": 4
                },
                "wind": {
                  "speed": 1.71,
                  "deg": 317,
                  "gust": 2.56
                },
                "visibility": 10000,
                "pop": 0,
                "sys": {
                  "pod": "d"
                },
                "dt_txt": "2022-10-19 09:00:00"
              }
            ]
          },
          "metadata": {
            "application/json": {
              "expanded": false,
              "root": "root"
            }
          },
          "execution_count": 17
        }
      ],
      "source": [
        "#This will only work in jupyter notebook so if you are using colab you can skip it\n",
        "\n",
        "from IPython.display import JSON\n",
        "# JSON() helps us preview the json in scalable way\n",
        "JSON(response.json())\n",
        "# under the node 'list' are the actual weather informations for each hour\n",
        "JSON(response.json()['list'])"
      ]
    },
    {
      "cell_type": "markdown",
      "metadata": {
        "id": "aszMbScYncmK"
      },
      "source": [
        "#### 3.2.3 Gathering the data we need from json"
      ]
    },
    {
      "cell_type": "code",
      "execution_count": 18,
      "metadata": {
        "id": "SarXLzpHncmK"
      },
      "outputs": [],
      "source": [
        "weather_dict = {'city_id': [],\n",
        "                'forecast_time': [],\n",
        "                'outlook': [],\n",
        "                'temperature': [],\n",
        "                'temperature_feels_like': [],\n",
        "                'wind_speed': [],\n",
        "                'pop': []}\n",
        "# iterating over items in 'list' node and selecting the subnodes gives us the exact info we need \n",
        "for hour in response.json()['list']:\n",
        "  weather_dict['city_id'].append(cities['City_id'][0])\n",
        "  weather_dict['temperature'].append(hour['main']['temp'])\n",
        "  weather_dict['wind_speed'].append(hour['wind']['speed'])\n",
        "  weather_dict['forecast_time'].append(hour['dt_txt'])\n",
        "  weather_dict['outlook'].append(hour['weather'][0]['description'])\n",
        "  weather_dict['temperature_feels_like'].append(hour['main']['feels_like'])\n",
        "  weather_dict['pop'].append(hour['pop'])\n"
      ]
    },
    {
      "cell_type": "markdown",
      "metadata": {
        "id": "6iOSPqwYncmK"
      },
      "source": [
        "#### 3.2.4 Creating a new weather DataFrame"
      ]
    },
    {
      "cell_type": "code",
      "execution_count": 20,
      "metadata": {
        "tags": [],
        "id": "CHc7eVe5ncmK"
      },
      "outputs": [],
      "source": [
        "weather_df = pd.DataFrame(weather_dict)"
      ]
    }
  ],
  "metadata": {
    "colab": {
      "provenance": [],
      "collapsed_sections": []
    },
    "kernelspec": {
      "display_name": "Python 3 (ipykernel)",
      "language": "python",
      "name": "python3"
    },
    "language_info": {
      "codemirror_mode": {
        "name": "ipython",
        "version": 3
      },
      "file_extension": ".py",
      "mimetype": "text/x-python",
      "name": "python",
      "nbconvert_exporter": "python",
      "pygments_lexer": "ipython3",
      "version": "3.9.7"
    }
  },
  "nbformat": 4,
  "nbformat_minor": 0
}