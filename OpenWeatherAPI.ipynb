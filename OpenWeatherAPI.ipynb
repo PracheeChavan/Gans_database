{
  "cells": [
    {
      "cell_type": "markdown",
      "metadata": {
        "id": "-QVe-eC2ncmA"
      },
      "source": [
        "# Open Weather Map API"
      ]
    },
    {
      "cell_type": "markdown",
      "metadata": {
        "id": "KOtYIXtnncmC"
      },
      "source": [
        "## 1. create a dummy 'cities' DataFrame"
      ]
    },
    {
      "cell_type": "code",
      "execution_count": null,
      "metadata": {
        "id": "iKfhR6O1owVz"
      },
      "outputs": [],
      "source": [
        "import pandas as pd\n",
        "!pip install PyMySQL\n",
        "import pymysql\n",
        "import sqlalchemy "
      ]
    },
    {
      "cell_type": "code",
      "execution_count": null,
      "metadata": {
        "colab": {
          "base_uri": "https://localhost:8080/",
          "height": 81
        },
        "id": "b-7ftNMNrGjc",
        "outputId": "002ed872-b3d4-4a0c-8d5b-973b64290eb5"
      },
      "outputs": [
        {
          "output_type": "execute_result",
          "data": {
            "text/plain": [
              "   City_id    City Country_code\n",
              "0        1  Berlin           DE"
            ],
            "text/html": [
              "\n",
              "  <div id=\"df-33edc984-5ca2-4434-878a-035f05e3fe99\">\n",
              "    <div class=\"colab-df-container\">\n",
              "      <div>\n",
              "<style scoped>\n",
              "    .dataframe tbody tr th:only-of-type {\n",
              "        vertical-align: middle;\n",
              "    }\n",
              "\n",
              "    .dataframe tbody tr th {\n",
              "        vertical-align: top;\n",
              "    }\n",
              "\n",
              "    .dataframe thead th {\n",
              "        text-align: right;\n",
              "    }\n",
              "</style>\n",
              "<table border=\"1\" class=\"dataframe\">\n",
              "  <thead>\n",
              "    <tr style=\"text-align: right;\">\n",
              "      <th></th>\n",
              "      <th>City_id</th>\n",
              "      <th>City</th>\n",
              "      <th>Country_code</th>\n",
              "    </tr>\n",
              "  </thead>\n",
              "  <tbody>\n",
              "    <tr>\n",
              "      <th>0</th>\n",
              "      <td>1</td>\n",
              "      <td>Berlin</td>\n",
              "      <td>DE</td>\n",
              "    </tr>\n",
              "  </tbody>\n",
              "</table>\n",
              "</div>\n",
              "      <button class=\"colab-df-convert\" onclick=\"convertToInteractive('df-33edc984-5ca2-4434-878a-035f05e3fe99')\"\n",
              "              title=\"Convert this dataframe to an interactive table.\"\n",
              "              style=\"display:none;\">\n",
              "        \n",
              "  <svg xmlns=\"http://www.w3.org/2000/svg\" height=\"24px\"viewBox=\"0 0 24 24\"\n",
              "       width=\"24px\">\n",
              "    <path d=\"M0 0h24v24H0V0z\" fill=\"none\"/>\n",
              "    <path d=\"M18.56 5.44l.94 2.06.94-2.06 2.06-.94-2.06-.94-.94-2.06-.94 2.06-2.06.94zm-11 1L8.5 8.5l.94-2.06 2.06-.94-2.06-.94L8.5 2.5l-.94 2.06-2.06.94zm10 10l.94 2.06.94-2.06 2.06-.94-2.06-.94-.94-2.06-.94 2.06-2.06.94z\"/><path d=\"M17.41 7.96l-1.37-1.37c-.4-.4-.92-.59-1.43-.59-.52 0-1.04.2-1.43.59L10.3 9.45l-7.72 7.72c-.78.78-.78 2.05 0 2.83L4 21.41c.39.39.9.59 1.41.59.51 0 1.02-.2 1.41-.59l7.78-7.78 2.81-2.81c.8-.78.8-2.07 0-2.86zM5.41 20L4 18.59l7.72-7.72 1.47 1.35L5.41 20z\"/>\n",
              "  </svg>\n",
              "      </button>\n",
              "      \n",
              "  <style>\n",
              "    .colab-df-container {\n",
              "      display:flex;\n",
              "      flex-wrap:wrap;\n",
              "      gap: 12px;\n",
              "    }\n",
              "\n",
              "    .colab-df-convert {\n",
              "      background-color: #E8F0FE;\n",
              "      border: none;\n",
              "      border-radius: 50%;\n",
              "      cursor: pointer;\n",
              "      display: none;\n",
              "      fill: #1967D2;\n",
              "      height: 32px;\n",
              "      padding: 0 0 0 0;\n",
              "      width: 32px;\n",
              "    }\n",
              "\n",
              "    .colab-df-convert:hover {\n",
              "      background-color: #E2EBFA;\n",
              "      box-shadow: 0px 1px 2px rgba(60, 64, 67, 0.3), 0px 1px 3px 1px rgba(60, 64, 67, 0.15);\n",
              "      fill: #174EA6;\n",
              "    }\n",
              "\n",
              "    [theme=dark] .colab-df-convert {\n",
              "      background-color: #3B4455;\n",
              "      fill: #D2E3FC;\n",
              "    }\n",
              "\n",
              "    [theme=dark] .colab-df-convert:hover {\n",
              "      background-color: #434B5C;\n",
              "      box-shadow: 0px 1px 3px 1px rgba(0, 0, 0, 0.15);\n",
              "      filter: drop-shadow(0px 1px 2px rgba(0, 0, 0, 0.3));\n",
              "      fill: #FFFFFF;\n",
              "    }\n",
              "  </style>\n",
              "\n",
              "      <script>\n",
              "        const buttonEl =\n",
              "          document.querySelector('#df-33edc984-5ca2-4434-878a-035f05e3fe99 button.colab-df-convert');\n",
              "        buttonEl.style.display =\n",
              "          google.colab.kernel.accessAllowed ? 'block' : 'none';\n",
              "\n",
              "        async function convertToInteractive(key) {\n",
              "          const element = document.querySelector('#df-33edc984-5ca2-4434-878a-035f05e3fe99');\n",
              "          const dataTable =\n",
              "            await google.colab.kernel.invokeFunction('convertToInteractive',\n",
              "                                                     [key], {});\n",
              "          if (!dataTable) return;\n",
              "\n",
              "          const docLinkHtml = 'Like what you see? Visit the ' +\n",
              "            '<a target=\"_blank\" href=https://colab.research.google.com/notebooks/data_table.ipynb>data table notebook</a>'\n",
              "            + ' to learn more about interactive tables.';\n",
              "          element.innerHTML = '';\n",
              "          dataTable['output_type'] = 'display_data';\n",
              "          await google.colab.output.renderOutput(dataTable, element);\n",
              "          const docLink = document.createElement('div');\n",
              "          docLink.innerHTML = docLinkHtml;\n",
              "          element.appendChild(docLink);\n",
              "        }\n",
              "      </script>\n",
              "    </div>\n",
              "  </div>\n",
              "  "
            ]
          },
          "metadata": {},
          "execution_count": 2
        }
      ],
      "source": [
        "# sample cities DataFrame for exercises\n",
        "\n",
        "cities = pd.DataFrame(data = {'City_id' : [1],'City' : ['Berlin'], 'Country_code' : ['DE']})"
      ]
    },
    {
      "cell_type": "code",
      "source": [
        "schema=\"gans_database\"   # name of the database you want to use here\n",
        "host=\"127.0.0.1\"        # to connect to your local server\n",
        "user=\"root\"\n",
        "password=\"SharpGajanan9860\" # your password!!!!\n",
        "port=3306\n",
        "con = f'mysql+pymysql://{user}:{password}@{host}:{port}/{schema}'"
      ],
      "metadata": {
        "id": "wutaB3OLeRj1"
      },
      "execution_count": null,
      "outputs": []
    },
    {
      "cell_type": "markdown",
      "metadata": {
        "id": "4gWETwVencmF"
      },
      "source": [
        "## 2. API key"
      ]
    },
    {
      "cell_type": "markdown",
      "metadata": {
        "id": "uIAws09asuSL"
      },
      "source": [
        "Don't forget that for OpenWeatherAPI you need an API key"
      ]
    },
    {
      "cell_type": "code",
      "execution_count": null,
      "metadata": {
        "id": "71kCoqKWs008"
      },
      "outputs": [],
      "source": [
        "# please use your own API key\n",
        "OWM_key = 'cf36567c4cb288fd1cd39a18cbfc1b5b'"
      ]
    },
    {
      "cell_type": "markdown",
      "metadata": {
        "id": "saUYQSYWncmF"
      },
      "source": [
        "## 3. Different approaches"
      ]
    },
    {
      "cell_type": "markdown",
      "metadata": {
        "id": "UUkoeNZNo_Uo"
      },
      "source": [
        "As we saw in the Spotify example, for some API's there could be a Python wrapper that can help you get the data in easier and simpler way.  \n",
        "Here, we will see two different approaches to OpenWeather API:\n",
        "1. with PyOWM - Python wrapper library\n",
        "2. without the wrapper"
      ]
    },
    {
      "cell_type": "markdown",
      "metadata": {
        "id": "j-fyK41tpi2M"
      },
      "source": [
        "### 3.1 Approach with a wrapper (PyOWM)"
      ]
    },
    {
      "cell_type": "markdown",
      "metadata": {
        "id": "Jze9Gbcnpm-J"
      },
      "source": [
        "Documentation for PyOWM you can find here: https://pyowm.readthedocs.io/en/latest/"
      ]
    },
    {
      "cell_type": "code",
      "execution_count": null,
      "metadata": {
        "id": "WkjX1bMVq9jA",
        "colab": {
          "base_uri": "https://localhost:8080/"
        },
        "outputId": "3a14ed38-827b-4fe5-af1e-04df06cc5183"
      },
      "outputs": [
        {
          "output_type": "stream",
          "name": "stdout",
          "text": [
            "Looking in indexes: https://pypi.org/simple, https://us-python.pkg.dev/colab-wheels/public/simple/\n",
            "Collecting pyowm\n",
            "  Downloading pyowm-3.3.0-py3-none-any.whl (4.5 MB)\n",
            "\u001b[K     |████████████████████████████████| 4.5 MB 27.7 MB/s \n",
            "\u001b[?25hRequirement already satisfied: requests[socks] in /usr/local/lib/python3.7/dist-packages (from pyowm) (2.23.0)\n",
            "Collecting geojson<3,>=2.3.0\n",
            "  Downloading geojson-2.5.0-py2.py3-none-any.whl (14 kB)\n",
            "Requirement already satisfied: PySocks<2,>=1.7.1 in /usr/local/lib/python3.7/dist-packages (from pyowm) (1.7.1)\n",
            "Requirement already satisfied: urllib3!=1.25.0,!=1.25.1,<1.26,>=1.21.1 in /usr/local/lib/python3.7/dist-packages (from requests[socks]->pyowm) (1.24.3)\n",
            "Requirement already satisfied: idna<3,>=2.5 in /usr/local/lib/python3.7/dist-packages (from requests[socks]->pyowm) (2.10)\n",
            "Requirement already satisfied: chardet<4,>=3.0.2 in /usr/local/lib/python3.7/dist-packages (from requests[socks]->pyowm) (3.0.4)\n",
            "Requirement already satisfied: certifi>=2017.4.17 in /usr/local/lib/python3.7/dist-packages (from requests[socks]->pyowm) (2022.6.15)\n",
            "Installing collected packages: geojson, pyowm\n",
            "Successfully installed geojson-2.5.0 pyowm-3.3.0\n"
          ]
        }
      ],
      "source": [
        "!pip install -U pyowm\n",
        "\n",
        "from pyowm.owm import OWM"
      ]
    },
    {
      "cell_type": "markdown",
      "metadata": {
        "id": "fnO-CNegX5K5"
      },
      "source": [
        "If you go to https://pyowm.readthedocs.io/en/latest/v3/code-recipes.html#weather_data you can get code example to get example how to get wind speed in 3h from now:"
      ]
    },
    {
      "cell_type": "code",
      "execution_count": null,
      "metadata": {
        "colab": {
          "base_uri": "https://localhost:8080/"
        },
        "id": "7or9enoDYR0P",
        "outputId": "fd928f8e-c3a5-4916-afd2-68fa60ae2270"
      },
      "outputs": [
        {
          "output_type": "execute_result",
          "data": {
            "text/plain": [
              "2.59"
            ]
          },
          "metadata": {},
          "execution_count": 5
        }
      ],
      "source": [
        "owm = OWM(OWM_key)\n",
        "mgr = owm.weather_manager()\n",
        "one_call = mgr.one_call(lat=52.5244, lon=13.4105)\n",
        "\n",
        "one_call.forecast_hourly[3].wind().get('speed', 0)"
      ]
    },
    {
      "cell_type": "markdown",
      "metadata": {
        "id": "zT7g0LWcYnKV"
      },
      "source": [
        "Problem with PyOWM is that except for few code examples, they don't provide much details about their classes or methods, so working with this wrapper would have to include a lot of testing and exploration on your own, or even looking into raw code on their GitHub."
      ]
    },
    {
      "cell_type": "markdown",
      "metadata": {
        "id": "pGF9FUXMZAdI",
        "jp-MarkdownHeadingCollapsed": true,
        "tags": []
      },
      "source": [
        "#### *BONUS* If you still want to use a wrapper, check the following code for an example:"
      ]
    },
    {
      "cell_type": "code",
      "execution_count": null,
      "metadata": {
        "id": "xexg0XZWsPL6"
      },
      "outputs": [],
      "source": [
        "owm = OWM(OWM_key)\n",
        "mgr = owm.weather_manager()"
      ]
    },
    {
      "cell_type": "code",
      "execution_count": null,
      "metadata": {
        "id": "Nw0egfyYncmH"
      },
      "outputs": [],
      "source": [
        "mgr_geo = owm.geocoding_manager()\n",
        "\n",
        "# geocode Berlin (no country specified) - we'll get many results\n",
        "list_of_locations = mgr_geo.geocode(cities['City'][0])\n",
        "city = list_of_locations[0]  # taking the first Berlin in the list\n",
        "lat = city.lat\n",
        "lon = city.lon "
      ]
    },
    {
      "cell_type": "code",
      "execution_count": null,
      "metadata": {
        "id": "btZX06ouD95w"
      },
      "outputs": [],
      "source": [
        "one_call = mgr.one_call(lat=lat, lon=lon, units='metric', timeformat='date')\n",
        "\n",
        "hourly_forecast = one_call.forecast_hourly"
      ]
    },
    {
      "cell_type": "code",
      "execution_count": null,
      "metadata": {
        "id": "4CdnRKIZEG3H",
        "jupyter": {
          "outputs_hidden": true
        },
        "tags": []
      },
      "outputs": [],
      "source": [
        "hourly_forecast #it is a list of Weather objects"
      ]
    },
    {
      "cell_type": "code",
      "execution_count": null,
      "metadata": {
        "id": "oI-YjC6jgBRR"
      },
      "outputs": [],
      "source": [
        "weather_dict = {'city_id': [],\n",
        "                'forecast_time': [],\n",
        "                'outlook': [],\n",
        "                'temperature': [],\n",
        "                'temperature_feels_like': [],\n",
        "                'wind_speed': [],\n",
        "                'pop': []}\n",
        "for i in range(round(len(hourly_forecast)/3)):\n",
        "  index = i*3 #because we want forecast for every 3 hours\n",
        "  weather_dict['city_id'].append(cities['City_id'][0])\n",
        "  weather_dict['temperature'].append(hourly_forecast[index].temperature().get('temp'))\n",
        "  weather_dict['wind_speed'].append(hourly_forecast[index].wind().get('speed'))\n",
        "  weather_dict['forecast_time'].append(hourly_forecast[index].reference_time(timeformat='iso'))\n",
        "  weather_dict['outlook'].append(hourly_forecast[index].detailed_status)\n",
        "  weather_dict['temperature_feels_like'].append(hourly_forecast[index].temperature().get('feels_like'))\n",
        "  weather_dict['pop'].append(hourly_forecast[index].precipitation_probability)\n",
        "\n"
      ]
    },
    {
      "cell_type": "code",
      "execution_count": null,
      "metadata": {
        "colab": {
          "base_uri": "https://localhost:8080/",
          "height": 551
        },
        "id": "HcfBie_jhiqJ",
        "outputId": "62044136-5856-4c7a-d646-bc1dadfbdd0a"
      },
      "outputs": [
        {
          "output_type": "execute_result",
          "data": {
            "text/plain": [
              "    city_id              forecast_time           outlook  temperature  \\\n",
              "0         1  2022-09-30 13:00:00+00:00        few clouds        17.28   \n",
              "1         1  2022-09-30 16:00:00+00:00        few clouds        16.71   \n",
              "2         1  2022-09-30 19:00:00+00:00         clear sky        12.64   \n",
              "3         1  2022-09-30 22:00:00+00:00         clear sky        11.02   \n",
              "4         1  2022-10-01 01:00:00+00:00        few clouds        10.28   \n",
              "5         1  2022-10-01 04:00:00+00:00     broken clouds        10.24   \n",
              "6         1  2022-10-01 07:00:00+00:00   overcast clouds        11.72   \n",
              "7         1  2022-10-01 10:00:00+00:00        light rain        11.08   \n",
              "8         1  2022-10-01 13:00:00+00:00     moderate rain        10.47   \n",
              "9         1  2022-10-01 16:00:00+00:00        light rain        11.50   \n",
              "10        1  2022-10-01 19:00:00+00:00   overcast clouds        11.92   \n",
              "11        1  2022-10-01 22:00:00+00:00     broken clouds        11.30   \n",
              "12        1  2022-10-02 01:00:00+00:00     broken clouds        10.40   \n",
              "13        1  2022-10-02 04:00:00+00:00  scattered clouds        10.01   \n",
              "14        1  2022-10-02 07:00:00+00:00   overcast clouds        11.30   \n",
              "15        1  2022-10-02 10:00:00+00:00        light rain        14.67   \n",
              "\n",
              "    temperature_feels_like  wind_speed   pop  \n",
              "0                    16.40        3.04  0.00  \n",
              "1                    15.74        2.59  0.00  \n",
              "2                    11.40        2.39  0.00  \n",
              "3                     9.72        2.86  0.00  \n",
              "4                     9.03        3.22  0.00  \n",
              "5                     9.07        4.32  0.00  \n",
              "6                    10.62        5.02  0.00  \n",
              "7                    10.33        6.17  0.73  \n",
              "8                     9.95        5.52  1.00  \n",
              "9                    11.03        5.29  1.00  \n",
              "10                   11.49        5.60  0.26  \n",
              "11                   10.89        5.77  0.12  \n",
              "12                    9.90        4.76  0.00  \n",
              "13                    9.44        5.32  0.00  \n",
              "14                   10.73        5.80  0.00  \n",
              "15                   14.07        7.21  0.20  "
            ],
            "text/html": [
              "\n",
              "  <div id=\"df-36d9766f-cb33-49f5-be87-3f6d32d31603\">\n",
              "    <div class=\"colab-df-container\">\n",
              "      <div>\n",
              "<style scoped>\n",
              "    .dataframe tbody tr th:only-of-type {\n",
              "        vertical-align: middle;\n",
              "    }\n",
              "\n",
              "    .dataframe tbody tr th {\n",
              "        vertical-align: top;\n",
              "    }\n",
              "\n",
              "    .dataframe thead th {\n",
              "        text-align: right;\n",
              "    }\n",
              "</style>\n",
              "<table border=\"1\" class=\"dataframe\">\n",
              "  <thead>\n",
              "    <tr style=\"text-align: right;\">\n",
              "      <th></th>\n",
              "      <th>city_id</th>\n",
              "      <th>forecast_time</th>\n",
              "      <th>outlook</th>\n",
              "      <th>temperature</th>\n",
              "      <th>temperature_feels_like</th>\n",
              "      <th>wind_speed</th>\n",
              "      <th>pop</th>\n",
              "    </tr>\n",
              "  </thead>\n",
              "  <tbody>\n",
              "    <tr>\n",
              "      <th>0</th>\n",
              "      <td>1</td>\n",
              "      <td>2022-09-30 13:00:00+00:00</td>\n",
              "      <td>few clouds</td>\n",
              "      <td>17.28</td>\n",
              "      <td>16.40</td>\n",
              "      <td>3.04</td>\n",
              "      <td>0.00</td>\n",
              "    </tr>\n",
              "    <tr>\n",
              "      <th>1</th>\n",
              "      <td>1</td>\n",
              "      <td>2022-09-30 16:00:00+00:00</td>\n",
              "      <td>few clouds</td>\n",
              "      <td>16.71</td>\n",
              "      <td>15.74</td>\n",
              "      <td>2.59</td>\n",
              "      <td>0.00</td>\n",
              "    </tr>\n",
              "    <tr>\n",
              "      <th>2</th>\n",
              "      <td>1</td>\n",
              "      <td>2022-09-30 19:00:00+00:00</td>\n",
              "      <td>clear sky</td>\n",
              "      <td>12.64</td>\n",
              "      <td>11.40</td>\n",
              "      <td>2.39</td>\n",
              "      <td>0.00</td>\n",
              "    </tr>\n",
              "    <tr>\n",
              "      <th>3</th>\n",
              "      <td>1</td>\n",
              "      <td>2022-09-30 22:00:00+00:00</td>\n",
              "      <td>clear sky</td>\n",
              "      <td>11.02</td>\n",
              "      <td>9.72</td>\n",
              "      <td>2.86</td>\n",
              "      <td>0.00</td>\n",
              "    </tr>\n",
              "    <tr>\n",
              "      <th>4</th>\n",
              "      <td>1</td>\n",
              "      <td>2022-10-01 01:00:00+00:00</td>\n",
              "      <td>few clouds</td>\n",
              "      <td>10.28</td>\n",
              "      <td>9.03</td>\n",
              "      <td>3.22</td>\n",
              "      <td>0.00</td>\n",
              "    </tr>\n",
              "    <tr>\n",
              "      <th>5</th>\n",
              "      <td>1</td>\n",
              "      <td>2022-10-01 04:00:00+00:00</td>\n",
              "      <td>broken clouds</td>\n",
              "      <td>10.24</td>\n",
              "      <td>9.07</td>\n",
              "      <td>4.32</td>\n",
              "      <td>0.00</td>\n",
              "    </tr>\n",
              "    <tr>\n",
              "      <th>6</th>\n",
              "      <td>1</td>\n",
              "      <td>2022-10-01 07:00:00+00:00</td>\n",
              "      <td>overcast clouds</td>\n",
              "      <td>11.72</td>\n",
              "      <td>10.62</td>\n",
              "      <td>5.02</td>\n",
              "      <td>0.00</td>\n",
              "    </tr>\n",
              "    <tr>\n",
              "      <th>7</th>\n",
              "      <td>1</td>\n",
              "      <td>2022-10-01 10:00:00+00:00</td>\n",
              "      <td>light rain</td>\n",
              "      <td>11.08</td>\n",
              "      <td>10.33</td>\n",
              "      <td>6.17</td>\n",
              "      <td>0.73</td>\n",
              "    </tr>\n",
              "    <tr>\n",
              "      <th>8</th>\n",
              "      <td>1</td>\n",
              "      <td>2022-10-01 13:00:00+00:00</td>\n",
              "      <td>moderate rain</td>\n",
              "      <td>10.47</td>\n",
              "      <td>9.95</td>\n",
              "      <td>5.52</td>\n",
              "      <td>1.00</td>\n",
              "    </tr>\n",
              "    <tr>\n",
              "      <th>9</th>\n",
              "      <td>1</td>\n",
              "      <td>2022-10-01 16:00:00+00:00</td>\n",
              "      <td>light rain</td>\n",
              "      <td>11.50</td>\n",
              "      <td>11.03</td>\n",
              "      <td>5.29</td>\n",
              "      <td>1.00</td>\n",
              "    </tr>\n",
              "    <tr>\n",
              "      <th>10</th>\n",
              "      <td>1</td>\n",
              "      <td>2022-10-01 19:00:00+00:00</td>\n",
              "      <td>overcast clouds</td>\n",
              "      <td>11.92</td>\n",
              "      <td>11.49</td>\n",
              "      <td>5.60</td>\n",
              "      <td>0.26</td>\n",
              "    </tr>\n",
              "    <tr>\n",
              "      <th>11</th>\n",
              "      <td>1</td>\n",
              "      <td>2022-10-01 22:00:00+00:00</td>\n",
              "      <td>broken clouds</td>\n",
              "      <td>11.30</td>\n",
              "      <td>10.89</td>\n",
              "      <td>5.77</td>\n",
              "      <td>0.12</td>\n",
              "    </tr>\n",
              "    <tr>\n",
              "      <th>12</th>\n",
              "      <td>1</td>\n",
              "      <td>2022-10-02 01:00:00+00:00</td>\n",
              "      <td>broken clouds</td>\n",
              "      <td>10.40</td>\n",
              "      <td>9.90</td>\n",
              "      <td>4.76</td>\n",
              "      <td>0.00</td>\n",
              "    </tr>\n",
              "    <tr>\n",
              "      <th>13</th>\n",
              "      <td>1</td>\n",
              "      <td>2022-10-02 04:00:00+00:00</td>\n",
              "      <td>scattered clouds</td>\n",
              "      <td>10.01</td>\n",
              "      <td>9.44</td>\n",
              "      <td>5.32</td>\n",
              "      <td>0.00</td>\n",
              "    </tr>\n",
              "    <tr>\n",
              "      <th>14</th>\n",
              "      <td>1</td>\n",
              "      <td>2022-10-02 07:00:00+00:00</td>\n",
              "      <td>overcast clouds</td>\n",
              "      <td>11.30</td>\n",
              "      <td>10.73</td>\n",
              "      <td>5.80</td>\n",
              "      <td>0.00</td>\n",
              "    </tr>\n",
              "    <tr>\n",
              "      <th>15</th>\n",
              "      <td>1</td>\n",
              "      <td>2022-10-02 10:00:00+00:00</td>\n",
              "      <td>light rain</td>\n",
              "      <td>14.67</td>\n",
              "      <td>14.07</td>\n",
              "      <td>7.21</td>\n",
              "      <td>0.20</td>\n",
              "    </tr>\n",
              "  </tbody>\n",
              "</table>\n",
              "</div>\n",
              "      <button class=\"colab-df-convert\" onclick=\"convertToInteractive('df-36d9766f-cb33-49f5-be87-3f6d32d31603')\"\n",
              "              title=\"Convert this dataframe to an interactive table.\"\n",
              "              style=\"display:none;\">\n",
              "        \n",
              "  <svg xmlns=\"http://www.w3.org/2000/svg\" height=\"24px\"viewBox=\"0 0 24 24\"\n",
              "       width=\"24px\">\n",
              "    <path d=\"M0 0h24v24H0V0z\" fill=\"none\"/>\n",
              "    <path d=\"M18.56 5.44l.94 2.06.94-2.06 2.06-.94-2.06-.94-.94-2.06-.94 2.06-2.06.94zm-11 1L8.5 8.5l.94-2.06 2.06-.94-2.06-.94L8.5 2.5l-.94 2.06-2.06.94zm10 10l.94 2.06.94-2.06 2.06-.94-2.06-.94-.94-2.06-.94 2.06-2.06.94z\"/><path d=\"M17.41 7.96l-1.37-1.37c-.4-.4-.92-.59-1.43-.59-.52 0-1.04.2-1.43.59L10.3 9.45l-7.72 7.72c-.78.78-.78 2.05 0 2.83L4 21.41c.39.39.9.59 1.41.59.51 0 1.02-.2 1.41-.59l7.78-7.78 2.81-2.81c.8-.78.8-2.07 0-2.86zM5.41 20L4 18.59l7.72-7.72 1.47 1.35L5.41 20z\"/>\n",
              "  </svg>\n",
              "      </button>\n",
              "      \n",
              "  <style>\n",
              "    .colab-df-container {\n",
              "      display:flex;\n",
              "      flex-wrap:wrap;\n",
              "      gap: 12px;\n",
              "    }\n",
              "\n",
              "    .colab-df-convert {\n",
              "      background-color: #E8F0FE;\n",
              "      border: none;\n",
              "      border-radius: 50%;\n",
              "      cursor: pointer;\n",
              "      display: none;\n",
              "      fill: #1967D2;\n",
              "      height: 32px;\n",
              "      padding: 0 0 0 0;\n",
              "      width: 32px;\n",
              "    }\n",
              "\n",
              "    .colab-df-convert:hover {\n",
              "      background-color: #E2EBFA;\n",
              "      box-shadow: 0px 1px 2px rgba(60, 64, 67, 0.3), 0px 1px 3px 1px rgba(60, 64, 67, 0.15);\n",
              "      fill: #174EA6;\n",
              "    }\n",
              "\n",
              "    [theme=dark] .colab-df-convert {\n",
              "      background-color: #3B4455;\n",
              "      fill: #D2E3FC;\n",
              "    }\n",
              "\n",
              "    [theme=dark] .colab-df-convert:hover {\n",
              "      background-color: #434B5C;\n",
              "      box-shadow: 0px 1px 3px 1px rgba(0, 0, 0, 0.15);\n",
              "      filter: drop-shadow(0px 1px 2px rgba(0, 0, 0, 0.3));\n",
              "      fill: #FFFFFF;\n",
              "    }\n",
              "  </style>\n",
              "\n",
              "      <script>\n",
              "        const buttonEl =\n",
              "          document.querySelector('#df-36d9766f-cb33-49f5-be87-3f6d32d31603 button.colab-df-convert');\n",
              "        buttonEl.style.display =\n",
              "          google.colab.kernel.accessAllowed ? 'block' : 'none';\n",
              "\n",
              "        async function convertToInteractive(key) {\n",
              "          const element = document.querySelector('#df-36d9766f-cb33-49f5-be87-3f6d32d31603');\n",
              "          const dataTable =\n",
              "            await google.colab.kernel.invokeFunction('convertToInteractive',\n",
              "                                                     [key], {});\n",
              "          if (!dataTable) return;\n",
              "\n",
              "          const docLinkHtml = 'Like what you see? Visit the ' +\n",
              "            '<a target=\"_blank\" href=https://colab.research.google.com/notebooks/data_table.ipynb>data table notebook</a>'\n",
              "            + ' to learn more about interactive tables.';\n",
              "          element.innerHTML = '';\n",
              "          dataTable['output_type'] = 'display_data';\n",
              "          await google.colab.output.renderOutput(dataTable, element);\n",
              "          const docLink = document.createElement('div');\n",
              "          docLink.innerHTML = docLinkHtml;\n",
              "          element.appendChild(docLink);\n",
              "        }\n",
              "      </script>\n",
              "    </div>\n",
              "  </div>\n",
              "  "
            ]
          },
          "metadata": {},
          "execution_count": 11
        }
      ],
      "source": [
        "weather_df = pd.DataFrame(weather_dict)"
      ]
    },
    {
      "cell_type": "markdown",
      "metadata": {
        "id": "sYk0kjFtZPmS"
      },
      "source": [
        "## 3.2 Approach without a wrapper"
      ]
    },
    {
      "cell_type": "markdown",
      "metadata": {
        "id": "hOVbwo__ZgeJ"
      },
      "source": [
        "OpenWeatherMap API has a nice documentation and you can find it here: https://openweathermap.org/api"
      ]
    },
    {
      "cell_type": "markdown",
      "metadata": {
        "id": "v-1ZmczpZni9"
      },
      "source": [
        "We are going to use 5 day / 3 hour forecast https://openweathermap.org/forecast5"
      ]
    },
    {
      "cell_type": "markdown",
      "metadata": {
        "id": "7urlZlrfahxo"
      },
      "source": [
        "Provided at their docmentation you can find an example of API call with only having info about city name and country_code\n",
        "https://openweathermap.org/forecast5#name5\n",
        "\n",
        "`api.openweathermap.org/data/2.5/forecast?q={city name},{country code}&appid={API key}`\n",
        "\n",
        "- city name and country code have to be in format e.g. ('Berin,DE')\n",
        "- appid is your unique API key\n",
        "- you can also add units which can be 'standard', 'metric', 'imperial'\n",
        "- or lang for languages e.g. 'de', 'it' etc.\n",
        "- or cnt for number of timestamps in response\n",
        "\n",
        "You can also find an example of API call with having info about latitude and longitude  \n",
        "https://openweathermap.org/forecast5#geo5\n",
        "\n",
        "api.openweathermap.org/data/2.5/forecast?lat={lat}&lon={lon}&appid={API key}\n",
        "\n",
        "You can choose your own approach. We will show here the approach with city name and country code"
      ]
    },
    {
      "cell_type": "markdown",
      "metadata": {
        "id": "O19dQ_G7ncmJ"
      },
      "source": [
        "#### 3.2.1 Creating a request"
      ]
    },
    {
      "cell_type": "code",
      "execution_count": null,
      "metadata": {
        "tags": [],
        "id": "x6gbiadIncmJ"
      },
      "outputs": [],
      "source": [
        "import requests"
      ]
    },
    {
      "cell_type": "code",
      "execution_count": null,
      "metadata": {
        "id": "fYlOihiAncmJ"
      },
      "outputs": [],
      "source": [
        "url = f\"http://api.openweathermap.org/data/2.5/forecast?q={cities['City'][0]},{cities['Country_code'][0]}&appid={OWM_key}&units=metric\"\n",
        "response = requests.get(url)"
      ]
    },
    {
      "cell_type": "code",
      "execution_count": null,
      "metadata": {
        "colab": {
          "base_uri": "https://localhost:8080/"
        },
        "id": "Kybfn8FvncmJ",
        "outputId": "e7db7392-3f9c-45d7-9edf-7c19d851345c"
      },
      "outputs": [
        {
          "output_type": "execute_result",
          "data": {
            "text/plain": [
              "200"
            ]
          },
          "metadata": {},
          "execution_count": 14
        }
      ],
      "source": [
        "response = requests.get(url)\n",
        "response.status_code"
      ]
    },
    {
      "cell_type": "markdown",
      "metadata": {
        "id": "-d4A47JencmJ"
      },
      "source": [
        "#### 3.2.2 Exploring the response (json)\n",
        "\n",
        "You can copy paste your json response output to one of many online json viewers to see your json in nicer and more practical way\n",
        "http://jsonviewer.stack.hu/"
      ]
    },
    {
      "cell_type": "code",
      "execution_count": null,
      "metadata": {
        "collapsed": true,
        "jupyter": {
          "outputs_hidden": true
        },
        "tags": [],
        "colab": {
          "base_uri": "https://localhost:8080/"
        },
        "id": "xIDfsGpfncmJ",
        "outputId": "3fd7300c-2fda-4612-b585-023c54f7e61b"
      },
      "outputs": [
        {
          "output_type": "execute_result",
          "data": {
            "text/plain": [
              "{'cod': '200',\n",
              " 'message': 0,\n",
              " 'cnt': 40,\n",
              " 'list': [{'dt': 1664550000,\n",
              "   'main': {'temp': 17.26,\n",
              "    'feels_like': 16.45,\n",
              "    'temp_min': 16.95,\n",
              "    'temp_max': 17.26,\n",
              "    'pressure': 1011,\n",
              "    'sea_level': 1011,\n",
              "    'grnd_level': 1006,\n",
              "    'humidity': 54,\n",
              "    'temp_kf': 0.31},\n",
              "   'weather': [{'id': 801,\n",
              "     'main': 'Clouds',\n",
              "     'description': 'few clouds',\n",
              "     'icon': '02d'}],\n",
              "   'clouds': {'all': 20},\n",
              "   'wind': {'speed': 3.08, 'deg': 214, 'gust': 4.21},\n",
              "   'visibility': 10000,\n",
              "   'pop': 0,\n",
              "   'sys': {'pod': 'd'},\n",
              "   'dt_txt': '2022-09-30 15:00:00'},\n",
              "  {'dt': 1664560800,\n",
              "   'main': {'temp': 15.95,\n",
              "    'feels_like': 14.98,\n",
              "    'temp_min': 13.34,\n",
              "    'temp_max': 15.95,\n",
              "    'pressure': 1011,\n",
              "    'sea_level': 1011,\n",
              "    'grnd_level': 1006,\n",
              "    'humidity': 53,\n",
              "    'temp_kf': 2.61},\n",
              "   'weather': [{'id': 801,\n",
              "     'main': 'Clouds',\n",
              "     'description': 'few clouds',\n",
              "     'icon': '02n'}],\n",
              "   'clouds': {'all': 18},\n",
              "   'wind': {'speed': 2.45, 'deg': 183, 'gust': 4.98},\n",
              "   'visibility': 10000,\n",
              "   'pop': 0,\n",
              "   'sys': {'pod': 'n'},\n",
              "   'dt_txt': '2022-09-30 18:00:00'},\n",
              "  {'dt': 1664571600,\n",
              "   'main': {'temp': 13.39,\n",
              "    'feels_like': 12.27,\n",
              "    'temp_min': 11.46,\n",
              "    'temp_max': 13.39,\n",
              "    'pressure': 1011,\n",
              "    'sea_level': 1011,\n",
              "    'grnd_level': 1006,\n",
              "    'humidity': 57,\n",
              "    'temp_kf': 1.93},\n",
              "   'weather': [{'id': 801,\n",
              "     'main': 'Clouds',\n",
              "     'description': 'few clouds',\n",
              "     'icon': '02n'}],\n",
              "   'clouds': {'all': 11},\n",
              "   'wind': {'speed': 2.62, 'deg': 182, 'gust': 5.97},\n",
              "   'visibility': 10000,\n",
              "   'pop': 0,\n",
              "   'sys': {'pod': 'n'},\n",
              "   'dt_txt': '2022-09-30 21:00:00'},\n",
              "  {'dt': 1664582400,\n",
              "   'main': {'temp': 10.49,\n",
              "    'feels_like': 9.19,\n",
              "    'temp_min': 10.49,\n",
              "    'temp_max': 10.49,\n",
              "    'pressure': 1011,\n",
              "    'sea_level': 1011,\n",
              "    'grnd_level': 1006,\n",
              "    'humidity': 61,\n",
              "    'temp_kf': 0},\n",
              "   'weather': [{'id': 800,\n",
              "     'main': 'Clear',\n",
              "     'description': 'clear sky',\n",
              "     'icon': '01n'}],\n",
              "   'clouds': {'all': 6},\n",
              "   'wind': {'speed': 2.8, 'deg': 193, 'gust': 7.72},\n",
              "   'visibility': 10000,\n",
              "   'pop': 0,\n",
              "   'sys': {'pod': 'n'},\n",
              "   'dt_txt': '2022-10-01 00:00:00'},\n",
              "  {'dt': 1664593200,\n",
              "   'main': {'temp': 10.04,\n",
              "    'feels_like': 8.88,\n",
              "    'temp_min': 10.04,\n",
              "    'temp_max': 10.04,\n",
              "    'pressure': 1010,\n",
              "    'sea_level': 1010,\n",
              "    'grnd_level': 1005,\n",
              "    'humidity': 68,\n",
              "    'temp_kf': 0},\n",
              "   'weather': [{'id': 802,\n",
              "     'main': 'Clouds',\n",
              "     'description': 'scattered clouds',\n",
              "     'icon': '03n'}],\n",
              "   'clouds': {'all': 40},\n",
              "   'wind': {'speed': 4.19, 'deg': 193, 'gust': 11.96},\n",
              "   'visibility': 10000,\n",
              "   'pop': 0,\n",
              "   'sys': {'pod': 'n'},\n",
              "   'dt_txt': '2022-10-01 03:00:00'},\n",
              "  {'dt': 1664604000,\n",
              "   'main': {'temp': 10.83,\n",
              "    'feels_like': 9.69,\n",
              "    'temp_min': 10.83,\n",
              "    'temp_max': 10.83,\n",
              "    'pressure': 1009,\n",
              "    'sea_level': 1009,\n",
              "    'grnd_level': 1004,\n",
              "    'humidity': 66,\n",
              "    'temp_kf': 0},\n",
              "   'weather': [{'id': 803,\n",
              "     'main': 'Clouds',\n",
              "     'description': 'broken clouds',\n",
              "     'icon': '04d'}],\n",
              "   'clouds': {'all': 70},\n",
              "   'wind': {'speed': 4.97, 'deg': 202, 'gust': 13.36},\n",
              "   'visibility': 10000,\n",
              "   'pop': 0,\n",
              "   'sys': {'pod': 'd'},\n",
              "   'dt_txt': '2022-10-01 06:00:00'},\n",
              "  {'dt': 1664614800,\n",
              "   'main': {'temp': 13.81,\n",
              "    'feels_like': 12.76,\n",
              "    'temp_min': 13.81,\n",
              "    'temp_max': 13.81,\n",
              "    'pressure': 1007,\n",
              "    'sea_level': 1007,\n",
              "    'grnd_level': 1002,\n",
              "    'humidity': 58,\n",
              "    'temp_kf': 0},\n",
              "   'weather': [{'id': 804,\n",
              "     'main': 'Clouds',\n",
              "     'description': 'overcast clouds',\n",
              "     'icon': '04d'}],\n",
              "   'clouds': {'all': 100},\n",
              "   'wind': {'speed': 6.77, 'deg': 208, 'gust': 12.31},\n",
              "   'visibility': 10000,\n",
              "   'pop': 0.28,\n",
              "   'sys': {'pod': 'd'},\n",
              "   'dt_txt': '2022-10-01 09:00:00'},\n",
              "  {'dt': 1664625600,\n",
              "   'main': {'temp': 10.19,\n",
              "    'feels_like': 9.64,\n",
              "    'temp_min': 10.19,\n",
              "    'temp_max': 10.19,\n",
              "    'pressure': 1006,\n",
              "    'sea_level': 1006,\n",
              "    'grnd_level': 1001,\n",
              "    'humidity': 91,\n",
              "    'temp_kf': 0},\n",
              "   'weather': [{'id': 501,\n",
              "     'main': 'Rain',\n",
              "     'description': 'moderate rain',\n",
              "     'icon': '10d'}],\n",
              "   'clouds': {'all': 100},\n",
              "   'wind': {'speed': 5.86, 'deg': 209, 'gust': 12.6},\n",
              "   'visibility': 6770,\n",
              "   'pop': 1,\n",
              "   'rain': {'3h': 4.25},\n",
              "   'sys': {'pod': 'd'},\n",
              "   'dt_txt': '2022-10-01 12:00:00'},\n",
              "  {'dt': 1664636400,\n",
              "   'main': {'temp': 10.99,\n",
              "    'feels_like': 10.55,\n",
              "    'temp_min': 10.99,\n",
              "    'temp_max': 10.99,\n",
              "    'pressure': 1006,\n",
              "    'sea_level': 1006,\n",
              "    'grnd_level': 1000,\n",
              "    'humidity': 92,\n",
              "    'temp_kf': 0},\n",
              "   'weather': [{'id': 501,\n",
              "     'main': 'Rain',\n",
              "     'description': 'moderate rain',\n",
              "     'icon': '10d'}],\n",
              "   'clouds': {'all': 100},\n",
              "   'wind': {'speed': 5.13, 'deg': 220, 'gust': 11.55},\n",
              "   'visibility': 10000,\n",
              "   'pop': 1,\n",
              "   'rain': {'3h': 3.78},\n",
              "   'sys': {'pod': 'd'},\n",
              "   'dt_txt': '2022-10-01 15:00:00'},\n",
              "  {'dt': 1664647200,\n",
              "   'main': {'temp': 11.87,\n",
              "    'feels_like': 11.41,\n",
              "    'temp_min': 11.87,\n",
              "    'temp_max': 11.87,\n",
              "    'pressure': 1006,\n",
              "    'sea_level': 1006,\n",
              "    'grnd_level': 1001,\n",
              "    'humidity': 88,\n",
              "    'temp_kf': 0},\n",
              "   'weather': [{'id': 500,\n",
              "     'main': 'Rain',\n",
              "     'description': 'light rain',\n",
              "     'icon': '10n'}],\n",
              "   'clouds': {'all': 100},\n",
              "   'wind': {'speed': 5.22, 'deg': 222, 'gust': 12.49},\n",
              "   'visibility': 10000,\n",
              "   'pop': 1,\n",
              "   'rain': {'3h': 0.27},\n",
              "   'sys': {'pod': 'n'},\n",
              "   'dt_txt': '2022-10-01 18:00:00'},\n",
              "  {'dt': 1664658000,\n",
              "   'main': {'temp': 11.56,\n",
              "    'feels_like': 11.15,\n",
              "    'temp_min': 11.56,\n",
              "    'temp_max': 11.56,\n",
              "    'pressure': 1008,\n",
              "    'sea_level': 1008,\n",
              "    'grnd_level': 1003,\n",
              "    'humidity': 91,\n",
              "    'temp_kf': 0},\n",
              "   'weather': [{'id': 803,\n",
              "     'main': 'Clouds',\n",
              "     'description': 'broken clouds',\n",
              "     'icon': '04n'}],\n",
              "   'clouds': {'all': 80},\n",
              "   'wind': {'speed': 5.7, 'deg': 263, 'gust': 12.81},\n",
              "   'visibility': 10000,\n",
              "   'pop': 0.15,\n",
              "   'sys': {'pod': 'n'},\n",
              "   'dt_txt': '2022-10-01 21:00:00'},\n",
              "  {'dt': 1664668800,\n",
              "   'main': {'temp': 10.83,\n",
              "    'feels_like': 10.37,\n",
              "    'temp_min': 10.83,\n",
              "    'temp_max': 10.83,\n",
              "    'pressure': 1010,\n",
              "    'sea_level': 1010,\n",
              "    'grnd_level': 1005,\n",
              "    'humidity': 92,\n",
              "    'temp_kf': 0},\n",
              "   'weather': [{'id': 803,\n",
              "     'main': 'Clouds',\n",
              "     'description': 'broken clouds',\n",
              "     'icon': '04n'}],\n",
              "   'clouds': {'all': 76},\n",
              "   'wind': {'speed': 5.21, 'deg': 260, 'gust': 12.53},\n",
              "   'visibility': 10000,\n",
              "   'pop': 0,\n",
              "   'sys': {'pod': 'n'},\n",
              "   'dt_txt': '2022-10-02 00:00:00'},\n",
              "  {'dt': 1664679600,\n",
              "   'main': {'temp': 10.05,\n",
              "    'feels_like': 9.49,\n",
              "    'temp_min': 10.05,\n",
              "    'temp_max': 10.05,\n",
              "    'pressure': 1012,\n",
              "    'sea_level': 1012,\n",
              "    'grnd_level': 1007,\n",
              "    'humidity': 91,\n",
              "    'temp_kf': 0},\n",
              "   'weather': [{'id': 802,\n",
              "     'main': 'Clouds',\n",
              "     'description': 'scattered clouds',\n",
              "     'icon': '03n'}],\n",
              "   'clouds': {'all': 50},\n",
              "   'wind': {'speed': 5.16, 'deg': 254, 'gust': 13.37},\n",
              "   'visibility': 10000,\n",
              "   'pop': 0,\n",
              "   'sys': {'pod': 'n'},\n",
              "   'dt_txt': '2022-10-02 03:00:00'},\n",
              "  {'dt': 1664690400,\n",
              "   'main': {'temp': 10.44,\n",
              "    'feels_like': 9.89,\n",
              "    'temp_min': 10.44,\n",
              "    'temp_max': 10.44,\n",
              "    'pressure': 1013,\n",
              "    'sea_level': 1013,\n",
              "    'grnd_level': 1008,\n",
              "    'humidity': 90,\n",
              "    'temp_kf': 0},\n",
              "   'weather': [{'id': 803,\n",
              "     'main': 'Clouds',\n",
              "     'description': 'broken clouds',\n",
              "     'icon': '04d'}],\n",
              "   'clouds': {'all': 58},\n",
              "   'wind': {'speed': 5.48, 'deg': 255, 'gust': 13.86},\n",
              "   'visibility': 10000,\n",
              "   'pop': 0,\n",
              "   'sys': {'pod': 'd'},\n",
              "   'dt_txt': '2022-10-02 06:00:00'},\n",
              "  {'dt': 1664701200,\n",
              "   'main': {'temp': 13.95,\n",
              "    'feels_like': 13.36,\n",
              "    'temp_min': 13.95,\n",
              "    'temp_max': 13.95,\n",
              "    'pressure': 1015,\n",
              "    'sea_level': 1015,\n",
              "    'grnd_level': 1010,\n",
              "    'humidity': 75,\n",
              "    'temp_kf': 0},\n",
              "   'weather': [{'id': 803,\n",
              "     'main': 'Clouds',\n",
              "     'description': 'broken clouds',\n",
              "     'icon': '04d'}],\n",
              "   'clouds': {'all': 77},\n",
              "   'wind': {'speed': 6.69, 'deg': 263, 'gust': 12.09},\n",
              "   'visibility': 10000,\n",
              "   'pop': 0,\n",
              "   'sys': {'pod': 'd'},\n",
              "   'dt_txt': '2022-10-02 09:00:00'},\n",
              "  {'dt': 1664712000,\n",
              "   'main': {'temp': 14.15,\n",
              "    'feels_like': 13.45,\n",
              "    'temp_min': 14.15,\n",
              "    'temp_max': 14.15,\n",
              "    'pressure': 1015,\n",
              "    'sea_level': 1015,\n",
              "    'grnd_level': 1010,\n",
              "    'humidity': 70,\n",
              "    'temp_kf': 0},\n",
              "   'weather': [{'id': 500,\n",
              "     'main': 'Rain',\n",
              "     'description': 'light rain',\n",
              "     'icon': '10d'}],\n",
              "   'clouds': {'all': 80},\n",
              "   'wind': {'speed': 7.07, 'deg': 274, 'gust': 11.57},\n",
              "   'visibility': 10000,\n",
              "   'pop': 0.46,\n",
              "   'rain': {'3h': 0.56},\n",
              "   'sys': {'pod': 'd'},\n",
              "   'dt_txt': '2022-10-02 12:00:00'},\n",
              "  {'dt': 1664722800,\n",
              "   'main': {'temp': 14.68,\n",
              "    'feels_like': 13.95,\n",
              "    'temp_min': 14.68,\n",
              "    'temp_max': 14.68,\n",
              "    'pressure': 1016,\n",
              "    'sea_level': 1016,\n",
              "    'grnd_level': 1011,\n",
              "    'humidity': 67,\n",
              "    'temp_kf': 0},\n",
              "   'weather': [{'id': 804,\n",
              "     'main': 'Clouds',\n",
              "     'description': 'overcast clouds',\n",
              "     'icon': '04d'}],\n",
              "   'clouds': {'all': 93},\n",
              "   'wind': {'speed': 5.83, 'deg': 267, 'gust': 10.65},\n",
              "   'visibility': 10000,\n",
              "   'pop': 0.17,\n",
              "   'sys': {'pod': 'd'},\n",
              "   'dt_txt': '2022-10-02 15:00:00'},\n",
              "  {'dt': 1664733600,\n",
              "   'main': {'temp': 12.34,\n",
              "    'feels_like': 11.69,\n",
              "    'temp_min': 12.34,\n",
              "    'temp_max': 12.34,\n",
              "    'pressure': 1017,\n",
              "    'sea_level': 1017,\n",
              "    'grnd_level': 1012,\n",
              "    'humidity': 79,\n",
              "    'temp_kf': 0},\n",
              "   'weather': [{'id': 803,\n",
              "     'main': 'Clouds',\n",
              "     'description': 'broken clouds',\n",
              "     'icon': '04n'}],\n",
              "   'clouds': {'all': 75},\n",
              "   'wind': {'speed': 4.5, 'deg': 268, 'gust': 10.82},\n",
              "   'visibility': 10000,\n",
              "   'pop': 0.14,\n",
              "   'sys': {'pod': 'n'},\n",
              "   'dt_txt': '2022-10-02 18:00:00'},\n",
              "  {'dt': 1664744400,\n",
              "   'main': {'temp': 11,\n",
              "    'feels_like': 10.37,\n",
              "    'temp_min': 11,\n",
              "    'temp_max': 11,\n",
              "    'pressure': 1019,\n",
              "    'sea_level': 1019,\n",
              "    'grnd_level': 1013,\n",
              "    'humidity': 85,\n",
              "    'temp_kf': 0},\n",
              "   'weather': [{'id': 800,\n",
              "     'main': 'Clear',\n",
              "     'description': 'clear sky',\n",
              "     'icon': '01n'}],\n",
              "   'clouds': {'all': 8},\n",
              "   'wind': {'speed': 4.56, 'deg': 276, 'gust': 11.35},\n",
              "   'visibility': 10000,\n",
              "   'pop': 0,\n",
              "   'sys': {'pod': 'n'},\n",
              "   'dt_txt': '2022-10-02 21:00:00'},\n",
              "  {'dt': 1664755200,\n",
              "   'main': {'temp': 10,\n",
              "    'feels_like': 7.83,\n",
              "    'temp_min': 10,\n",
              "    'temp_max': 10,\n",
              "    'pressure': 1020,\n",
              "    'sea_level': 1020,\n",
              "    'grnd_level': 1014,\n",
              "    'humidity': 90,\n",
              "    'temp_kf': 0},\n",
              "   'weather': [{'id': 800,\n",
              "     'main': 'Clear',\n",
              "     'description': 'clear sky',\n",
              "     'icon': '01n'}],\n",
              "   'clouds': {'all': 9},\n",
              "   'wind': {'speed': 4.4, 'deg': 277, 'gust': 11.57},\n",
              "   'visibility': 10000,\n",
              "   'pop': 0,\n",
              "   'sys': {'pod': 'n'},\n",
              "   'dt_txt': '2022-10-03 00:00:00'},\n",
              "  {'dt': 1664766000,\n",
              "   'main': {'temp': 9.35,\n",
              "    'feels_like': 7.15,\n",
              "    'temp_min': 9.35,\n",
              "    'temp_max': 9.35,\n",
              "    'pressure': 1020,\n",
              "    'sea_level': 1020,\n",
              "    'grnd_level': 1015,\n",
              "    'humidity': 93,\n",
              "    'temp_kf': 0},\n",
              "   'weather': [{'id': 802,\n",
              "     'main': 'Clouds',\n",
              "     'description': 'scattered clouds',\n",
              "     'icon': '03n'}],\n",
              "   'clouds': {'all': 34},\n",
              "   'wind': {'speed': 4.12, 'deg': 274, 'gust': 11.54},\n",
              "   'visibility': 10000,\n",
              "   'pop': 0,\n",
              "   'sys': {'pod': 'n'},\n",
              "   'dt_txt': '2022-10-03 03:00:00'},\n",
              "  {'dt': 1664776800,\n",
              "   'main': {'temp': 9.5,\n",
              "    'feels_like': 7.27,\n",
              "    'temp_min': 9.5,\n",
              "    'temp_max': 9.5,\n",
              "    'pressure': 1020,\n",
              "    'sea_level': 1020,\n",
              "    'grnd_level': 1015,\n",
              "    'humidity': 89,\n",
              "    'temp_kf': 0},\n",
              "   'weather': [{'id': 803,\n",
              "     'main': 'Clouds',\n",
              "     'description': 'broken clouds',\n",
              "     'icon': '04d'}],\n",
              "   'clouds': {'all': 67},\n",
              "   'wind': {'speed': 4.25, 'deg': 263, 'gust': 11.41},\n",
              "   'visibility': 10000,\n",
              "   'pop': 0,\n",
              "   'sys': {'pod': 'd'},\n",
              "   'dt_txt': '2022-10-03 06:00:00'},\n",
              "  {'dt': 1664787600,\n",
              "   'main': {'temp': 11.6,\n",
              "    'feels_like': 10.77,\n",
              "    'temp_min': 11.6,\n",
              "    'temp_max': 11.6,\n",
              "    'pressure': 1020,\n",
              "    'sea_level': 1020,\n",
              "    'grnd_level': 1015,\n",
              "    'humidity': 75,\n",
              "    'temp_kf': 0},\n",
              "   'weather': [{'id': 804,\n",
              "     'main': 'Clouds',\n",
              "     'description': 'overcast clouds',\n",
              "     'icon': '04d'}],\n",
              "   'clouds': {'all': 97},\n",
              "   'wind': {'speed': 4.94, 'deg': 272, 'gust': 11.41},\n",
              "   'visibility': 10000,\n",
              "   'pop': 0,\n",
              "   'sys': {'pod': 'd'},\n",
              "   'dt_txt': '2022-10-03 09:00:00'},\n",
              "  {'dt': 1664798400,\n",
              "   'main': {'temp': 16.39,\n",
              "    'feels_like': 15.49,\n",
              "    'temp_min': 16.39,\n",
              "    'temp_max': 16.39,\n",
              "    'pressure': 1019,\n",
              "    'sea_level': 1019,\n",
              "    'grnd_level': 1014,\n",
              "    'humidity': 54,\n",
              "    'temp_kf': 0},\n",
              "   'weather': [{'id': 803,\n",
              "     'main': 'Clouds',\n",
              "     'description': 'broken clouds',\n",
              "     'icon': '04d'}],\n",
              "   'clouds': {'all': 72},\n",
              "   'wind': {'speed': 6.03, 'deg': 283, 'gust': 8.31},\n",
              "   'visibility': 10000,\n",
              "   'pop': 0,\n",
              "   'sys': {'pod': 'd'},\n",
              "   'dt_txt': '2022-10-03 12:00:00'},\n",
              "  {'dt': 1664809200,\n",
              "   'main': {'temp': 15.29,\n",
              "    'feels_like': 14.44,\n",
              "    'temp_min': 15.29,\n",
              "    'temp_max': 15.29,\n",
              "    'pressure': 1019,\n",
              "    'sea_level': 1019,\n",
              "    'grnd_level': 1014,\n",
              "    'humidity': 60,\n",
              "    'temp_kf': 0},\n",
              "   'weather': [{'id': 804,\n",
              "     'main': 'Clouds',\n",
              "     'description': 'overcast clouds',\n",
              "     'icon': '04d'}],\n",
              "   'clouds': {'all': 96},\n",
              "   'wind': {'speed': 5.23, 'deg': 277, 'gust': 10.09},\n",
              "   'visibility': 10000,\n",
              "   'pop': 0,\n",
              "   'sys': {'pod': 'd'},\n",
              "   'dt_txt': '2022-10-03 15:00:00'},\n",
              "  {'dt': 1664820000,\n",
              "   'main': {'temp': 13.77,\n",
              "    'feels_like': 13.06,\n",
              "    'temp_min': 13.77,\n",
              "    'temp_max': 13.77,\n",
              "    'pressure': 1020,\n",
              "    'sea_level': 1020,\n",
              "    'grnd_level': 1014,\n",
              "    'humidity': 71,\n",
              "    'temp_kf': 0},\n",
              "   'weather': [{'id': 804,\n",
              "     'main': 'Clouds',\n",
              "     'description': 'overcast clouds',\n",
              "     'icon': '04n'}],\n",
              "   'clouds': {'all': 98},\n",
              "   'wind': {'speed': 4.53, 'deg': 284, 'gust': 10.82},\n",
              "   'visibility': 10000,\n",
              "   'pop': 0,\n",
              "   'sys': {'pod': 'n'},\n",
              "   'dt_txt': '2022-10-03 18:00:00'},\n",
              "  {'dt': 1664830800,\n",
              "   'main': {'temp': 12.28,\n",
              "    'feels_like': 11.63,\n",
              "    'temp_min': 12.28,\n",
              "    'temp_max': 12.28,\n",
              "    'pressure': 1020,\n",
              "    'sea_level': 1020,\n",
              "    'grnd_level': 1014,\n",
              "    'humidity': 79,\n",
              "    'temp_kf': 0},\n",
              "   'weather': [{'id': 804,\n",
              "     'main': 'Clouds',\n",
              "     'description': 'overcast clouds',\n",
              "     'icon': '04n'}],\n",
              "   'clouds': {'all': 100},\n",
              "   'wind': {'speed': 4.44, 'deg': 282, 'gust': 10.51},\n",
              "   'visibility': 10000,\n",
              "   'pop': 0,\n",
              "   'sys': {'pod': 'n'},\n",
              "   'dt_txt': '2022-10-03 21:00:00'},\n",
              "  {'dt': 1664841600,\n",
              "   'main': {'temp': 11.28,\n",
              "    'feels_like': 10.71,\n",
              "    'temp_min': 11.28,\n",
              "    'temp_max': 11.28,\n",
              "    'pressure': 1020,\n",
              "    'sea_level': 1020,\n",
              "    'grnd_level': 1014,\n",
              "    'humidity': 86,\n",
              "    'temp_kf': 0},\n",
              "   'weather': [{'id': 804,\n",
              "     'main': 'Clouds',\n",
              "     'description': 'overcast clouds',\n",
              "     'icon': '04n'}],\n",
              "   'clouds': {'all': 100},\n",
              "   'wind': {'speed': 3.46, 'deg': 278, 'gust': 9.68},\n",
              "   'visibility': 10000,\n",
              "   'pop': 0,\n",
              "   'sys': {'pod': 'n'},\n",
              "   'dt_txt': '2022-10-04 00:00:00'},\n",
              "  {'dt': 1664852400,\n",
              "   'main': {'temp': 10.36,\n",
              "    'feels_like': 9.83,\n",
              "    'temp_min': 10.36,\n",
              "    'temp_max': 10.36,\n",
              "    'pressure': 1019,\n",
              "    'sea_level': 1019,\n",
              "    'grnd_level': 1014,\n",
              "    'humidity': 91,\n",
              "    'temp_kf': 0},\n",
              "   'weather': [{'id': 804,\n",
              "     'main': 'Clouds',\n",
              "     'description': 'overcast clouds',\n",
              "     'icon': '04n'}],\n",
              "   'clouds': {'all': 94},\n",
              "   'wind': {'speed': 2.87, 'deg': 268, 'gust': 7.96},\n",
              "   'visibility': 10000,\n",
              "   'pop': 0,\n",
              "   'sys': {'pod': 'n'},\n",
              "   'dt_txt': '2022-10-04 03:00:00'},\n",
              "  {'dt': 1664863200,\n",
              "   'main': {'temp': 10.78,\n",
              "    'feels_like': 10.21,\n",
              "    'temp_min': 10.78,\n",
              "    'temp_max': 10.78,\n",
              "    'pressure': 1019,\n",
              "    'sea_level': 1019,\n",
              "    'grnd_level': 1014,\n",
              "    'humidity': 88,\n",
              "    'temp_kf': 0},\n",
              "   'weather': [{'id': 804,\n",
              "     'main': 'Clouds',\n",
              "     'description': 'overcast clouds',\n",
              "     'icon': '04d'}],\n",
              "   'clouds': {'all': 97},\n",
              "   'wind': {'speed': 2.32, 'deg': 255, 'gust': 5.61},\n",
              "   'visibility': 10000,\n",
              "   'pop': 0,\n",
              "   'sys': {'pod': 'd'},\n",
              "   'dt_txt': '2022-10-04 06:00:00'},\n",
              "  {'dt': 1664874000,\n",
              "   'main': {'temp': 14.47,\n",
              "    'feels_like': 13.7,\n",
              "    'temp_min': 14.47,\n",
              "    'temp_max': 14.47,\n",
              "    'pressure': 1019,\n",
              "    'sea_level': 1019,\n",
              "    'grnd_level': 1014,\n",
              "    'humidity': 66,\n",
              "    'temp_kf': 0},\n",
              "   'weather': [{'id': 804,\n",
              "     'main': 'Clouds',\n",
              "     'description': 'overcast clouds',\n",
              "     'icon': '04d'}],\n",
              "   'clouds': {'all': 99},\n",
              "   'wind': {'speed': 3, 'deg': 249, 'gust': 4.53},\n",
              "   'visibility': 10000,\n",
              "   'pop': 0,\n",
              "   'sys': {'pod': 'd'},\n",
              "   'dt_txt': '2022-10-04 09:00:00'},\n",
              "  {'dt': 1664884800,\n",
              "   'main': {'temp': 17.63,\n",
              "    'feels_like': 16.75,\n",
              "    'temp_min': 17.63,\n",
              "    'temp_max': 17.63,\n",
              "    'pressure': 1019,\n",
              "    'sea_level': 1019,\n",
              "    'grnd_level': 1013,\n",
              "    'humidity': 50,\n",
              "    'temp_kf': 0},\n",
              "   'weather': [{'id': 804,\n",
              "     'main': 'Clouds',\n",
              "     'description': 'overcast clouds',\n",
              "     'icon': '04d'}],\n",
              "   'clouds': {'all': 94},\n",
              "   'wind': {'speed': 3.09, 'deg': 242, 'gust': 4.19},\n",
              "   'visibility': 10000,\n",
              "   'pop': 0,\n",
              "   'sys': {'pod': 'd'},\n",
              "   'dt_txt': '2022-10-04 12:00:00'},\n",
              "  {'dt': 1664895600,\n",
              "   'main': {'temp': 17.98,\n",
              "    'feels_like': 17.11,\n",
              "    'temp_min': 17.98,\n",
              "    'temp_max': 17.98,\n",
              "    'pressure': 1018,\n",
              "    'sea_level': 1018,\n",
              "    'grnd_level': 1013,\n",
              "    'humidity': 49,\n",
              "    'temp_kf': 0},\n",
              "   'weather': [{'id': 804,\n",
              "     'main': 'Clouds',\n",
              "     'description': 'overcast clouds',\n",
              "     'icon': '04d'}],\n",
              "   'clouds': {'all': 90},\n",
              "   'wind': {'speed': 2.5, 'deg': 241, 'gust': 3.74},\n",
              "   'visibility': 10000,\n",
              "   'pop': 0,\n",
              "   'sys': {'pod': 'd'},\n",
              "   'dt_txt': '2022-10-04 15:00:00'},\n",
              "  {'dt': 1664906400,\n",
              "   'main': {'temp': 14.54,\n",
              "    'feels_like': 13.64,\n",
              "    'temp_min': 14.54,\n",
              "    'temp_max': 14.54,\n",
              "    'pressure': 1018,\n",
              "    'sea_level': 1018,\n",
              "    'grnd_level': 1013,\n",
              "    'humidity': 61,\n",
              "    'temp_kf': 0},\n",
              "   'weather': [{'id': 803,\n",
              "     'main': 'Clouds',\n",
              "     'description': 'broken clouds',\n",
              "     'icon': '04n'}],\n",
              "   'clouds': {'all': 62},\n",
              "   'wind': {'speed': 1.8, 'deg': 208, 'gust': 1.88},\n",
              "   'visibility': 10000,\n",
              "   'pop': 0,\n",
              "   'sys': {'pod': 'n'},\n",
              "   'dt_txt': '2022-10-04 18:00:00'},\n",
              "  {'dt': 1664917200,\n",
              "   'main': {'temp': 13.67,\n",
              "    'feels_like': 12.74,\n",
              "    'temp_min': 13.67,\n",
              "    'temp_max': 13.67,\n",
              "    'pressure': 1019,\n",
              "    'sea_level': 1019,\n",
              "    'grnd_level': 1014,\n",
              "    'humidity': 63,\n",
              "    'temp_kf': 0},\n",
              "   'weather': [{'id': 801,\n",
              "     'main': 'Clouds',\n",
              "     'description': 'few clouds',\n",
              "     'icon': '02n'}],\n",
              "   'clouds': {'all': 21},\n",
              "   'wind': {'speed': 2.4, 'deg': 182, 'gust': 3.92},\n",
              "   'visibility': 10000,\n",
              "   'pop': 0,\n",
              "   'sys': {'pod': 'n'},\n",
              "   'dt_txt': '2022-10-04 21:00:00'},\n",
              "  {'dt': 1664928000,\n",
              "   'main': {'temp': 13.84,\n",
              "    'feels_like': 13.19,\n",
              "    'temp_min': 13.84,\n",
              "    'temp_max': 13.84,\n",
              "    'pressure': 1019,\n",
              "    'sea_level': 1019,\n",
              "    'grnd_level': 1013,\n",
              "    'humidity': 73,\n",
              "    'temp_kf': 0},\n",
              "   'weather': [{'id': 803,\n",
              "     'main': 'Clouds',\n",
              "     'description': 'broken clouds',\n",
              "     'icon': '04n'}],\n",
              "   'clouds': {'all': 56},\n",
              "   'wind': {'speed': 2.93, 'deg': 178, 'gust': 6.71},\n",
              "   'visibility': 10000,\n",
              "   'pop': 0,\n",
              "   'sys': {'pod': 'n'},\n",
              "   'dt_txt': '2022-10-05 00:00:00'},\n",
              "  {'dt': 1664938800,\n",
              "   'main': {'temp': 13.21,\n",
              "    'feels_like': 12.65,\n",
              "    'temp_min': 13.21,\n",
              "    'temp_max': 13.21,\n",
              "    'pressure': 1018,\n",
              "    'sea_level': 1018,\n",
              "    'grnd_level': 1013,\n",
              "    'humidity': 79,\n",
              "    'temp_kf': 0},\n",
              "   'weather': [{'id': 804,\n",
              "     'main': 'Clouds',\n",
              "     'description': 'overcast clouds',\n",
              "     'icon': '04n'}],\n",
              "   'clouds': {'all': 100},\n",
              "   'wind': {'speed': 2.96, 'deg': 191, 'gust': 8.08},\n",
              "   'visibility': 10000,\n",
              "   'pop': 0,\n",
              "   'sys': {'pod': 'n'},\n",
              "   'dt_txt': '2022-10-05 03:00:00'},\n",
              "  {'dt': 1664949600,\n",
              "   'main': {'temp': 13,\n",
              "    'feels_like': 12.44,\n",
              "    'temp_min': 13,\n",
              "    'temp_max': 13,\n",
              "    'pressure': 1018,\n",
              "    'sea_level': 1018,\n",
              "    'grnd_level': 1013,\n",
              "    'humidity': 80,\n",
              "    'temp_kf': 0},\n",
              "   'weather': [{'id': 804,\n",
              "     'main': 'Clouds',\n",
              "     'description': 'overcast clouds',\n",
              "     'icon': '04d'}],\n",
              "   'clouds': {'all': 100},\n",
              "   'wind': {'speed': 3.02, 'deg': 195, 'gust': 8.88},\n",
              "   'visibility': 10000,\n",
              "   'pop': 0,\n",
              "   'sys': {'pod': 'd'},\n",
              "   'dt_txt': '2022-10-05 06:00:00'},\n",
              "  {'dt': 1664960400,\n",
              "   'main': {'temp': 17.6,\n",
              "    'feels_like': 17.09,\n",
              "    'temp_min': 17.6,\n",
              "    'temp_max': 17.6,\n",
              "    'pressure': 1018,\n",
              "    'sea_level': 1018,\n",
              "    'grnd_level': 1013,\n",
              "    'humidity': 64,\n",
              "    'temp_kf': 0},\n",
              "   'weather': [{'id': 804,\n",
              "     'main': 'Clouds',\n",
              "     'description': 'overcast clouds',\n",
              "     'icon': '04d'}],\n",
              "   'clouds': {'all': 100},\n",
              "   'wind': {'speed': 3.65, 'deg': 215, 'gust': 5.95},\n",
              "   'visibility': 10000,\n",
              "   'pop': 0,\n",
              "   'sys': {'pod': 'd'},\n",
              "   'dt_txt': '2022-10-05 09:00:00'},\n",
              "  {'dt': 1664971200,\n",
              "   'main': {'temp': 21.33,\n",
              "    'feels_like': 20.93,\n",
              "    'temp_min': 21.33,\n",
              "    'temp_max': 21.33,\n",
              "    'pressure': 1017,\n",
              "    'sea_level': 1017,\n",
              "    'grnd_level': 1012,\n",
              "    'humidity': 54,\n",
              "    'temp_kf': 0},\n",
              "   'weather': [{'id': 804,\n",
              "     'main': 'Clouds',\n",
              "     'description': 'overcast clouds',\n",
              "     'icon': '04d'}],\n",
              "   'clouds': {'all': 100},\n",
              "   'wind': {'speed': 4.72, 'deg': 211, 'gust': 6.68},\n",
              "   'visibility': 10000,\n",
              "   'pop': 0,\n",
              "   'sys': {'pod': 'd'},\n",
              "   'dt_txt': '2022-10-05 12:00:00'}],\n",
              " 'city': {'id': 2950159,\n",
              "  'name': 'Berlin',\n",
              "  'coord': {'lat': 52.5244, 'lon': 13.4105},\n",
              "  'country': 'DE',\n",
              "  'population': 1000000,\n",
              "  'timezone': 7200,\n",
              "  'sunrise': 1664514318,\n",
              "  'sunset': 1664556444}}"
            ]
          },
          "metadata": {},
          "execution_count": 15
        }
      ],
      "source": [
        "response.json()"
      ]
    },
    {
      "cell_type": "code",
      "execution_count": null,
      "metadata": {
        "colab": {
          "base_uri": "https://localhost:8080/",
          "height": 34
        },
        "id": "4yxCabB2ncmJ",
        "outputId": "97efd12c-b8ea-41da-b2b6-6a453081c9c0"
      },
      "outputs": [
        {
          "output_type": "execute_result",
          "data": {
            "text/plain": [
              "<IPython.core.display.JSON object>"
            ],
            "application/json": [
              {
                "dt": 1664550000,
                "main": {
                  "temp": 17.26,
                  "feels_like": 16.45,
                  "temp_min": 16.95,
                  "temp_max": 17.26,
                  "pressure": 1011,
                  "sea_level": 1011,
                  "grnd_level": 1006,
                  "humidity": 54,
                  "temp_kf": 0.31
                },
                "weather": [
                  {
                    "id": 801,
                    "main": "Clouds",
                    "description": "few clouds",
                    "icon": "02d"
                  }
                ],
                "clouds": {
                  "all": 20
                },
                "wind": {
                  "speed": 3.08,
                  "deg": 214,
                  "gust": 4.21
                },
                "visibility": 10000,
                "pop": 0,
                "sys": {
                  "pod": "d"
                },
                "dt_txt": "2022-09-30 15:00:00"
              },
              {
                "dt": 1664560800,
                "main": {
                  "temp": 15.95,
                  "feels_like": 14.98,
                  "temp_min": 13.34,
                  "temp_max": 15.95,
                  "pressure": 1011,
                  "sea_level": 1011,
                  "grnd_level": 1006,
                  "humidity": 53,
                  "temp_kf": 2.61
                },
                "weather": [
                  {
                    "id": 801,
                    "main": "Clouds",
                    "description": "few clouds",
                    "icon": "02n"
                  }
                ],
                "clouds": {
                  "all": 18
                },
                "wind": {
                  "speed": 2.45,
                  "deg": 183,
                  "gust": 4.98
                },
                "visibility": 10000,
                "pop": 0,
                "sys": {
                  "pod": "n"
                },
                "dt_txt": "2022-09-30 18:00:00"
              },
              {
                "dt": 1664571600,
                "main": {
                  "temp": 13.39,
                  "feels_like": 12.27,
                  "temp_min": 11.46,
                  "temp_max": 13.39,
                  "pressure": 1011,
                  "sea_level": 1011,
                  "grnd_level": 1006,
                  "humidity": 57,
                  "temp_kf": 1.93
                },
                "weather": [
                  {
                    "id": 801,
                    "main": "Clouds",
                    "description": "few clouds",
                    "icon": "02n"
                  }
                ],
                "clouds": {
                  "all": 11
                },
                "wind": {
                  "speed": 2.62,
                  "deg": 182,
                  "gust": 5.97
                },
                "visibility": 10000,
                "pop": 0,
                "sys": {
                  "pod": "n"
                },
                "dt_txt": "2022-09-30 21:00:00"
              },
              {
                "dt": 1664582400,
                "main": {
                  "temp": 10.49,
                  "feels_like": 9.19,
                  "temp_min": 10.49,
                  "temp_max": 10.49,
                  "pressure": 1011,
                  "sea_level": 1011,
                  "grnd_level": 1006,
                  "humidity": 61,
                  "temp_kf": 0
                },
                "weather": [
                  {
                    "id": 800,
                    "main": "Clear",
                    "description": "clear sky",
                    "icon": "01n"
                  }
                ],
                "clouds": {
                  "all": 6
                },
                "wind": {
                  "speed": 2.8,
                  "deg": 193,
                  "gust": 7.72
                },
                "visibility": 10000,
                "pop": 0,
                "sys": {
                  "pod": "n"
                },
                "dt_txt": "2022-10-01 00:00:00"
              },
              {
                "dt": 1664593200,
                "main": {
                  "temp": 10.04,
                  "feels_like": 8.88,
                  "temp_min": 10.04,
                  "temp_max": 10.04,
                  "pressure": 1010,
                  "sea_level": 1010,
                  "grnd_level": 1005,
                  "humidity": 68,
                  "temp_kf": 0
                },
                "weather": [
                  {
                    "id": 802,
                    "main": "Clouds",
                    "description": "scattered clouds",
                    "icon": "03n"
                  }
                ],
                "clouds": {
                  "all": 40
                },
                "wind": {
                  "speed": 4.19,
                  "deg": 193,
                  "gust": 11.96
                },
                "visibility": 10000,
                "pop": 0,
                "sys": {
                  "pod": "n"
                },
                "dt_txt": "2022-10-01 03:00:00"
              },
              {
                "dt": 1664604000,
                "main": {
                  "temp": 10.83,
                  "feels_like": 9.69,
                  "temp_min": 10.83,
                  "temp_max": 10.83,
                  "pressure": 1009,
                  "sea_level": 1009,
                  "grnd_level": 1004,
                  "humidity": 66,
                  "temp_kf": 0
                },
                "weather": [
                  {
                    "id": 803,
                    "main": "Clouds",
                    "description": "broken clouds",
                    "icon": "04d"
                  }
                ],
                "clouds": {
                  "all": 70
                },
                "wind": {
                  "speed": 4.97,
                  "deg": 202,
                  "gust": 13.36
                },
                "visibility": 10000,
                "pop": 0,
                "sys": {
                  "pod": "d"
                },
                "dt_txt": "2022-10-01 06:00:00"
              },
              {
                "dt": 1664614800,
                "main": {
                  "temp": 13.81,
                  "feels_like": 12.76,
                  "temp_min": 13.81,
                  "temp_max": 13.81,
                  "pressure": 1007,
                  "sea_level": 1007,
                  "grnd_level": 1002,
                  "humidity": 58,
                  "temp_kf": 0
                },
                "weather": [
                  {
                    "id": 804,
                    "main": "Clouds",
                    "description": "overcast clouds",
                    "icon": "04d"
                  }
                ],
                "clouds": {
                  "all": 100
                },
                "wind": {
                  "speed": 6.77,
                  "deg": 208,
                  "gust": 12.31
                },
                "visibility": 10000,
                "pop": 0.28,
                "sys": {
                  "pod": "d"
                },
                "dt_txt": "2022-10-01 09:00:00"
              },
              {
                "dt": 1664625600,
                "main": {
                  "temp": 10.19,
                  "feels_like": 9.64,
                  "temp_min": 10.19,
                  "temp_max": 10.19,
                  "pressure": 1006,
                  "sea_level": 1006,
                  "grnd_level": 1001,
                  "humidity": 91,
                  "temp_kf": 0
                },
                "weather": [
                  {
                    "id": 501,
                    "main": "Rain",
                    "description": "moderate rain",
                    "icon": "10d"
                  }
                ],
                "clouds": {
                  "all": 100
                },
                "wind": {
                  "speed": 5.86,
                  "deg": 209,
                  "gust": 12.6
                },
                "visibility": 6770,
                "pop": 1,
                "rain": {
                  "3h": 4.25
                },
                "sys": {
                  "pod": "d"
                },
                "dt_txt": "2022-10-01 12:00:00"
              },
              {
                "dt": 1664636400,
                "main": {
                  "temp": 10.99,
                  "feels_like": 10.55,
                  "temp_min": 10.99,
                  "temp_max": 10.99,
                  "pressure": 1006,
                  "sea_level": 1006,
                  "grnd_level": 1000,
                  "humidity": 92,
                  "temp_kf": 0
                },
                "weather": [
                  {
                    "id": 501,
                    "main": "Rain",
                    "description": "moderate rain",
                    "icon": "10d"
                  }
                ],
                "clouds": {
                  "all": 100
                },
                "wind": {
                  "speed": 5.13,
                  "deg": 220,
                  "gust": 11.55
                },
                "visibility": 10000,
                "pop": 1,
                "rain": {
                  "3h": 3.78
                },
                "sys": {
                  "pod": "d"
                },
                "dt_txt": "2022-10-01 15:00:00"
              },
              {
                "dt": 1664647200,
                "main": {
                  "temp": 11.87,
                  "feels_like": 11.41,
                  "temp_min": 11.87,
                  "temp_max": 11.87,
                  "pressure": 1006,
                  "sea_level": 1006,
                  "grnd_level": 1001,
                  "humidity": 88,
                  "temp_kf": 0
                },
                "weather": [
                  {
                    "id": 500,
                    "main": "Rain",
                    "description": "light rain",
                    "icon": "10n"
                  }
                ],
                "clouds": {
                  "all": 100
                },
                "wind": {
                  "speed": 5.22,
                  "deg": 222,
                  "gust": 12.49
                },
                "visibility": 10000,
                "pop": 1,
                "rain": {
                  "3h": 0.27
                },
                "sys": {
                  "pod": "n"
                },
                "dt_txt": "2022-10-01 18:00:00"
              },
              {
                "dt": 1664658000,
                "main": {
                  "temp": 11.56,
                  "feels_like": 11.15,
                  "temp_min": 11.56,
                  "temp_max": 11.56,
                  "pressure": 1008,
                  "sea_level": 1008,
                  "grnd_level": 1003,
                  "humidity": 91,
                  "temp_kf": 0
                },
                "weather": [
                  {
                    "id": 803,
                    "main": "Clouds",
                    "description": "broken clouds",
                    "icon": "04n"
                  }
                ],
                "clouds": {
                  "all": 80
                },
                "wind": {
                  "speed": 5.7,
                  "deg": 263,
                  "gust": 12.81
                },
                "visibility": 10000,
                "pop": 0.15,
                "sys": {
                  "pod": "n"
                },
                "dt_txt": "2022-10-01 21:00:00"
              },
              {
                "dt": 1664668800,
                "main": {
                  "temp": 10.83,
                  "feels_like": 10.37,
                  "temp_min": 10.83,
                  "temp_max": 10.83,
                  "pressure": 1010,
                  "sea_level": 1010,
                  "grnd_level": 1005,
                  "humidity": 92,
                  "temp_kf": 0
                },
                "weather": [
                  {
                    "id": 803,
                    "main": "Clouds",
                    "description": "broken clouds",
                    "icon": "04n"
                  }
                ],
                "clouds": {
                  "all": 76
                },
                "wind": {
                  "speed": 5.21,
                  "deg": 260,
                  "gust": 12.53
                },
                "visibility": 10000,
                "pop": 0,
                "sys": {
                  "pod": "n"
                },
                "dt_txt": "2022-10-02 00:00:00"
              },
              {
                "dt": 1664679600,
                "main": {
                  "temp": 10.05,
                  "feels_like": 9.49,
                  "temp_min": 10.05,
                  "temp_max": 10.05,
                  "pressure": 1012,
                  "sea_level": 1012,
                  "grnd_level": 1007,
                  "humidity": 91,
                  "temp_kf": 0
                },
                "weather": [
                  {
                    "id": 802,
                    "main": "Clouds",
                    "description": "scattered clouds",
                    "icon": "03n"
                  }
                ],
                "clouds": {
                  "all": 50
                },
                "wind": {
                  "speed": 5.16,
                  "deg": 254,
                  "gust": 13.37
                },
                "visibility": 10000,
                "pop": 0,
                "sys": {
                  "pod": "n"
                },
                "dt_txt": "2022-10-02 03:00:00"
              },
              {
                "dt": 1664690400,
                "main": {
                  "temp": 10.44,
                  "feels_like": 9.89,
                  "temp_min": 10.44,
                  "temp_max": 10.44,
                  "pressure": 1013,
                  "sea_level": 1013,
                  "grnd_level": 1008,
                  "humidity": 90,
                  "temp_kf": 0
                },
                "weather": [
                  {
                    "id": 803,
                    "main": "Clouds",
                    "description": "broken clouds",
                    "icon": "04d"
                  }
                ],
                "clouds": {
                  "all": 58
                },
                "wind": {
                  "speed": 5.48,
                  "deg": 255,
                  "gust": 13.86
                },
                "visibility": 10000,
                "pop": 0,
                "sys": {
                  "pod": "d"
                },
                "dt_txt": "2022-10-02 06:00:00"
              },
              {
                "dt": 1664701200,
                "main": {
                  "temp": 13.95,
                  "feels_like": 13.36,
                  "temp_min": 13.95,
                  "temp_max": 13.95,
                  "pressure": 1015,
                  "sea_level": 1015,
                  "grnd_level": 1010,
                  "humidity": 75,
                  "temp_kf": 0
                },
                "weather": [
                  {
                    "id": 803,
                    "main": "Clouds",
                    "description": "broken clouds",
                    "icon": "04d"
                  }
                ],
                "clouds": {
                  "all": 77
                },
                "wind": {
                  "speed": 6.69,
                  "deg": 263,
                  "gust": 12.09
                },
                "visibility": 10000,
                "pop": 0,
                "sys": {
                  "pod": "d"
                },
                "dt_txt": "2022-10-02 09:00:00"
              },
              {
                "dt": 1664712000,
                "main": {
                  "temp": 14.15,
                  "feels_like": 13.45,
                  "temp_min": 14.15,
                  "temp_max": 14.15,
                  "pressure": 1015,
                  "sea_level": 1015,
                  "grnd_level": 1010,
                  "humidity": 70,
                  "temp_kf": 0
                },
                "weather": [
                  {
                    "id": 500,
                    "main": "Rain",
                    "description": "light rain",
                    "icon": "10d"
                  }
                ],
                "clouds": {
                  "all": 80
                },
                "wind": {
                  "speed": 7.07,
                  "deg": 274,
                  "gust": 11.57
                },
                "visibility": 10000,
                "pop": 0.46,
                "rain": {
                  "3h": 0.56
                },
                "sys": {
                  "pod": "d"
                },
                "dt_txt": "2022-10-02 12:00:00"
              },
              {
                "dt": 1664722800,
                "main": {
                  "temp": 14.68,
                  "feels_like": 13.95,
                  "temp_min": 14.68,
                  "temp_max": 14.68,
                  "pressure": 1016,
                  "sea_level": 1016,
                  "grnd_level": 1011,
                  "humidity": 67,
                  "temp_kf": 0
                },
                "weather": [
                  {
                    "id": 804,
                    "main": "Clouds",
                    "description": "overcast clouds",
                    "icon": "04d"
                  }
                ],
                "clouds": {
                  "all": 93
                },
                "wind": {
                  "speed": 5.83,
                  "deg": 267,
                  "gust": 10.65
                },
                "visibility": 10000,
                "pop": 0.17,
                "sys": {
                  "pod": "d"
                },
                "dt_txt": "2022-10-02 15:00:00"
              },
              {
                "dt": 1664733600,
                "main": {
                  "temp": 12.34,
                  "feels_like": 11.69,
                  "temp_min": 12.34,
                  "temp_max": 12.34,
                  "pressure": 1017,
                  "sea_level": 1017,
                  "grnd_level": 1012,
                  "humidity": 79,
                  "temp_kf": 0
                },
                "weather": [
                  {
                    "id": 803,
                    "main": "Clouds",
                    "description": "broken clouds",
                    "icon": "04n"
                  }
                ],
                "clouds": {
                  "all": 75
                },
                "wind": {
                  "speed": 4.5,
                  "deg": 268,
                  "gust": 10.82
                },
                "visibility": 10000,
                "pop": 0.14,
                "sys": {
                  "pod": "n"
                },
                "dt_txt": "2022-10-02 18:00:00"
              },
              {
                "dt": 1664744400,
                "main": {
                  "temp": 11,
                  "feels_like": 10.37,
                  "temp_min": 11,
                  "temp_max": 11,
                  "pressure": 1019,
                  "sea_level": 1019,
                  "grnd_level": 1013,
                  "humidity": 85,
                  "temp_kf": 0
                },
                "weather": [
                  {
                    "id": 800,
                    "main": "Clear",
                    "description": "clear sky",
                    "icon": "01n"
                  }
                ],
                "clouds": {
                  "all": 8
                },
                "wind": {
                  "speed": 4.56,
                  "deg": 276,
                  "gust": 11.35
                },
                "visibility": 10000,
                "pop": 0,
                "sys": {
                  "pod": "n"
                },
                "dt_txt": "2022-10-02 21:00:00"
              },
              {
                "dt": 1664755200,
                "main": {
                  "temp": 10,
                  "feels_like": 7.83,
                  "temp_min": 10,
                  "temp_max": 10,
                  "pressure": 1020,
                  "sea_level": 1020,
                  "grnd_level": 1014,
                  "humidity": 90,
                  "temp_kf": 0
                },
                "weather": [
                  {
                    "id": 800,
                    "main": "Clear",
                    "description": "clear sky",
                    "icon": "01n"
                  }
                ],
                "clouds": {
                  "all": 9
                },
                "wind": {
                  "speed": 4.4,
                  "deg": 277,
                  "gust": 11.57
                },
                "visibility": 10000,
                "pop": 0,
                "sys": {
                  "pod": "n"
                },
                "dt_txt": "2022-10-03 00:00:00"
              },
              {
                "dt": 1664766000,
                "main": {
                  "temp": 9.35,
                  "feels_like": 7.15,
                  "temp_min": 9.35,
                  "temp_max": 9.35,
                  "pressure": 1020,
                  "sea_level": 1020,
                  "grnd_level": 1015,
                  "humidity": 93,
                  "temp_kf": 0
                },
                "weather": [
                  {
                    "id": 802,
                    "main": "Clouds",
                    "description": "scattered clouds",
                    "icon": "03n"
                  }
                ],
                "clouds": {
                  "all": 34
                },
                "wind": {
                  "speed": 4.12,
                  "deg": 274,
                  "gust": 11.54
                },
                "visibility": 10000,
                "pop": 0,
                "sys": {
                  "pod": "n"
                },
                "dt_txt": "2022-10-03 03:00:00"
              },
              {
                "dt": 1664776800,
                "main": {
                  "temp": 9.5,
                  "feels_like": 7.27,
                  "temp_min": 9.5,
                  "temp_max": 9.5,
                  "pressure": 1020,
                  "sea_level": 1020,
                  "grnd_level": 1015,
                  "humidity": 89,
                  "temp_kf": 0
                },
                "weather": [
                  {
                    "id": 803,
                    "main": "Clouds",
                    "description": "broken clouds",
                    "icon": "04d"
                  }
                ],
                "clouds": {
                  "all": 67
                },
                "wind": {
                  "speed": 4.25,
                  "deg": 263,
                  "gust": 11.41
                },
                "visibility": 10000,
                "pop": 0,
                "sys": {
                  "pod": "d"
                },
                "dt_txt": "2022-10-03 06:00:00"
              },
              {
                "dt": 1664787600,
                "main": {
                  "temp": 11.6,
                  "feels_like": 10.77,
                  "temp_min": 11.6,
                  "temp_max": 11.6,
                  "pressure": 1020,
                  "sea_level": 1020,
                  "grnd_level": 1015,
                  "humidity": 75,
                  "temp_kf": 0
                },
                "weather": [
                  {
                    "id": 804,
                    "main": "Clouds",
                    "description": "overcast clouds",
                    "icon": "04d"
                  }
                ],
                "clouds": {
                  "all": 97
                },
                "wind": {
                  "speed": 4.94,
                  "deg": 272,
                  "gust": 11.41
                },
                "visibility": 10000,
                "pop": 0,
                "sys": {
                  "pod": "d"
                },
                "dt_txt": "2022-10-03 09:00:00"
              },
              {
                "dt": 1664798400,
                "main": {
                  "temp": 16.39,
                  "feels_like": 15.49,
                  "temp_min": 16.39,
                  "temp_max": 16.39,
                  "pressure": 1019,
                  "sea_level": 1019,
                  "grnd_level": 1014,
                  "humidity": 54,
                  "temp_kf": 0
                },
                "weather": [
                  {
                    "id": 803,
                    "main": "Clouds",
                    "description": "broken clouds",
                    "icon": "04d"
                  }
                ],
                "clouds": {
                  "all": 72
                },
                "wind": {
                  "speed": 6.03,
                  "deg": 283,
                  "gust": 8.31
                },
                "visibility": 10000,
                "pop": 0,
                "sys": {
                  "pod": "d"
                },
                "dt_txt": "2022-10-03 12:00:00"
              },
              {
                "dt": 1664809200,
                "main": {
                  "temp": 15.29,
                  "feels_like": 14.44,
                  "temp_min": 15.29,
                  "temp_max": 15.29,
                  "pressure": 1019,
                  "sea_level": 1019,
                  "grnd_level": 1014,
                  "humidity": 60,
                  "temp_kf": 0
                },
                "weather": [
                  {
                    "id": 804,
                    "main": "Clouds",
                    "description": "overcast clouds",
                    "icon": "04d"
                  }
                ],
                "clouds": {
                  "all": 96
                },
                "wind": {
                  "speed": 5.23,
                  "deg": 277,
                  "gust": 10.09
                },
                "visibility": 10000,
                "pop": 0,
                "sys": {
                  "pod": "d"
                },
                "dt_txt": "2022-10-03 15:00:00"
              },
              {
                "dt": 1664820000,
                "main": {
                  "temp": 13.77,
                  "feels_like": 13.06,
                  "temp_min": 13.77,
                  "temp_max": 13.77,
                  "pressure": 1020,
                  "sea_level": 1020,
                  "grnd_level": 1014,
                  "humidity": 71,
                  "temp_kf": 0
                },
                "weather": [
                  {
                    "id": 804,
                    "main": "Clouds",
                    "description": "overcast clouds",
                    "icon": "04n"
                  }
                ],
                "clouds": {
                  "all": 98
                },
                "wind": {
                  "speed": 4.53,
                  "deg": 284,
                  "gust": 10.82
                },
                "visibility": 10000,
                "pop": 0,
                "sys": {
                  "pod": "n"
                },
                "dt_txt": "2022-10-03 18:00:00"
              },
              {
                "dt": 1664830800,
                "main": {
                  "temp": 12.28,
                  "feels_like": 11.63,
                  "temp_min": 12.28,
                  "temp_max": 12.28,
                  "pressure": 1020,
                  "sea_level": 1020,
                  "grnd_level": 1014,
                  "humidity": 79,
                  "temp_kf": 0
                },
                "weather": [
                  {
                    "id": 804,
                    "main": "Clouds",
                    "description": "overcast clouds",
                    "icon": "04n"
                  }
                ],
                "clouds": {
                  "all": 100
                },
                "wind": {
                  "speed": 4.44,
                  "deg": 282,
                  "gust": 10.51
                },
                "visibility": 10000,
                "pop": 0,
                "sys": {
                  "pod": "n"
                },
                "dt_txt": "2022-10-03 21:00:00"
              },
              {
                "dt": 1664841600,
                "main": {
                  "temp": 11.28,
                  "feels_like": 10.71,
                  "temp_min": 11.28,
                  "temp_max": 11.28,
                  "pressure": 1020,
                  "sea_level": 1020,
                  "grnd_level": 1014,
                  "humidity": 86,
                  "temp_kf": 0
                },
                "weather": [
                  {
                    "id": 804,
                    "main": "Clouds",
                    "description": "overcast clouds",
                    "icon": "04n"
                  }
                ],
                "clouds": {
                  "all": 100
                },
                "wind": {
                  "speed": 3.46,
                  "deg": 278,
                  "gust": 9.68
                },
                "visibility": 10000,
                "pop": 0,
                "sys": {
                  "pod": "n"
                },
                "dt_txt": "2022-10-04 00:00:00"
              },
              {
                "dt": 1664852400,
                "main": {
                  "temp": 10.36,
                  "feels_like": 9.83,
                  "temp_min": 10.36,
                  "temp_max": 10.36,
                  "pressure": 1019,
                  "sea_level": 1019,
                  "grnd_level": 1014,
                  "humidity": 91,
                  "temp_kf": 0
                },
                "weather": [
                  {
                    "id": 804,
                    "main": "Clouds",
                    "description": "overcast clouds",
                    "icon": "04n"
                  }
                ],
                "clouds": {
                  "all": 94
                },
                "wind": {
                  "speed": 2.87,
                  "deg": 268,
                  "gust": 7.96
                },
                "visibility": 10000,
                "pop": 0,
                "sys": {
                  "pod": "n"
                },
                "dt_txt": "2022-10-04 03:00:00"
              },
              {
                "dt": 1664863200,
                "main": {
                  "temp": 10.78,
                  "feels_like": 10.21,
                  "temp_min": 10.78,
                  "temp_max": 10.78,
                  "pressure": 1019,
                  "sea_level": 1019,
                  "grnd_level": 1014,
                  "humidity": 88,
                  "temp_kf": 0
                },
                "weather": [
                  {
                    "id": 804,
                    "main": "Clouds",
                    "description": "overcast clouds",
                    "icon": "04d"
                  }
                ],
                "clouds": {
                  "all": 97
                },
                "wind": {
                  "speed": 2.32,
                  "deg": 255,
                  "gust": 5.61
                },
                "visibility": 10000,
                "pop": 0,
                "sys": {
                  "pod": "d"
                },
                "dt_txt": "2022-10-04 06:00:00"
              },
              {
                "dt": 1664874000,
                "main": {
                  "temp": 14.47,
                  "feels_like": 13.7,
                  "temp_min": 14.47,
                  "temp_max": 14.47,
                  "pressure": 1019,
                  "sea_level": 1019,
                  "grnd_level": 1014,
                  "humidity": 66,
                  "temp_kf": 0
                },
                "weather": [
                  {
                    "id": 804,
                    "main": "Clouds",
                    "description": "overcast clouds",
                    "icon": "04d"
                  }
                ],
                "clouds": {
                  "all": 99
                },
                "wind": {
                  "speed": 3,
                  "deg": 249,
                  "gust": 4.53
                },
                "visibility": 10000,
                "pop": 0,
                "sys": {
                  "pod": "d"
                },
                "dt_txt": "2022-10-04 09:00:00"
              },
              {
                "dt": 1664884800,
                "main": {
                  "temp": 17.63,
                  "feels_like": 16.75,
                  "temp_min": 17.63,
                  "temp_max": 17.63,
                  "pressure": 1019,
                  "sea_level": 1019,
                  "grnd_level": 1013,
                  "humidity": 50,
                  "temp_kf": 0
                },
                "weather": [
                  {
                    "id": 804,
                    "main": "Clouds",
                    "description": "overcast clouds",
                    "icon": "04d"
                  }
                ],
                "clouds": {
                  "all": 94
                },
                "wind": {
                  "speed": 3.09,
                  "deg": 242,
                  "gust": 4.19
                },
                "visibility": 10000,
                "pop": 0,
                "sys": {
                  "pod": "d"
                },
                "dt_txt": "2022-10-04 12:00:00"
              },
              {
                "dt": 1664895600,
                "main": {
                  "temp": 17.98,
                  "feels_like": 17.11,
                  "temp_min": 17.98,
                  "temp_max": 17.98,
                  "pressure": 1018,
                  "sea_level": 1018,
                  "grnd_level": 1013,
                  "humidity": 49,
                  "temp_kf": 0
                },
                "weather": [
                  {
                    "id": 804,
                    "main": "Clouds",
                    "description": "overcast clouds",
                    "icon": "04d"
                  }
                ],
                "clouds": {
                  "all": 90
                },
                "wind": {
                  "speed": 2.5,
                  "deg": 241,
                  "gust": 3.74
                },
                "visibility": 10000,
                "pop": 0,
                "sys": {
                  "pod": "d"
                },
                "dt_txt": "2022-10-04 15:00:00"
              },
              {
                "dt": 1664906400,
                "main": {
                  "temp": 14.54,
                  "feels_like": 13.64,
                  "temp_min": 14.54,
                  "temp_max": 14.54,
                  "pressure": 1018,
                  "sea_level": 1018,
                  "grnd_level": 1013,
                  "humidity": 61,
                  "temp_kf": 0
                },
                "weather": [
                  {
                    "id": 803,
                    "main": "Clouds",
                    "description": "broken clouds",
                    "icon": "04n"
                  }
                ],
                "clouds": {
                  "all": 62
                },
                "wind": {
                  "speed": 1.8,
                  "deg": 208,
                  "gust": 1.88
                },
                "visibility": 10000,
                "pop": 0,
                "sys": {
                  "pod": "n"
                },
                "dt_txt": "2022-10-04 18:00:00"
              },
              {
                "dt": 1664917200,
                "main": {
                  "temp": 13.67,
                  "feels_like": 12.74,
                  "temp_min": 13.67,
                  "temp_max": 13.67,
                  "pressure": 1019,
                  "sea_level": 1019,
                  "grnd_level": 1014,
                  "humidity": 63,
                  "temp_kf": 0
                },
                "weather": [
                  {
                    "id": 801,
                    "main": "Clouds",
                    "description": "few clouds",
                    "icon": "02n"
                  }
                ],
                "clouds": {
                  "all": 21
                },
                "wind": {
                  "speed": 2.4,
                  "deg": 182,
                  "gust": 3.92
                },
                "visibility": 10000,
                "pop": 0,
                "sys": {
                  "pod": "n"
                },
                "dt_txt": "2022-10-04 21:00:00"
              },
              {
                "dt": 1664928000,
                "main": {
                  "temp": 13.84,
                  "feels_like": 13.19,
                  "temp_min": 13.84,
                  "temp_max": 13.84,
                  "pressure": 1019,
                  "sea_level": 1019,
                  "grnd_level": 1013,
                  "humidity": 73,
                  "temp_kf": 0
                },
                "weather": [
                  {
                    "id": 803,
                    "main": "Clouds",
                    "description": "broken clouds",
                    "icon": "04n"
                  }
                ],
                "clouds": {
                  "all": 56
                },
                "wind": {
                  "speed": 2.93,
                  "deg": 178,
                  "gust": 6.71
                },
                "visibility": 10000,
                "pop": 0,
                "sys": {
                  "pod": "n"
                },
                "dt_txt": "2022-10-05 00:00:00"
              },
              {
                "dt": 1664938800,
                "main": {
                  "temp": 13.21,
                  "feels_like": 12.65,
                  "temp_min": 13.21,
                  "temp_max": 13.21,
                  "pressure": 1018,
                  "sea_level": 1018,
                  "grnd_level": 1013,
                  "humidity": 79,
                  "temp_kf": 0
                },
                "weather": [
                  {
                    "id": 804,
                    "main": "Clouds",
                    "description": "overcast clouds",
                    "icon": "04n"
                  }
                ],
                "clouds": {
                  "all": 100
                },
                "wind": {
                  "speed": 2.96,
                  "deg": 191,
                  "gust": 8.08
                },
                "visibility": 10000,
                "pop": 0,
                "sys": {
                  "pod": "n"
                },
                "dt_txt": "2022-10-05 03:00:00"
              },
              {
                "dt": 1664949600,
                "main": {
                  "temp": 13,
                  "feels_like": 12.44,
                  "temp_min": 13,
                  "temp_max": 13,
                  "pressure": 1018,
                  "sea_level": 1018,
                  "grnd_level": 1013,
                  "humidity": 80,
                  "temp_kf": 0
                },
                "weather": [
                  {
                    "id": 804,
                    "main": "Clouds",
                    "description": "overcast clouds",
                    "icon": "04d"
                  }
                ],
                "clouds": {
                  "all": 100
                },
                "wind": {
                  "speed": 3.02,
                  "deg": 195,
                  "gust": 8.88
                },
                "visibility": 10000,
                "pop": 0,
                "sys": {
                  "pod": "d"
                },
                "dt_txt": "2022-10-05 06:00:00"
              },
              {
                "dt": 1664960400,
                "main": {
                  "temp": 17.6,
                  "feels_like": 17.09,
                  "temp_min": 17.6,
                  "temp_max": 17.6,
                  "pressure": 1018,
                  "sea_level": 1018,
                  "grnd_level": 1013,
                  "humidity": 64,
                  "temp_kf": 0
                },
                "weather": [
                  {
                    "id": 804,
                    "main": "Clouds",
                    "description": "overcast clouds",
                    "icon": "04d"
                  }
                ],
                "clouds": {
                  "all": 100
                },
                "wind": {
                  "speed": 3.65,
                  "deg": 215,
                  "gust": 5.95
                },
                "visibility": 10000,
                "pop": 0,
                "sys": {
                  "pod": "d"
                },
                "dt_txt": "2022-10-05 09:00:00"
              },
              {
                "dt": 1664971200,
                "main": {
                  "temp": 21.33,
                  "feels_like": 20.93,
                  "temp_min": 21.33,
                  "temp_max": 21.33,
                  "pressure": 1017,
                  "sea_level": 1017,
                  "grnd_level": 1012,
                  "humidity": 54,
                  "temp_kf": 0
                },
                "weather": [
                  {
                    "id": 804,
                    "main": "Clouds",
                    "description": "overcast clouds",
                    "icon": "04d"
                  }
                ],
                "clouds": {
                  "all": 100
                },
                "wind": {
                  "speed": 4.72,
                  "deg": 211,
                  "gust": 6.68
                },
                "visibility": 10000,
                "pop": 0,
                "sys": {
                  "pod": "d"
                },
                "dt_txt": "2022-10-05 12:00:00"
              }
            ]
          },
          "metadata": {
            "application/json": {
              "expanded": false,
              "root": "root"
            }
          },
          "execution_count": 21
        }
      ],
      "source": [
        "#This will only work in jupyter notebook so if you are using colab you can skip it\n",
        "\n",
        "from IPython.display import JSON\n",
        "# JSON() helps us preview the json in scalable way\n",
        "JSON(response.json())\n",
        "# under the node 'list' are the actual weather informations for each hour\n",
        "JSON(response.json()['list'])"
      ]
    },
    {
      "cell_type": "markdown",
      "metadata": {
        "id": "aszMbScYncmK"
      },
      "source": [
        "#### 3.2.3 Gathering the data we need from json"
      ]
    },
    {
      "cell_type": "code",
      "execution_count": null,
      "metadata": {
        "id": "SarXLzpHncmK"
      },
      "outputs": [],
      "source": [
        "weather_dict = {'city_id': [],\n",
        "                'forecast_time': [],\n",
        "                'outlook': [],\n",
        "                'temperature': [],\n",
        "                'temperature_feels_like': [],\n",
        "                'wind_speed': [],\n",
        "                'pop': []}\n",
        "# iterating over items in 'list' node and selecting the subnodes gives us the exact info we need \n",
        "for hour in response.json()['list']:\n",
        "  weather_dict['city_id'].append(cities['City_id'][0])\n",
        "  weather_dict['temperature'].append(hour['main']['temp'])\n",
        "  weather_dict['wind_speed'].append(hour['wind']['speed'])\n",
        "  weather_dict['forecast_time'].append(hour['dt_txt'])\n",
        "  weather_dict['outlook'].append(hour['weather'][0]['description'])\n",
        "  weather_dict['temperature_feels_like'].append(hour['main']['feels_like'])\n",
        "  weather_dict['pop'].append(hour['pop'])\n"
      ]
    },
    {
      "cell_type": "markdown",
      "metadata": {
        "id": "6iOSPqwYncmK"
      },
      "source": [
        "#### 3.2.4 Creating a new weather DataFrame"
      ]
    },
    {
      "cell_type": "code",
      "execution_count": null,
      "metadata": {
        "tags": [],
        "colab": {
          "base_uri": "https://localhost:8080/",
          "height": 1000
        },
        "id": "CHc7eVe5ncmK",
        "outputId": "608a7fea-147a-4863-bcad-ca87fd1d55d2"
      },
      "outputs": [
        {
          "output_type": "execute_result",
          "data": {
            "text/plain": [
              "    city_id        forecast_time           outlook  temperature  \\\n",
              "0         1  2022-09-30 15:00:00        few clouds        17.26   \n",
              "1         1  2022-09-30 18:00:00        few clouds        15.95   \n",
              "2         1  2022-09-30 21:00:00        few clouds        13.39   \n",
              "3         1  2022-10-01 00:00:00         clear sky        10.49   \n",
              "4         1  2022-10-01 03:00:00  scattered clouds        10.04   \n",
              "5         1  2022-10-01 06:00:00     broken clouds        10.83   \n",
              "6         1  2022-10-01 09:00:00   overcast clouds        13.81   \n",
              "7         1  2022-10-01 12:00:00     moderate rain        10.19   \n",
              "8         1  2022-10-01 15:00:00     moderate rain        10.99   \n",
              "9         1  2022-10-01 18:00:00        light rain        11.87   \n",
              "10        1  2022-10-01 21:00:00     broken clouds        11.56   \n",
              "11        1  2022-10-02 00:00:00     broken clouds        10.83   \n",
              "12        1  2022-10-02 03:00:00  scattered clouds        10.05   \n",
              "13        1  2022-10-02 06:00:00     broken clouds        10.44   \n",
              "14        1  2022-10-02 09:00:00     broken clouds        13.95   \n",
              "15        1  2022-10-02 12:00:00        light rain        14.15   \n",
              "16        1  2022-10-02 15:00:00   overcast clouds        14.68   \n",
              "17        1  2022-10-02 18:00:00     broken clouds        12.34   \n",
              "18        1  2022-10-02 21:00:00         clear sky        11.00   \n",
              "19        1  2022-10-03 00:00:00         clear sky        10.00   \n",
              "20        1  2022-10-03 03:00:00  scattered clouds         9.35   \n",
              "21        1  2022-10-03 06:00:00     broken clouds         9.50   \n",
              "22        1  2022-10-03 09:00:00   overcast clouds        11.60   \n",
              "23        1  2022-10-03 12:00:00     broken clouds        16.39   \n",
              "24        1  2022-10-03 15:00:00   overcast clouds        15.29   \n",
              "25        1  2022-10-03 18:00:00   overcast clouds        13.77   \n",
              "26        1  2022-10-03 21:00:00   overcast clouds        12.28   \n",
              "27        1  2022-10-04 00:00:00   overcast clouds        11.28   \n",
              "28        1  2022-10-04 03:00:00   overcast clouds        10.36   \n",
              "29        1  2022-10-04 06:00:00   overcast clouds        10.78   \n",
              "30        1  2022-10-04 09:00:00   overcast clouds        14.47   \n",
              "31        1  2022-10-04 12:00:00   overcast clouds        17.63   \n",
              "32        1  2022-10-04 15:00:00   overcast clouds        17.98   \n",
              "33        1  2022-10-04 18:00:00     broken clouds        14.54   \n",
              "34        1  2022-10-04 21:00:00        few clouds        13.67   \n",
              "35        1  2022-10-05 00:00:00     broken clouds        13.84   \n",
              "36        1  2022-10-05 03:00:00   overcast clouds        13.21   \n",
              "37        1  2022-10-05 06:00:00   overcast clouds        13.00   \n",
              "38        1  2022-10-05 09:00:00   overcast clouds        17.60   \n",
              "39        1  2022-10-05 12:00:00   overcast clouds        21.33   \n",
              "\n",
              "    temperature_feels_like  wind_speed   pop  \n",
              "0                    16.45        3.08  0.00  \n",
              "1                    14.98        2.45  0.00  \n",
              "2                    12.27        2.62  0.00  \n",
              "3                     9.19        2.80  0.00  \n",
              "4                     8.88        4.19  0.00  \n",
              "5                     9.69        4.97  0.00  \n",
              "6                    12.76        6.77  0.28  \n",
              "7                     9.64        5.86  1.00  \n",
              "8                    10.55        5.13  1.00  \n",
              "9                    11.41        5.22  1.00  \n",
              "10                   11.15        5.70  0.15  \n",
              "11                   10.37        5.21  0.00  \n",
              "12                    9.49        5.16  0.00  \n",
              "13                    9.89        5.48  0.00  \n",
              "14                   13.36        6.69  0.00  \n",
              "15                   13.45        7.07  0.46  \n",
              "16                   13.95        5.83  0.17  \n",
              "17                   11.69        4.50  0.14  \n",
              "18                   10.37        4.56  0.00  \n",
              "19                    7.83        4.40  0.00  \n",
              "20                    7.15        4.12  0.00  \n",
              "21                    7.27        4.25  0.00  \n",
              "22                   10.77        4.94  0.00  \n",
              "23                   15.49        6.03  0.00  \n",
              "24                   14.44        5.23  0.00  \n",
              "25                   13.06        4.53  0.00  \n",
              "26                   11.63        4.44  0.00  \n",
              "27                   10.71        3.46  0.00  \n",
              "28                    9.83        2.87  0.00  \n",
              "29                   10.21        2.32  0.00  \n",
              "30                   13.70        3.00  0.00  \n",
              "31                   16.75        3.09  0.00  \n",
              "32                   17.11        2.50  0.00  \n",
              "33                   13.64        1.80  0.00  \n",
              "34                   12.74        2.40  0.00  \n",
              "35                   13.19        2.93  0.00  \n",
              "36                   12.65        2.96  0.00  \n",
              "37                   12.44        3.02  0.00  \n",
              "38                   17.09        3.65  0.00  \n",
              "39                   20.93        4.72  0.00  "
            ],
            "text/html": [
              "\n",
              "  <div id=\"df-f481b0e2-ba0b-4f77-9a1d-8ceffd5e87e1\">\n",
              "    <div class=\"colab-df-container\">\n",
              "      <div>\n",
              "<style scoped>\n",
              "    .dataframe tbody tr th:only-of-type {\n",
              "        vertical-align: middle;\n",
              "    }\n",
              "\n",
              "    .dataframe tbody tr th {\n",
              "        vertical-align: top;\n",
              "    }\n",
              "\n",
              "    .dataframe thead th {\n",
              "        text-align: right;\n",
              "    }\n",
              "</style>\n",
              "<table border=\"1\" class=\"dataframe\">\n",
              "  <thead>\n",
              "    <tr style=\"text-align: right;\">\n",
              "      <th></th>\n",
              "      <th>city_id</th>\n",
              "      <th>forecast_time</th>\n",
              "      <th>outlook</th>\n",
              "      <th>temperature</th>\n",
              "      <th>temperature_feels_like</th>\n",
              "      <th>wind_speed</th>\n",
              "      <th>pop</th>\n",
              "    </tr>\n",
              "  </thead>\n",
              "  <tbody>\n",
              "    <tr>\n",
              "      <th>0</th>\n",
              "      <td>1</td>\n",
              "      <td>2022-09-30 15:00:00</td>\n",
              "      <td>few clouds</td>\n",
              "      <td>17.26</td>\n",
              "      <td>16.45</td>\n",
              "      <td>3.08</td>\n",
              "      <td>0.00</td>\n",
              "    </tr>\n",
              "    <tr>\n",
              "      <th>1</th>\n",
              "      <td>1</td>\n",
              "      <td>2022-09-30 18:00:00</td>\n",
              "      <td>few clouds</td>\n",
              "      <td>15.95</td>\n",
              "      <td>14.98</td>\n",
              "      <td>2.45</td>\n",
              "      <td>0.00</td>\n",
              "    </tr>\n",
              "    <tr>\n",
              "      <th>2</th>\n",
              "      <td>1</td>\n",
              "      <td>2022-09-30 21:00:00</td>\n",
              "      <td>few clouds</td>\n",
              "      <td>13.39</td>\n",
              "      <td>12.27</td>\n",
              "      <td>2.62</td>\n",
              "      <td>0.00</td>\n",
              "    </tr>\n",
              "    <tr>\n",
              "      <th>3</th>\n",
              "      <td>1</td>\n",
              "      <td>2022-10-01 00:00:00</td>\n",
              "      <td>clear sky</td>\n",
              "      <td>10.49</td>\n",
              "      <td>9.19</td>\n",
              "      <td>2.80</td>\n",
              "      <td>0.00</td>\n",
              "    </tr>\n",
              "    <tr>\n",
              "      <th>4</th>\n",
              "      <td>1</td>\n",
              "      <td>2022-10-01 03:00:00</td>\n",
              "      <td>scattered clouds</td>\n",
              "      <td>10.04</td>\n",
              "      <td>8.88</td>\n",
              "      <td>4.19</td>\n",
              "      <td>0.00</td>\n",
              "    </tr>\n",
              "    <tr>\n",
              "      <th>5</th>\n",
              "      <td>1</td>\n",
              "      <td>2022-10-01 06:00:00</td>\n",
              "      <td>broken clouds</td>\n",
              "      <td>10.83</td>\n",
              "      <td>9.69</td>\n",
              "      <td>4.97</td>\n",
              "      <td>0.00</td>\n",
              "    </tr>\n",
              "    <tr>\n",
              "      <th>6</th>\n",
              "      <td>1</td>\n",
              "      <td>2022-10-01 09:00:00</td>\n",
              "      <td>overcast clouds</td>\n",
              "      <td>13.81</td>\n",
              "      <td>12.76</td>\n",
              "      <td>6.77</td>\n",
              "      <td>0.28</td>\n",
              "    </tr>\n",
              "    <tr>\n",
              "      <th>7</th>\n",
              "      <td>1</td>\n",
              "      <td>2022-10-01 12:00:00</td>\n",
              "      <td>moderate rain</td>\n",
              "      <td>10.19</td>\n",
              "      <td>9.64</td>\n",
              "      <td>5.86</td>\n",
              "      <td>1.00</td>\n",
              "    </tr>\n",
              "    <tr>\n",
              "      <th>8</th>\n",
              "      <td>1</td>\n",
              "      <td>2022-10-01 15:00:00</td>\n",
              "      <td>moderate rain</td>\n",
              "      <td>10.99</td>\n",
              "      <td>10.55</td>\n",
              "      <td>5.13</td>\n",
              "      <td>1.00</td>\n",
              "    </tr>\n",
              "    <tr>\n",
              "      <th>9</th>\n",
              "      <td>1</td>\n",
              "      <td>2022-10-01 18:00:00</td>\n",
              "      <td>light rain</td>\n",
              "      <td>11.87</td>\n",
              "      <td>11.41</td>\n",
              "      <td>5.22</td>\n",
              "      <td>1.00</td>\n",
              "    </tr>\n",
              "    <tr>\n",
              "      <th>10</th>\n",
              "      <td>1</td>\n",
              "      <td>2022-10-01 21:00:00</td>\n",
              "      <td>broken clouds</td>\n",
              "      <td>11.56</td>\n",
              "      <td>11.15</td>\n",
              "      <td>5.70</td>\n",
              "      <td>0.15</td>\n",
              "    </tr>\n",
              "    <tr>\n",
              "      <th>11</th>\n",
              "      <td>1</td>\n",
              "      <td>2022-10-02 00:00:00</td>\n",
              "      <td>broken clouds</td>\n",
              "      <td>10.83</td>\n",
              "      <td>10.37</td>\n",
              "      <td>5.21</td>\n",
              "      <td>0.00</td>\n",
              "    </tr>\n",
              "    <tr>\n",
              "      <th>12</th>\n",
              "      <td>1</td>\n",
              "      <td>2022-10-02 03:00:00</td>\n",
              "      <td>scattered clouds</td>\n",
              "      <td>10.05</td>\n",
              "      <td>9.49</td>\n",
              "      <td>5.16</td>\n",
              "      <td>0.00</td>\n",
              "    </tr>\n",
              "    <tr>\n",
              "      <th>13</th>\n",
              "      <td>1</td>\n",
              "      <td>2022-10-02 06:00:00</td>\n",
              "      <td>broken clouds</td>\n",
              "      <td>10.44</td>\n",
              "      <td>9.89</td>\n",
              "      <td>5.48</td>\n",
              "      <td>0.00</td>\n",
              "    </tr>\n",
              "    <tr>\n",
              "      <th>14</th>\n",
              "      <td>1</td>\n",
              "      <td>2022-10-02 09:00:00</td>\n",
              "      <td>broken clouds</td>\n",
              "      <td>13.95</td>\n",
              "      <td>13.36</td>\n",
              "      <td>6.69</td>\n",
              "      <td>0.00</td>\n",
              "    </tr>\n",
              "    <tr>\n",
              "      <th>15</th>\n",
              "      <td>1</td>\n",
              "      <td>2022-10-02 12:00:00</td>\n",
              "      <td>light rain</td>\n",
              "      <td>14.15</td>\n",
              "      <td>13.45</td>\n",
              "      <td>7.07</td>\n",
              "      <td>0.46</td>\n",
              "    </tr>\n",
              "    <tr>\n",
              "      <th>16</th>\n",
              "      <td>1</td>\n",
              "      <td>2022-10-02 15:00:00</td>\n",
              "      <td>overcast clouds</td>\n",
              "      <td>14.68</td>\n",
              "      <td>13.95</td>\n",
              "      <td>5.83</td>\n",
              "      <td>0.17</td>\n",
              "    </tr>\n",
              "    <tr>\n",
              "      <th>17</th>\n",
              "      <td>1</td>\n",
              "      <td>2022-10-02 18:00:00</td>\n",
              "      <td>broken clouds</td>\n",
              "      <td>12.34</td>\n",
              "      <td>11.69</td>\n",
              "      <td>4.50</td>\n",
              "      <td>0.14</td>\n",
              "    </tr>\n",
              "    <tr>\n",
              "      <th>18</th>\n",
              "      <td>1</td>\n",
              "      <td>2022-10-02 21:00:00</td>\n",
              "      <td>clear sky</td>\n",
              "      <td>11.00</td>\n",
              "      <td>10.37</td>\n",
              "      <td>4.56</td>\n",
              "      <td>0.00</td>\n",
              "    </tr>\n",
              "    <tr>\n",
              "      <th>19</th>\n",
              "      <td>1</td>\n",
              "      <td>2022-10-03 00:00:00</td>\n",
              "      <td>clear sky</td>\n",
              "      <td>10.00</td>\n",
              "      <td>7.83</td>\n",
              "      <td>4.40</td>\n",
              "      <td>0.00</td>\n",
              "    </tr>\n",
              "    <tr>\n",
              "      <th>20</th>\n",
              "      <td>1</td>\n",
              "      <td>2022-10-03 03:00:00</td>\n",
              "      <td>scattered clouds</td>\n",
              "      <td>9.35</td>\n",
              "      <td>7.15</td>\n",
              "      <td>4.12</td>\n",
              "      <td>0.00</td>\n",
              "    </tr>\n",
              "    <tr>\n",
              "      <th>21</th>\n",
              "      <td>1</td>\n",
              "      <td>2022-10-03 06:00:00</td>\n",
              "      <td>broken clouds</td>\n",
              "      <td>9.50</td>\n",
              "      <td>7.27</td>\n",
              "      <td>4.25</td>\n",
              "      <td>0.00</td>\n",
              "    </tr>\n",
              "    <tr>\n",
              "      <th>22</th>\n",
              "      <td>1</td>\n",
              "      <td>2022-10-03 09:00:00</td>\n",
              "      <td>overcast clouds</td>\n",
              "      <td>11.60</td>\n",
              "      <td>10.77</td>\n",
              "      <td>4.94</td>\n",
              "      <td>0.00</td>\n",
              "    </tr>\n",
              "    <tr>\n",
              "      <th>23</th>\n",
              "      <td>1</td>\n",
              "      <td>2022-10-03 12:00:00</td>\n",
              "      <td>broken clouds</td>\n",
              "      <td>16.39</td>\n",
              "      <td>15.49</td>\n",
              "      <td>6.03</td>\n",
              "      <td>0.00</td>\n",
              "    </tr>\n",
              "    <tr>\n",
              "      <th>24</th>\n",
              "      <td>1</td>\n",
              "      <td>2022-10-03 15:00:00</td>\n",
              "      <td>overcast clouds</td>\n",
              "      <td>15.29</td>\n",
              "      <td>14.44</td>\n",
              "      <td>5.23</td>\n",
              "      <td>0.00</td>\n",
              "    </tr>\n",
              "    <tr>\n",
              "      <th>25</th>\n",
              "      <td>1</td>\n",
              "      <td>2022-10-03 18:00:00</td>\n",
              "      <td>overcast clouds</td>\n",
              "      <td>13.77</td>\n",
              "      <td>13.06</td>\n",
              "      <td>4.53</td>\n",
              "      <td>0.00</td>\n",
              "    </tr>\n",
              "    <tr>\n",
              "      <th>26</th>\n",
              "      <td>1</td>\n",
              "      <td>2022-10-03 21:00:00</td>\n",
              "      <td>overcast clouds</td>\n",
              "      <td>12.28</td>\n",
              "      <td>11.63</td>\n",
              "      <td>4.44</td>\n",
              "      <td>0.00</td>\n",
              "    </tr>\n",
              "    <tr>\n",
              "      <th>27</th>\n",
              "      <td>1</td>\n",
              "      <td>2022-10-04 00:00:00</td>\n",
              "      <td>overcast clouds</td>\n",
              "      <td>11.28</td>\n",
              "      <td>10.71</td>\n",
              "      <td>3.46</td>\n",
              "      <td>0.00</td>\n",
              "    </tr>\n",
              "    <tr>\n",
              "      <th>28</th>\n",
              "      <td>1</td>\n",
              "      <td>2022-10-04 03:00:00</td>\n",
              "      <td>overcast clouds</td>\n",
              "      <td>10.36</td>\n",
              "      <td>9.83</td>\n",
              "      <td>2.87</td>\n",
              "      <td>0.00</td>\n",
              "    </tr>\n",
              "    <tr>\n",
              "      <th>29</th>\n",
              "      <td>1</td>\n",
              "      <td>2022-10-04 06:00:00</td>\n",
              "      <td>overcast clouds</td>\n",
              "      <td>10.78</td>\n",
              "      <td>10.21</td>\n",
              "      <td>2.32</td>\n",
              "      <td>0.00</td>\n",
              "    </tr>\n",
              "    <tr>\n",
              "      <th>30</th>\n",
              "      <td>1</td>\n",
              "      <td>2022-10-04 09:00:00</td>\n",
              "      <td>overcast clouds</td>\n",
              "      <td>14.47</td>\n",
              "      <td>13.70</td>\n",
              "      <td>3.00</td>\n",
              "      <td>0.00</td>\n",
              "    </tr>\n",
              "    <tr>\n",
              "      <th>31</th>\n",
              "      <td>1</td>\n",
              "      <td>2022-10-04 12:00:00</td>\n",
              "      <td>overcast clouds</td>\n",
              "      <td>17.63</td>\n",
              "      <td>16.75</td>\n",
              "      <td>3.09</td>\n",
              "      <td>0.00</td>\n",
              "    </tr>\n",
              "    <tr>\n",
              "      <th>32</th>\n",
              "      <td>1</td>\n",
              "      <td>2022-10-04 15:00:00</td>\n",
              "      <td>overcast clouds</td>\n",
              "      <td>17.98</td>\n",
              "      <td>17.11</td>\n",
              "      <td>2.50</td>\n",
              "      <td>0.00</td>\n",
              "    </tr>\n",
              "    <tr>\n",
              "      <th>33</th>\n",
              "      <td>1</td>\n",
              "      <td>2022-10-04 18:00:00</td>\n",
              "      <td>broken clouds</td>\n",
              "      <td>14.54</td>\n",
              "      <td>13.64</td>\n",
              "      <td>1.80</td>\n",
              "      <td>0.00</td>\n",
              "    </tr>\n",
              "    <tr>\n",
              "      <th>34</th>\n",
              "      <td>1</td>\n",
              "      <td>2022-10-04 21:00:00</td>\n",
              "      <td>few clouds</td>\n",
              "      <td>13.67</td>\n",
              "      <td>12.74</td>\n",
              "      <td>2.40</td>\n",
              "      <td>0.00</td>\n",
              "    </tr>\n",
              "    <tr>\n",
              "      <th>35</th>\n",
              "      <td>1</td>\n",
              "      <td>2022-10-05 00:00:00</td>\n",
              "      <td>broken clouds</td>\n",
              "      <td>13.84</td>\n",
              "      <td>13.19</td>\n",
              "      <td>2.93</td>\n",
              "      <td>0.00</td>\n",
              "    </tr>\n",
              "    <tr>\n",
              "      <th>36</th>\n",
              "      <td>1</td>\n",
              "      <td>2022-10-05 03:00:00</td>\n",
              "      <td>overcast clouds</td>\n",
              "      <td>13.21</td>\n",
              "      <td>12.65</td>\n",
              "      <td>2.96</td>\n",
              "      <td>0.00</td>\n",
              "    </tr>\n",
              "    <tr>\n",
              "      <th>37</th>\n",
              "      <td>1</td>\n",
              "      <td>2022-10-05 06:00:00</td>\n",
              "      <td>overcast clouds</td>\n",
              "      <td>13.00</td>\n",
              "      <td>12.44</td>\n",
              "      <td>3.02</td>\n",
              "      <td>0.00</td>\n",
              "    </tr>\n",
              "    <tr>\n",
              "      <th>38</th>\n",
              "      <td>1</td>\n",
              "      <td>2022-10-05 09:00:00</td>\n",
              "      <td>overcast clouds</td>\n",
              "      <td>17.60</td>\n",
              "      <td>17.09</td>\n",
              "      <td>3.65</td>\n",
              "      <td>0.00</td>\n",
              "    </tr>\n",
              "    <tr>\n",
              "      <th>39</th>\n",
              "      <td>1</td>\n",
              "      <td>2022-10-05 12:00:00</td>\n",
              "      <td>overcast clouds</td>\n",
              "      <td>21.33</td>\n",
              "      <td>20.93</td>\n",
              "      <td>4.72</td>\n",
              "      <td>0.00</td>\n",
              "    </tr>\n",
              "  </tbody>\n",
              "</table>\n",
              "</div>\n",
              "      <button class=\"colab-df-convert\" onclick=\"convertToInteractive('df-f481b0e2-ba0b-4f77-9a1d-8ceffd5e87e1')\"\n",
              "              title=\"Convert this dataframe to an interactive table.\"\n",
              "              style=\"display:none;\">\n",
              "        \n",
              "  <svg xmlns=\"http://www.w3.org/2000/svg\" height=\"24px\"viewBox=\"0 0 24 24\"\n",
              "       width=\"24px\">\n",
              "    <path d=\"M0 0h24v24H0V0z\" fill=\"none\"/>\n",
              "    <path d=\"M18.56 5.44l.94 2.06.94-2.06 2.06-.94-2.06-.94-.94-2.06-.94 2.06-2.06.94zm-11 1L8.5 8.5l.94-2.06 2.06-.94-2.06-.94L8.5 2.5l-.94 2.06-2.06.94zm10 10l.94 2.06.94-2.06 2.06-.94-2.06-.94-.94-2.06-.94 2.06-2.06.94z\"/><path d=\"M17.41 7.96l-1.37-1.37c-.4-.4-.92-.59-1.43-.59-.52 0-1.04.2-1.43.59L10.3 9.45l-7.72 7.72c-.78.78-.78 2.05 0 2.83L4 21.41c.39.39.9.59 1.41.59.51 0 1.02-.2 1.41-.59l7.78-7.78 2.81-2.81c.8-.78.8-2.07 0-2.86zM5.41 20L4 18.59l7.72-7.72 1.47 1.35L5.41 20z\"/>\n",
              "  </svg>\n",
              "      </button>\n",
              "      \n",
              "  <style>\n",
              "    .colab-df-container {\n",
              "      display:flex;\n",
              "      flex-wrap:wrap;\n",
              "      gap: 12px;\n",
              "    }\n",
              "\n",
              "    .colab-df-convert {\n",
              "      background-color: #E8F0FE;\n",
              "      border: none;\n",
              "      border-radius: 50%;\n",
              "      cursor: pointer;\n",
              "      display: none;\n",
              "      fill: #1967D2;\n",
              "      height: 32px;\n",
              "      padding: 0 0 0 0;\n",
              "      width: 32px;\n",
              "    }\n",
              "\n",
              "    .colab-df-convert:hover {\n",
              "      background-color: #E2EBFA;\n",
              "      box-shadow: 0px 1px 2px rgba(60, 64, 67, 0.3), 0px 1px 3px 1px rgba(60, 64, 67, 0.15);\n",
              "      fill: #174EA6;\n",
              "    }\n",
              "\n",
              "    [theme=dark] .colab-df-convert {\n",
              "      background-color: #3B4455;\n",
              "      fill: #D2E3FC;\n",
              "    }\n",
              "\n",
              "    [theme=dark] .colab-df-convert:hover {\n",
              "      background-color: #434B5C;\n",
              "      box-shadow: 0px 1px 3px 1px rgba(0, 0, 0, 0.15);\n",
              "      filter: drop-shadow(0px 1px 2px rgba(0, 0, 0, 0.3));\n",
              "      fill: #FFFFFF;\n",
              "    }\n",
              "  </style>\n",
              "\n",
              "      <script>\n",
              "        const buttonEl =\n",
              "          document.querySelector('#df-f481b0e2-ba0b-4f77-9a1d-8ceffd5e87e1 button.colab-df-convert');\n",
              "        buttonEl.style.display =\n",
              "          google.colab.kernel.accessAllowed ? 'block' : 'none';\n",
              "\n",
              "        async function convertToInteractive(key) {\n",
              "          const element = document.querySelector('#df-f481b0e2-ba0b-4f77-9a1d-8ceffd5e87e1');\n",
              "          const dataTable =\n",
              "            await google.colab.kernel.invokeFunction('convertToInteractive',\n",
              "                                                     [key], {});\n",
              "          if (!dataTable) return;\n",
              "\n",
              "          const docLinkHtml = 'Like what you see? Visit the ' +\n",
              "            '<a target=\"_blank\" href=https://colab.research.google.com/notebooks/data_table.ipynb>data table notebook</a>'\n",
              "            + ' to learn more about interactive tables.';\n",
              "          element.innerHTML = '';\n",
              "          dataTable['output_type'] = 'display_data';\n",
              "          await google.colab.output.renderOutput(dataTable, element);\n",
              "          const docLink = document.createElement('div');\n",
              "          docLink.innerHTML = docLinkHtml;\n",
              "          element.appendChild(docLink);\n",
              "        }\n",
              "      </script>\n",
              "    </div>\n",
              "  </div>\n",
              "  "
            ]
          },
          "metadata": {},
          "execution_count": 20
        }
      ],
      "source": [
        "weather_df = pd.DataFrame(weather_dict)\n",
        "weather_df"
      ]
    }
  ],
  "metadata": {
    "colab": {
      "provenance": [],
      "collapsed_sections": []
    },
    "kernelspec": {
      "display_name": "Python 3 (ipykernel)",
      "language": "python",
      "name": "python3"
    },
    "language_info": {
      "codemirror_mode": {
        "name": "ipython",
        "version": 3
      },
      "file_extension": ".py",
      "mimetype": "text/x-python",
      "name": "python",
      "nbconvert_exporter": "python",
      "pygments_lexer": "ipython3",
      "version": "3.9.7"
    }
  },
  "nbformat": 4,
  "nbformat_minor": 0
}