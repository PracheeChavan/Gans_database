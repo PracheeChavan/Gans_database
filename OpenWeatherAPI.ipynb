{
 "cells": [
  {
   "cell_type": "markdown",
   "metadata": {
    "id": "-QVe-eC2ncmA"
   },
   "source": [
    "# Open Weather Map API"
   ]
  },
  {
   "cell_type": "code",
   "execution_count": 1,
   "metadata": {
    "id": "iKfhR6O1owVz"
   },
   "outputs": [],
   "source": [
    "import pandas as pd"
   ]
  },
  {
   "cell_type": "markdown",
   "metadata": {
    "id": "uIAws09asuSL"
   },
   "source": [
    "Don't forget that for OpenWeatherAPI you need an API key"
   ]
  },
  {
   "cell_type": "code",
   "execution_count": 7,
   "metadata": {},
   "outputs": [
    {
     "name": "stdout",
     "output_type": "stream",
     "text": [
      "Requirement already satisfied: pymysql in c:\\users\\sagar\\anaconda3\\lib\\site-packages (1.0.2)\n"
     ]
    }
   ],
   "source": [
    "!pip install pymysql\n",
    "import pymysql\n",
    "import sqlalchemy \n",
    "import requests"
   ]
  },
  {
   "cell_type": "code",
   "execution_count": 20,
   "metadata": {
    "id": "71kCoqKWs008"
   },
   "outputs": [],
   "source": [
    "# please use your own API key\n",
    "OWM_key = 'c4c94a570e01185b8c5aca7295cbafd0'"
   ]
  },
  {
   "cell_type": "markdown",
   "metadata": {
    "id": "hOVbwo__ZgeJ"
   },
   "source": [
    "OpenWeatherMap API has a nice documentation and you can find it here: https://openweathermap.org/api"
   ]
  },
  {
   "cell_type": "markdown",
   "metadata": {
    "id": "v-1ZmczpZni9"
   },
   "source": [
    "We are going to use 5 day / 3 hour forecast https://openweathermap.org/forecast5"
   ]
  },
  {
   "cell_type": "markdown",
   "metadata": {
    "id": "7urlZlrfahxo"
   },
   "source": [
    "Provided at their docmentation you can find an example of API call with only having info about city name and country_code\n",
    "https://openweathermap.org/forecast5#name5\n",
    "\n",
    "`api.openweathermap.org/data/2.5/forecast?q={city name},{country code}&appid={API key}`\n",
    "\n",
    "- city name and country code have to be in format e.g. ('Berin,DE')\n",
    "- appid is your unique API key\n",
    "- you can also add units which can be 'standard', 'metric', 'imperial'\n",
    "- or lang for languages e.g. 'de', 'it' etc.\n",
    "- or cnt for number of timestamps in response\n",
    "\n",
    "You can also find an example of API call with having info about latitude and longitude  \n",
    "https://openweathermap.org/forecast5#geo5\n",
    "\n",
    "api.openweathermap.org/data/2.5/forecast?lat={lat}&lon={lon}&appid={API key}\n",
    "\n",
    "You can choose your own approach. We will show here the approach with city name and country code"
   ]
  },
  {
   "cell_type": "code",
   "execution_count": 56,
   "metadata": {},
   "outputs": [
    {
     "data": {
      "text/html": [
       "<div>\n",
       "<style scoped>\n",
       "    .dataframe tbody tr th:only-of-type {\n",
       "        vertical-align: middle;\n",
       "    }\n",
       "\n",
       "    .dataframe tbody tr th {\n",
       "        vertical-align: top;\n",
       "    }\n",
       "\n",
       "    .dataframe thead th {\n",
       "        text-align: right;\n",
       "    }\n",
       "</style>\n",
       "<table border=\"1\" class=\"dataframe\">\n",
       "  <thead>\n",
       "    <tr style=\"text-align: right;\">\n",
       "      <th></th>\n",
       "      <th>city_id</th>\n",
       "      <th>city</th>\n",
       "      <th>country_code</th>\n",
       "    </tr>\n",
       "  </thead>\n",
       "  <tbody>\n",
       "    <tr>\n",
       "      <th>0</th>\n",
       "      <td>1</td>\n",
       "      <td>Berlin</td>\n",
       "      <td>DE</td>\n",
       "    </tr>\n",
       "    <tr>\n",
       "      <th>1</th>\n",
       "      <td>2</td>\n",
       "      <td>Hamburg</td>\n",
       "      <td>DE</td>\n",
       "    </tr>\n",
       "    <tr>\n",
       "      <th>2</th>\n",
       "      <td>3</td>\n",
       "      <td>London</td>\n",
       "      <td>GB</td>\n",
       "    </tr>\n",
       "    <tr>\n",
       "      <th>3</th>\n",
       "      <td>4</td>\n",
       "      <td>Manchester</td>\n",
       "      <td>GB</td>\n",
       "    </tr>\n",
       "    <tr>\n",
       "      <th>4</th>\n",
       "      <td>5</td>\n",
       "      <td>Munich</td>\n",
       "      <td>DE</td>\n",
       "    </tr>\n",
       "    <tr>\n",
       "      <th>5</th>\n",
       "      <td>6</td>\n",
       "      <td>Manchester</td>\n",
       "      <td>GB</td>\n",
       "    </tr>\n",
       "  </tbody>\n",
       "</table>\n",
       "</div>"
      ],
      "text/plain": [
       "   city_id        city country_code\n",
       "0        1      Berlin           DE\n",
       "1        2     Hamburg           DE\n",
       "2        3      London           GB\n",
       "3        4  Manchester           GB\n",
       "4        5      Munich           DE\n",
       "5        6  Manchester           GB"
      ]
     },
     "execution_count": 56,
     "metadata": {},
     "output_type": "execute_result"
    }
   ],
   "source": [
    "import pandas as pd\n",
    "\n",
    "# initialize list of lists\n",
    "data = [[1, 'Berlin', 'DE'], [2, 'Hamburg', 'DE'], [3, 'London','GB'], [4, 'Manchester','GB'], [5,'Munich','DE'],[6, 'Manchester','GB']]\n",
    "\n",
    "# Create the pandas DataFrame\n",
    "cities= pd.DataFrame(data, columns=['city_id', 'city', 'country_code'])\n",
    "\n",
    "# print dataframe.\n",
    "cities"
   ]
  },
  {
   "cell_type": "code",
   "execution_count": 57,
   "metadata": {
    "id": "x6gbiadIncmJ",
    "tags": []
   },
   "outputs": [],
   "source": [
    "import requests\n",
    "url = f\"http://api.openweathermap.org/data/2.5/forecast?q={cities['city'][0]},{cities['country'][0]}\n",
    "      &appid={OWM_key}&units=metric\"\n",
    "response = requests.get(url)\n"
   ]
  },
  {
   "cell_type": "code",
   "execution_count": 58,
   "metadata": {
    "id": "fYlOihiAncmJ"
   },
   "outputs": [],
   "source": [
    "\n",
    "url = f\"http://api.openweathermap.org/data/2.5/forecast?q={cities['city'][0]},{cities['country_code'][0]}\n",
    "      &appid={OWM_key}&units=metric\"\n",
    "response = requests.get(url)\n",
    "response.json()\n"
   ]
  },
  {
   "cell_type": "code",
   "execution_count": 59,
   "metadata": {
    "colab": {
     "base_uri": "https://localhost:8080/"
    },
    "id": "Kybfn8FvncmJ",
    "outputId": "e7db7392-3f9c-45d7-9edf-7c19d851345c"
   },
   "outputs": [
    {
     "data": {
      "text/plain": [
       "200"
      ]
     },
     "execution_count": 59,
     "metadata": {},
     "output_type": "execute_result"
    }
   ],
   "source": [
    "response = requests.get(url)\n",
    "response.status_code"
   ]
  },
  {
   "cell_type": "markdown",
   "metadata": {
    "id": "-d4A47JencmJ"
   },
   "source": [
    "#### 3.2.2 Exploring the response (json)\n",
    "\n",
    "You can copy paste your json response output to one of many online json viewers to see your json in nicer and more practical way\n",
    "http://jsonviewer.stack.hu/"
   ]
  },
  {
   "cell_type": "code",
   "execution_count": 60,
   "metadata": {
    "colab": {
     "base_uri": "https://localhost:8080/"
    },
    "id": "xIDfsGpfncmJ",
    "jupyter": {
     "outputs_hidden": true
    },
    "outputId": "3fd7300c-2fda-4612-b585-023c54f7e61b",
    "tags": []
   },
   "outputs": [
    {
     "data": {
      "text/plain": [
       "{'cod': '200',\n",
       " 'message': 0,\n",
       " 'cnt': 40,\n",
       " 'list': [{'dt': 1665165600,\n",
       "   'main': {'temp': 13.81,\n",
       "    'feels_like': 12.94,\n",
       "    'temp_min': 13.81,\n",
       "    'temp_max': 13.91,\n",
       "    'pressure': 1009,\n",
       "    'sea_level': 1009,\n",
       "    'grnd_level': 1014,\n",
       "    'humidity': 65,\n",
       "    'temp_kf': -0.1},\n",
       "   'weather': [{'id': 800,\n",
       "     'main': 'Clear',\n",
       "     'description': 'clear sky',\n",
       "     'icon': '01n'}],\n",
       "   'clouds': {'all': 0},\n",
       "   'wind': {'speed': 2.62, 'deg': 191, 'gust': 5.97},\n",
       "   'visibility': 10000,\n",
       "   'pop': 0,\n",
       "   'sys': {'pod': 'n'},\n",
       "   'dt_txt': '2022-10-07 18:00:00'},\n",
       "  {'dt': 1665176400,\n",
       "   'main': {'temp': 13.46,\n",
       "    'feels_like': 12.53,\n",
       "    'temp_min': 12.76,\n",
       "    'temp_max': 13.46,\n",
       "    'pressure': 1012,\n",
       "    'sea_level': 1012,\n",
       "    'grnd_level': 1013,\n",
       "    'humidity': 64,\n",
       "    'temp_kf': 0.7},\n",
       "   'weather': [{'id': 802,\n",
       "     'main': 'Clouds',\n",
       "     'description': 'scattered clouds',\n",
       "     'icon': '03n'}],\n",
       "   'clouds': {'all': 27},\n",
       "   'wind': {'speed': 2.58, 'deg': 208, 'gust': 6.65},\n",
       "   'visibility': 10000,\n",
       "   'pop': 0,\n",
       "   'sys': {'pod': 'n'},\n",
       "   'dt_txt': '2022-10-07 21:00:00'},\n",
       "  {'dt': 1665187200,\n",
       "   'main': {'temp': 12.62,\n",
       "    'feels_like': 11.79,\n",
       "    'temp_min': 12.02,\n",
       "    'temp_max': 12.62,\n",
       "    'pressure': 1014,\n",
       "    'sea_level': 1014,\n",
       "    'grnd_level': 1011,\n",
       "    'humidity': 71,\n",
       "    'temp_kf': 0.6},\n",
       "   'weather': [{'id': 803,\n",
       "     'main': 'Clouds',\n",
       "     'description': 'broken clouds',\n",
       "     'icon': '04n'}],\n",
       "   'clouds': {'all': 60},\n",
       "   'wind': {'speed': 2.41, 'deg': 221, 'gust': 6.6},\n",
       "   'visibility': 10000,\n",
       "   'pop': 0,\n",
       "   'sys': {'pod': 'n'},\n",
       "   'dt_txt': '2022-10-08 00:00:00'},\n",
       "  {'dt': 1665198000,\n",
       "   'main': {'temp': 11.08,\n",
       "    'feels_like': 10.25,\n",
       "    'temp_min': 11.08,\n",
       "    'temp_max': 11.08,\n",
       "    'pressure': 1015,\n",
       "    'sea_level': 1015,\n",
       "    'grnd_level': 1010,\n",
       "    'humidity': 77,\n",
       "    'temp_kf': 0},\n",
       "   'weather': [{'id': 804,\n",
       "     'main': 'Clouds',\n",
       "     'description': 'overcast clouds',\n",
       "     'icon': '04n'}],\n",
       "   'clouds': {'all': 100},\n",
       "   'wind': {'speed': 2.45, 'deg': 222, 'gust': 6.56},\n",
       "   'visibility': 10000,\n",
       "   'pop': 0,\n",
       "   'sys': {'pod': 'n'},\n",
       "   'dt_txt': '2022-10-08 03:00:00'},\n",
       "  {'dt': 1665208800,\n",
       "   'main': {'temp': 10.47,\n",
       "    'feels_like': 9.58,\n",
       "    'temp_min': 10.47,\n",
       "    'temp_max': 10.47,\n",
       "    'pressure': 1016,\n",
       "    'sea_level': 1016,\n",
       "    'grnd_level': 1010,\n",
       "    'humidity': 77,\n",
       "    'temp_kf': 0},\n",
       "   'weather': [{'id': 803,\n",
       "     'main': 'Clouds',\n",
       "     'description': 'broken clouds',\n",
       "     'icon': '04d'}],\n",
       "   'clouds': {'all': 80},\n",
       "   'wind': {'speed': 2.95, 'deg': 236, 'gust': 9.95},\n",
       "   'visibility': 10000,\n",
       "   'pop': 0,\n",
       "   'sys': {'pod': 'd'},\n",
       "   'dt_txt': '2022-10-08 06:00:00'},\n",
       "  {'dt': 1665219600,\n",
       "   'main': {'temp': 14.45,\n",
       "    'feels_like': 13.52,\n",
       "    'temp_min': 14.45,\n",
       "    'temp_max': 14.45,\n",
       "    'pressure': 1017,\n",
       "    'sea_level': 1017,\n",
       "    'grnd_level': 1011,\n",
       "    'humidity': 60,\n",
       "    'temp_kf': 0},\n",
       "   'weather': [{'id': 803,\n",
       "     'main': 'Clouds',\n",
       "     'description': 'broken clouds',\n",
       "     'icon': '04d'}],\n",
       "   'clouds': {'all': 82},\n",
       "   'wind': {'speed': 4.99, 'deg': 268, 'gust': 8.14},\n",
       "   'visibility': 10000,\n",
       "   'pop': 0,\n",
       "   'sys': {'pod': 'd'},\n",
       "   'dt_txt': '2022-10-08 09:00:00'},\n",
       "  {'dt': 1665230400,\n",
       "   'main': {'temp': 14.11,\n",
       "    'feels_like': 13.35,\n",
       "    'temp_min': 14.11,\n",
       "    'temp_max': 14.11,\n",
       "    'pressure': 1017,\n",
       "    'sea_level': 1017,\n",
       "    'grnd_level': 1012,\n",
       "    'humidity': 68,\n",
       "    'temp_kf': 0},\n",
       "   'weather': [{'id': 804,\n",
       "     'main': 'Clouds',\n",
       "     'description': 'overcast clouds',\n",
       "     'icon': '04d'}],\n",
       "   'clouds': {'all': 90},\n",
       "   'wind': {'speed': 5.74, 'deg': 262, 'gust': 8.31},\n",
       "   'visibility': 10000,\n",
       "   'pop': 0,\n",
       "   'sys': {'pod': 'd'},\n",
       "   'dt_txt': '2022-10-08 12:00:00'},\n",
       "  {'dt': 1665241200,\n",
       "   'main': {'temp': 15.71,\n",
       "    'feels_like': 14.62,\n",
       "    'temp_min': 15.71,\n",
       "    'temp_max': 15.71,\n",
       "    'pressure': 1018,\n",
       "    'sea_level': 1018,\n",
       "    'grnd_level': 1012,\n",
       "    'humidity': 49,\n",
       "    'temp_kf': 0},\n",
       "   'weather': [{'id': 803,\n",
       "     'main': 'Clouds',\n",
       "     'description': 'broken clouds',\n",
       "     'icon': '04d'}],\n",
       "   'clouds': {'all': 54},\n",
       "   'wind': {'speed': 5.61, 'deg': 279, 'gust': 9.98},\n",
       "   'visibility': 10000,\n",
       "   'pop': 0.26,\n",
       "   'sys': {'pod': 'd'},\n",
       "   'dt_txt': '2022-10-08 15:00:00'},\n",
       "  {'dt': 1665252000,\n",
       "   'main': {'temp': 12.38,\n",
       "    'feels_like': 11.27,\n",
       "    'temp_min': 12.38,\n",
       "    'temp_max': 12.38,\n",
       "    'pressure': 1021,\n",
       "    'sea_level': 1021,\n",
       "    'grnd_level': 1015,\n",
       "    'humidity': 61,\n",
       "    'temp_kf': 0},\n",
       "   'weather': [{'id': 802,\n",
       "     'main': 'Clouds',\n",
       "     'description': 'scattered clouds',\n",
       "     'icon': '03n'}],\n",
       "   'clouds': {'all': 30},\n",
       "   'wind': {'speed': 4.67, 'deg': 280, 'gust': 9.97},\n",
       "   'visibility': 10000,\n",
       "   'pop': 0,\n",
       "   'sys': {'pod': 'n'},\n",
       "   'dt_txt': '2022-10-08 18:00:00'},\n",
       "  {'dt': 1665262800,\n",
       "   'main': {'temp': 10.58,\n",
       "    'feels_like': 9.55,\n",
       "    'temp_min': 10.58,\n",
       "    'temp_max': 10.58,\n",
       "    'pressure': 1023,\n",
       "    'sea_level': 1023,\n",
       "    'grnd_level': 1017,\n",
       "    'humidity': 71,\n",
       "    'temp_kf': 0},\n",
       "   'weather': [{'id': 802,\n",
       "     'main': 'Clouds',\n",
       "     'description': 'scattered clouds',\n",
       "     'icon': '03n'}],\n",
       "   'clouds': {'all': 29},\n",
       "   'wind': {'speed': 4.37, 'deg': 271, 'gust': 11.1},\n",
       "   'visibility': 10000,\n",
       "   'pop': 0,\n",
       "   'sys': {'pod': 'n'},\n",
       "   'dt_txt': '2022-10-08 21:00:00'},\n",
       "  {'dt': 1665273600,\n",
       "   'main': {'temp': 9.18,\n",
       "    'feels_like': 7.14,\n",
       "    'temp_min': 9.18,\n",
       "    'temp_max': 9.18,\n",
       "    'pressure': 1024,\n",
       "    'sea_level': 1024,\n",
       "    'grnd_level': 1019,\n",
       "    'humidity': 80,\n",
       "    'temp_kf': 0},\n",
       "   'weather': [{'id': 801,\n",
       "     'main': 'Clouds',\n",
       "     'description': 'few clouds',\n",
       "     'icon': '02n'}],\n",
       "   'clouds': {'all': 15},\n",
       "   'wind': {'speed': 3.7, 'deg': 271, 'gust': 10.02},\n",
       "   'visibility': 10000,\n",
       "   'pop': 0,\n",
       "   'sys': {'pod': 'n'},\n",
       "   'dt_txt': '2022-10-09 00:00:00'},\n",
       "  {'dt': 1665284400,\n",
       "   'main': {'temp': 7.96,\n",
       "    'feels_like': 6.07,\n",
       "    'temp_min': 7.96,\n",
       "    'temp_max': 7.96,\n",
       "    'pressure': 1025,\n",
       "    'sea_level': 1025,\n",
       "    'grnd_level': 1020,\n",
       "    'humidity': 86,\n",
       "    'temp_kf': 0},\n",
       "   'weather': [{'id': 800,\n",
       "     'main': 'Clear',\n",
       "     'description': 'clear sky',\n",
       "     'icon': '01n'}],\n",
       "   'clouds': {'all': 0},\n",
       "   'wind': {'speed': 2.98, 'deg': 277, 'gust': 7.92},\n",
       "   'visibility': 10000,\n",
       "   'pop': 0,\n",
       "   'sys': {'pod': 'n'},\n",
       "   'dt_txt': '2022-10-09 03:00:00'},\n",
       "  {'dt': 1665295200,\n",
       "   'main': {'temp': 7.48,\n",
       "    'feels_like': 6,\n",
       "    'temp_min': 7.48,\n",
       "    'temp_max': 7.48,\n",
       "    'pressure': 1026,\n",
       "    'sea_level': 1026,\n",
       "    'grnd_level': 1021,\n",
       "    'humidity': 87,\n",
       "    'temp_kf': 0},\n",
       "   'weather': [{'id': 800,\n",
       "     'main': 'Clear',\n",
       "     'description': 'clear sky',\n",
       "     'icon': '01d'}],\n",
       "   'clouds': {'all': 0},\n",
       "   'wind': {'speed': 2.3, 'deg': 264, 'gust': 4.52},\n",
       "   'visibility': 10000,\n",
       "   'pop': 0,\n",
       "   'sys': {'pod': 'd'},\n",
       "   'dt_txt': '2022-10-09 06:00:00'},\n",
       "  {'dt': 1665306000,\n",
       "   'main': {'temp': 12.17,\n",
       "    'feels_like': 11.14,\n",
       "    'temp_min': 12.17,\n",
       "    'temp_max': 12.17,\n",
       "    'pressure': 1027,\n",
       "    'sea_level': 1027,\n",
       "    'grnd_level': 1022,\n",
       "    'humidity': 65,\n",
       "    'temp_kf': 0},\n",
       "   'weather': [{'id': 800,\n",
       "     'main': 'Clear',\n",
       "     'description': 'clear sky',\n",
       "     'icon': '01d'}],\n",
       "   'clouds': {'all': 2},\n",
       "   'wind': {'speed': 1.88, 'deg': 248, 'gust': 2.4},\n",
       "   'visibility': 10000,\n",
       "   'pop': 0,\n",
       "   'sys': {'pod': 'd'},\n",
       "   'dt_txt': '2022-10-09 09:00:00'},\n",
       "  {'dt': 1665316800,\n",
       "   'main': {'temp': 15.16,\n",
       "    'feels_like': 14.04,\n",
       "    'temp_min': 15.16,\n",
       "    'temp_max': 15.16,\n",
       "    'pressure': 1026,\n",
       "    'sea_level': 1026,\n",
       "    'grnd_level': 1021,\n",
       "    'humidity': 50,\n",
       "    'temp_kf': 0},\n",
       "   'weather': [{'id': 800,\n",
       "     'main': 'Clear',\n",
       "     'description': 'clear sky',\n",
       "     'icon': '01d'}],\n",
       "   'clouds': {'all': 5},\n",
       "   'wind': {'speed': 1.78, 'deg': 218, 'gust': 2.23},\n",
       "   'visibility': 10000,\n",
       "   'pop': 0,\n",
       "   'sys': {'pod': 'd'},\n",
       "   'dt_txt': '2022-10-09 12:00:00'},\n",
       "  {'dt': 1665327600,\n",
       "   'main': {'temp': 15.34,\n",
       "    'feels_like': 14.13,\n",
       "    'temp_min': 15.34,\n",
       "    'temp_max': 15.34,\n",
       "    'pressure': 1024,\n",
       "    'sea_level': 1024,\n",
       "    'grnd_level': 1019,\n",
       "    'humidity': 46,\n",
       "    'temp_kf': 0},\n",
       "   'weather': [{'id': 800,\n",
       "     'main': 'Clear',\n",
       "     'description': 'clear sky',\n",
       "     'icon': '01d'}],\n",
       "   'clouds': {'all': 7},\n",
       "   'wind': {'speed': 1.85, 'deg': 164, 'gust': 2.35},\n",
       "   'visibility': 10000,\n",
       "   'pop': 0,\n",
       "   'sys': {'pod': 'd'},\n",
       "   'dt_txt': '2022-10-09 15:00:00'},\n",
       "  {'dt': 1665338400,\n",
       "   'main': {'temp': 11.9,\n",
       "    'feels_like': 10.69,\n",
       "    'temp_min': 11.9,\n",
       "    'temp_max': 11.9,\n",
       "    'pressure': 1025,\n",
       "    'sea_level': 1025,\n",
       "    'grnd_level': 1019,\n",
       "    'humidity': 59,\n",
       "    'temp_kf': 0},\n",
       "   'weather': [{'id': 800,\n",
       "     'main': 'Clear',\n",
       "     'description': 'clear sky',\n",
       "     'icon': '01n'}],\n",
       "   'clouds': {'all': 4},\n",
       "   'wind': {'speed': 2.66, 'deg': 133, 'gust': 5.29},\n",
       "   'visibility': 10000,\n",
       "   'pop': 0,\n",
       "   'sys': {'pod': 'n'},\n",
       "   'dt_txt': '2022-10-09 18:00:00'},\n",
       "  {'dt': 1665349200,\n",
       "   'main': {'temp': 10.37,\n",
       "    'feels_like': 9.21,\n",
       "    'temp_min': 10.37,\n",
       "    'temp_max': 10.37,\n",
       "    'pressure': 1024,\n",
       "    'sea_level': 1024,\n",
       "    'grnd_level': 1019,\n",
       "    'humidity': 67,\n",
       "    'temp_kf': 0},\n",
       "   'weather': [{'id': 800,\n",
       "     'main': 'Clear',\n",
       "     'description': 'clear sky',\n",
       "     'icon': '01n'}],\n",
       "   'clouds': {'all': 6},\n",
       "   'wind': {'speed': 3.35, 'deg': 134, 'gust': 9.37},\n",
       "   'visibility': 10000,\n",
       "   'pop': 0,\n",
       "   'sys': {'pod': 'n'},\n",
       "   'dt_txt': '2022-10-09 21:00:00'},\n",
       "  {'dt': 1665360000,\n",
       "   'main': {'temp': 9.25,\n",
       "    'feels_like': 7.32,\n",
       "    'temp_min': 9.25,\n",
       "    'temp_max': 9.25,\n",
       "    'pressure': 1023,\n",
       "    'sea_level': 1023,\n",
       "    'grnd_level': 1017,\n",
       "    'humidity': 71,\n",
       "    'temp_kf': 0},\n",
       "   'weather': [{'id': 800,\n",
       "     'main': 'Clear',\n",
       "     'description': 'clear sky',\n",
       "     'icon': '01n'}],\n",
       "   'clouds': {'all': 6},\n",
       "   'wind': {'speed': 3.51, 'deg': 132, 'gust': 10.39},\n",
       "   'visibility': 10000,\n",
       "   'pop': 0,\n",
       "   'sys': {'pod': 'n'},\n",
       "   'dt_txt': '2022-10-10 00:00:00'},\n",
       "  {'dt': 1665370800,\n",
       "   'main': {'temp': 8.52,\n",
       "    'feels_like': 6.19,\n",
       "    'temp_min': 8.52,\n",
       "    'temp_max': 8.52,\n",
       "    'pressure': 1021,\n",
       "    'sea_level': 1021,\n",
       "    'grnd_level': 1016,\n",
       "    'humidity': 73,\n",
       "    'temp_kf': 0},\n",
       "   'weather': [{'id': 800,\n",
       "     'main': 'Clear',\n",
       "     'description': 'clear sky',\n",
       "     'icon': '01n'}],\n",
       "   'clouds': {'all': 7},\n",
       "   'wind': {'speed': 3.99, 'deg': 135, 'gust': 11.45},\n",
       "   'visibility': 10000,\n",
       "   'pop': 0,\n",
       "   'sys': {'pod': 'n'},\n",
       "   'dt_txt': '2022-10-10 03:00:00'},\n",
       "  {'dt': 1665381600,\n",
       "   'main': {'temp': 8.42,\n",
       "    'feels_like': 5.99,\n",
       "    'temp_min': 8.42,\n",
       "    'temp_max': 8.42,\n",
       "    'pressure': 1020,\n",
       "    'sea_level': 1020,\n",
       "    'grnd_level': 1014,\n",
       "    'humidity': 69,\n",
       "    'temp_kf': 0},\n",
       "   'weather': [{'id': 800,\n",
       "     'main': 'Clear',\n",
       "     'description': 'clear sky',\n",
       "     'icon': '01d'}],\n",
       "   'clouds': {'all': 5},\n",
       "   'wind': {'speed': 4.15, 'deg': 144, 'gust': 12.43},\n",
       "   'visibility': 10000,\n",
       "   'pop': 0,\n",
       "   'sys': {'pod': 'd'},\n",
       "   'dt_txt': '2022-10-10 06:00:00'},\n",
       "  {'dt': 1665392400,\n",
       "   'main': {'temp': 13.73,\n",
       "    'feels_like': 12.41,\n",
       "    'temp_min': 13.73,\n",
       "    'temp_max': 13.73,\n",
       "    'pressure': 1018,\n",
       "    'sea_level': 1018,\n",
       "    'grnd_level': 1013,\n",
       "    'humidity': 48,\n",
       "    'temp_kf': 0},\n",
       "   'weather': [{'id': 800,\n",
       "     'main': 'Clear',\n",
       "     'description': 'clear sky',\n",
       "     'icon': '01d'}],\n",
       "   'clouds': {'all': 2},\n",
       "   'wind': {'speed': 4.8, 'deg': 164, 'gust': 8.52},\n",
       "   'visibility': 10000,\n",
       "   'pop': 0,\n",
       "   'sys': {'pod': 'd'},\n",
       "   'dt_txt': '2022-10-10 09:00:00'},\n",
       "  {'dt': 1665403200,\n",
       "   'main': {'temp': 17.93,\n",
       "    'feels_like': 16.77,\n",
       "    'temp_min': 17.93,\n",
       "    'temp_max': 17.93,\n",
       "    'pressure': 1017,\n",
       "    'sea_level': 1017,\n",
       "    'grnd_level': 1011,\n",
       "    'humidity': 38,\n",
       "    'temp_kf': 0},\n",
       "   'weather': [{'id': 800,\n",
       "     'main': 'Clear',\n",
       "     'description': 'clear sky',\n",
       "     'icon': '01d'}],\n",
       "   'clouds': {'all': 2},\n",
       "   'wind': {'speed': 4.53, 'deg': 178, 'gust': 5.95},\n",
       "   'visibility': 10000,\n",
       "   'pop': 0,\n",
       "   'sys': {'pod': 'd'},\n",
       "   'dt_txt': '2022-10-10 12:00:00'},\n",
       "  {'dt': 1665414000,\n",
       "   'main': {'temp': 17.74,\n",
       "    'feels_like': 16.72,\n",
       "    'temp_min': 17.74,\n",
       "    'temp_max': 17.74,\n",
       "    'pressure': 1015,\n",
       "    'sea_level': 1015,\n",
       "    'grnd_level': 1010,\n",
       "    'humidity': 44,\n",
       "    'temp_kf': 0},\n",
       "   'weather': [{'id': 800,\n",
       "     'main': 'Clear',\n",
       "     'description': 'clear sky',\n",
       "     'icon': '01d'}],\n",
       "   'clouds': {'all': 0},\n",
       "   'wind': {'speed': 3.19, 'deg': 199, 'gust': 5.85},\n",
       "   'visibility': 10000,\n",
       "   'pop': 0,\n",
       "   'sys': {'pod': 'd'},\n",
       "   'dt_txt': '2022-10-10 15:00:00'},\n",
       "  {'dt': 1665424800,\n",
       "   'main': {'temp': 13.85,\n",
       "    'feels_like': 12.91,\n",
       "    'temp_min': 13.85,\n",
       "    'temp_max': 13.85,\n",
       "    'pressure': 1016,\n",
       "    'sea_level': 1016,\n",
       "    'grnd_level': 1011,\n",
       "    'humidity': 62,\n",
       "    'temp_kf': 0},\n",
       "   'weather': [{'id': 801,\n",
       "     'main': 'Clouds',\n",
       "     'description': 'few clouds',\n",
       "     'icon': '02n'}],\n",
       "   'clouds': {'all': 12},\n",
       "   'wind': {'speed': 3.33, 'deg': 249, 'gust': 9.18},\n",
       "   'visibility': 10000,\n",
       "   'pop': 0,\n",
       "   'sys': {'pod': 'n'},\n",
       "   'dt_txt': '2022-10-10 18:00:00'},\n",
       "  {'dt': 1665435600,\n",
       "   'main': {'temp': 12.48,\n",
       "    'feels_like': 11.53,\n",
       "    'temp_min': 12.48,\n",
       "    'temp_max': 12.48,\n",
       "    'pressure': 1018,\n",
       "    'sea_level': 1018,\n",
       "    'grnd_level': 1013,\n",
       "    'humidity': 67,\n",
       "    'temp_kf': 0},\n",
       "   'weather': [{'id': 804,\n",
       "     'main': 'Clouds',\n",
       "     'description': 'overcast clouds',\n",
       "     'icon': '04n'}],\n",
       "   'clouds': {'all': 100},\n",
       "   'wind': {'speed': 3.97, 'deg': 284, 'gust': 10.88},\n",
       "   'visibility': 10000,\n",
       "   'pop': 0,\n",
       "   'sys': {'pod': 'n'},\n",
       "   'dt_txt': '2022-10-10 21:00:00'},\n",
       "  {'dt': 1665446400,\n",
       "   'main': {'temp': 11.82,\n",
       "    'feels_like': 10.99,\n",
       "    'temp_min': 11.82,\n",
       "    'temp_max': 11.82,\n",
       "    'pressure': 1021,\n",
       "    'sea_level': 1021,\n",
       "    'grnd_level': 1015,\n",
       "    'humidity': 74,\n",
       "    'temp_kf': 0},\n",
       "   'weather': [{'id': 804,\n",
       "     'main': 'Clouds',\n",
       "     'description': 'overcast clouds',\n",
       "     'icon': '04n'}],\n",
       "   'clouds': {'all': 99},\n",
       "   'wind': {'speed': 4.22, 'deg': 297, 'gust': 10.11},\n",
       "   'visibility': 10000,\n",
       "   'pop': 0,\n",
       "   'sys': {'pod': 'n'},\n",
       "   'dt_txt': '2022-10-11 00:00:00'},\n",
       "  {'dt': 1665457200,\n",
       "   'main': {'temp': 9.09,\n",
       "    'feels_like': 7.47,\n",
       "    'temp_min': 9.09,\n",
       "    'temp_max': 9.09,\n",
       "    'pressure': 1023,\n",
       "    'sea_level': 1023,\n",
       "    'grnd_level': 1018,\n",
       "    'humidity': 86,\n",
       "    'temp_kf': 0},\n",
       "   'weather': [{'id': 803,\n",
       "     'main': 'Clouds',\n",
       "     'description': 'broken clouds',\n",
       "     'icon': '04n'}],\n",
       "   'clouds': {'all': 65},\n",
       "   'wind': {'speed': 2.92, 'deg': 292, 'gust': 7.76},\n",
       "   'visibility': 10000,\n",
       "   'pop': 0,\n",
       "   'sys': {'pod': 'n'},\n",
       "   'dt_txt': '2022-10-11 03:00:00'},\n",
       "  {'dt': 1665468000,\n",
       "   'main': {'temp': 7.96,\n",
       "    'feels_like': 6.3,\n",
       "    'temp_min': 7.96,\n",
       "    'temp_max': 7.96,\n",
       "    'pressure': 1025,\n",
       "    'sea_level': 1025,\n",
       "    'grnd_level': 1019,\n",
       "    'humidity': 86,\n",
       "    'temp_kf': 0},\n",
       "   'weather': [{'id': 802,\n",
       "     'main': 'Clouds',\n",
       "     'description': 'scattered clouds',\n",
       "     'icon': '03d'}],\n",
       "   'clouds': {'all': 33},\n",
       "   'wind': {'speed': 2.64, 'deg': 277, 'gust': 5.95},\n",
       "   'visibility': 10000,\n",
       "   'pop': 0,\n",
       "   'sys': {'pod': 'd'},\n",
       "   'dt_txt': '2022-10-11 06:00:00'},\n",
       "  {'dt': 1665478800,\n",
       "   'main': {'temp': 12.39,\n",
       "    'feels_like': 11.2,\n",
       "    'temp_min': 12.39,\n",
       "    'temp_max': 12.39,\n",
       "    'pressure': 1026,\n",
       "    'sea_level': 1026,\n",
       "    'grnd_level': 1021,\n",
       "    'humidity': 58,\n",
       "    'temp_kf': 0},\n",
       "   'weather': [{'id': 801,\n",
       "     'main': 'Clouds',\n",
       "     'description': 'few clouds',\n",
       "     'icon': '02d'}],\n",
       "   'clouds': {'all': 13},\n",
       "   'wind': {'speed': 3.44, 'deg': 282, 'gust': 5.87},\n",
       "   'visibility': 10000,\n",
       "   'pop': 0,\n",
       "   'sys': {'pod': 'd'},\n",
       "   'dt_txt': '2022-10-11 09:00:00'},\n",
       "  {'dt': 1665489600,\n",
       "   'main': {'temp': 14.63,\n",
       "    'feels_like': 13.3,\n",
       "    'temp_min': 14.63,\n",
       "    'temp_max': 14.63,\n",
       "    'pressure': 1026,\n",
       "    'sea_level': 1026,\n",
       "    'grnd_level': 1021,\n",
       "    'humidity': 44,\n",
       "    'temp_kf': 0},\n",
       "   'weather': [{'id': 803,\n",
       "     'main': 'Clouds',\n",
       "     'description': 'broken clouds',\n",
       "     'icon': '04d'}],\n",
       "   'clouds': {'all': 53},\n",
       "   'wind': {'speed': 3.91, 'deg': 301, 'gust': 5.17},\n",
       "   'visibility': 10000,\n",
       "   'pop': 0,\n",
       "   'sys': {'pod': 'd'},\n",
       "   'dt_txt': '2022-10-11 12:00:00'},\n",
       "  {'dt': 1665500400,\n",
       "   'main': {'temp': 14.5,\n",
       "    'feels_like': 13.13,\n",
       "    'temp_min': 14.5,\n",
       "    'temp_max': 14.5,\n",
       "    'pressure': 1025,\n",
       "    'sea_level': 1025,\n",
       "    'grnd_level': 1020,\n",
       "    'humidity': 43,\n",
       "    'temp_kf': 0},\n",
       "   'weather': [{'id': 803,\n",
       "     'main': 'Clouds',\n",
       "     'description': 'broken clouds',\n",
       "     'icon': '04d'}],\n",
       "   'clouds': {'all': 52},\n",
       "   'wind': {'speed': 2.94, 'deg': 306, 'gust': 4.06},\n",
       "   'visibility': 10000,\n",
       "   'pop': 0,\n",
       "   'sys': {'pod': 'd'},\n",
       "   'dt_txt': '2022-10-11 15:00:00'},\n",
       "  {'dt': 1665511200,\n",
       "   'main': {'temp': 11.46,\n",
       "    'feels_like': 10.1,\n",
       "    'temp_min': 11.46,\n",
       "    'temp_max': 11.46,\n",
       "    'pressure': 1026,\n",
       "    'sea_level': 1026,\n",
       "    'grnd_level': 1021,\n",
       "    'humidity': 55,\n",
       "    'temp_kf': 0},\n",
       "   'weather': [{'id': 803,\n",
       "     'main': 'Clouds',\n",
       "     'description': 'broken clouds',\n",
       "     'icon': '04n'}],\n",
       "   'clouds': {'all': 75},\n",
       "   'wind': {'speed': 1.45, 'deg': 316, 'gust': 2.4},\n",
       "   'visibility': 10000,\n",
       "   'pop': 0,\n",
       "   'sys': {'pod': 'n'},\n",
       "   'dt_txt': '2022-10-11 18:00:00'},\n",
       "  {'dt': 1665522000,\n",
       "   'main': {'temp': 9.86,\n",
       "    'feels_like': 9.86,\n",
       "    'temp_min': 9.86,\n",
       "    'temp_max': 9.86,\n",
       "    'pressure': 1026,\n",
       "    'sea_level': 1026,\n",
       "    'grnd_level': 1021,\n",
       "    'humidity': 62,\n",
       "    'temp_kf': 0},\n",
       "   'weather': [{'id': 803,\n",
       "     'main': 'Clouds',\n",
       "     'description': 'broken clouds',\n",
       "     'icon': '04n'}],\n",
       "   'clouds': {'all': 72},\n",
       "   'wind': {'speed': 1.11, 'deg': 286, 'gust': 1.12},\n",
       "   'visibility': 10000,\n",
       "   'pop': 0,\n",
       "   'sys': {'pod': 'n'},\n",
       "   'dt_txt': '2022-10-11 21:00:00'},\n",
       "  {'dt': 1665532800,\n",
       "   'main': {'temp': 8.78,\n",
       "    'feels_like': 8.78,\n",
       "    'temp_min': 8.78,\n",
       "    'temp_max': 8.78,\n",
       "    'pressure': 1026,\n",
       "    'sea_level': 1026,\n",
       "    'grnd_level': 1021,\n",
       "    'humidity': 67,\n",
       "    'temp_kf': 0},\n",
       "   'weather': [{'id': 803,\n",
       "     'main': 'Clouds',\n",
       "     'description': 'broken clouds',\n",
       "     'icon': '04n'}],\n",
       "   'clouds': {'all': 60},\n",
       "   'wind': {'speed': 1.29, 'deg': 275, 'gust': 1.46},\n",
       "   'visibility': 10000,\n",
       "   'pop': 0,\n",
       "   'sys': {'pod': 'n'},\n",
       "   'dt_txt': '2022-10-12 00:00:00'},\n",
       "  {'dt': 1665543600,\n",
       "   'main': {'temp': 7.93,\n",
       "    'feels_like': 7.93,\n",
       "    'temp_min': 7.93,\n",
       "    'temp_max': 7.93,\n",
       "    'pressure': 1026,\n",
       "    'sea_level': 1026,\n",
       "    'grnd_level': 1021,\n",
       "    'humidity': 70,\n",
       "    'temp_kf': 0},\n",
       "   'weather': [{'id': 803,\n",
       "     'main': 'Clouds',\n",
       "     'description': 'broken clouds',\n",
       "     'icon': '04n'}],\n",
       "   'clouds': {'all': 75},\n",
       "   'wind': {'speed': 0.79, 'deg': 278, 'gust': 0.78},\n",
       "   'visibility': 10000,\n",
       "   'pop': 0,\n",
       "   'sys': {'pod': 'n'},\n",
       "   'dt_txt': '2022-10-12 03:00:00'},\n",
       "  {'dt': 1665554400,\n",
       "   'main': {'temp': 8.07,\n",
       "    'feels_like': 8.07,\n",
       "    'temp_min': 8.07,\n",
       "    'temp_max': 8.07,\n",
       "    'pressure': 1026,\n",
       "    'sea_level': 1026,\n",
       "    'grnd_level': 1020,\n",
       "    'humidity': 70,\n",
       "    'temp_kf': 0},\n",
       "   'weather': [{'id': 804,\n",
       "     'main': 'Clouds',\n",
       "     'description': 'overcast clouds',\n",
       "     'icon': '04d'}],\n",
       "   'clouds': {'all': 87},\n",
       "   'wind': {'speed': 0.17, 'deg': 243, 'gust': 0.33},\n",
       "   'visibility': 10000,\n",
       "   'pop': 0,\n",
       "   'sys': {'pod': 'd'},\n",
       "   'dt_txt': '2022-10-12 06:00:00'},\n",
       "  {'dt': 1665565200,\n",
       "   'main': {'temp': 11.86,\n",
       "    'feels_like': 10.54,\n",
       "    'temp_min': 11.86,\n",
       "    'temp_max': 11.86,\n",
       "    'pressure': 1026,\n",
       "    'sea_level': 1026,\n",
       "    'grnd_level': 1021,\n",
       "    'humidity': 55,\n",
       "    'temp_kf': 0},\n",
       "   'weather': [{'id': 804,\n",
       "     'main': 'Clouds',\n",
       "     'description': 'overcast clouds',\n",
       "     'icon': '04d'}],\n",
       "   'clouds': {'all': 97},\n",
       "   'wind': {'speed': 1.02, 'deg': 136, 'gust': 1.23},\n",
       "   'visibility': 10000,\n",
       "   'pop': 0,\n",
       "   'sys': {'pod': 'd'},\n",
       "   'dt_txt': '2022-10-12 09:00:00'},\n",
       "  {'dt': 1665576000,\n",
       "   'main': {'temp': 14.81,\n",
       "    'feels_like': 13.5,\n",
       "    'temp_min': 14.81,\n",
       "    'temp_max': 14.81,\n",
       "    'pressure': 1025,\n",
       "    'sea_level': 1025,\n",
       "    'grnd_level': 1020,\n",
       "    'humidity': 44,\n",
       "    'temp_kf': 0},\n",
       "   'weather': [{'id': 803,\n",
       "     'main': 'Clouds',\n",
       "     'description': 'broken clouds',\n",
       "     'icon': '04d'}],\n",
       "   'clouds': {'all': 79},\n",
       "   'wind': {'speed': 1.61, 'deg': 145, 'gust': 1.98},\n",
       "   'visibility': 10000,\n",
       "   'pop': 0,\n",
       "   'sys': {'pod': 'd'},\n",
       "   'dt_txt': '2022-10-12 12:00:00'},\n",
       "  {'dt': 1665586800,\n",
       "   'main': {'temp': 14.9,\n",
       "    'feels_like': 13.59,\n",
       "    'temp_min': 14.9,\n",
       "    'temp_max': 14.9,\n",
       "    'pressure': 1024,\n",
       "    'sea_level': 1024,\n",
       "    'grnd_level': 1018,\n",
       "    'humidity': 44,\n",
       "    'temp_kf': 0},\n",
       "   'weather': [{'id': 802,\n",
       "     'main': 'Clouds',\n",
       "     'description': 'scattered clouds',\n",
       "     'icon': '03d'}],\n",
       "   'clouds': {'all': 27},\n",
       "   'wind': {'speed': 1.63, 'deg': 133, 'gust': 2.33},\n",
       "   'visibility': 10000,\n",
       "   'pop': 0,\n",
       "   'sys': {'pod': 'd'},\n",
       "   'dt_txt': '2022-10-12 15:00:00'}],\n",
       " 'city': {'id': 2950159,\n",
       "  'name': 'Berlin',\n",
       "  'coord': {'lat': 52.5244, 'lon': 13.4105},\n",
       "  'country': 'DE',\n",
       "  'population': 1000000,\n",
       "  'timezone': 7200,\n",
       "  'sunrise': 1665119835,\n",
       "  'sunset': 1665160258}}"
      ]
     },
     "execution_count": 60,
     "metadata": {},
     "output_type": "execute_result"
    }
   ],
   "source": [
    "response.json()"
   ]
  },
  {
   "cell_type": "code",
   "execution_count": 61,
   "metadata": {
    "colab": {
     "base_uri": "https://localhost:8080/",
     "height": 34
    },
    "id": "4yxCabB2ncmJ",
    "outputId": "97efd12c-b8ea-41da-b2b6-6a453081c9c0"
   },
   "outputs": [
    {
     "data": {
      "application/json": [
       {
        "clouds": {
         "all": 0
        },
        "dt": 1665165600,
        "dt_txt": "2022-10-07 18:00:00",
        "main": {
         "feels_like": 12.94,
         "grnd_level": 1014,
         "humidity": 65,
         "pressure": 1009,
         "sea_level": 1009,
         "temp": 13.81,
         "temp_kf": -0.1,
         "temp_max": 13.91,
         "temp_min": 13.81
        },
        "pop": 0,
        "sys": {
         "pod": "n"
        },
        "visibility": 10000,
        "weather": [
         {
          "description": "clear sky",
          "icon": "01n",
          "id": 800,
          "main": "Clear"
         }
        ],
        "wind": {
         "deg": 191,
         "gust": 5.97,
         "speed": 2.62
        }
       },
       {
        "clouds": {
         "all": 27
        },
        "dt": 1665176400,
        "dt_txt": "2022-10-07 21:00:00",
        "main": {
         "feels_like": 12.53,
         "grnd_level": 1013,
         "humidity": 64,
         "pressure": 1012,
         "sea_level": 1012,
         "temp": 13.46,
         "temp_kf": 0.7,
         "temp_max": 13.46,
         "temp_min": 12.76
        },
        "pop": 0,
        "sys": {
         "pod": "n"
        },
        "visibility": 10000,
        "weather": [
         {
          "description": "scattered clouds",
          "icon": "03n",
          "id": 802,
          "main": "Clouds"
         }
        ],
        "wind": {
         "deg": 208,
         "gust": 6.65,
         "speed": 2.58
        }
       },
       {
        "clouds": {
         "all": 60
        },
        "dt": 1665187200,
        "dt_txt": "2022-10-08 00:00:00",
        "main": {
         "feels_like": 11.79,
         "grnd_level": 1011,
         "humidity": 71,
         "pressure": 1014,
         "sea_level": 1014,
         "temp": 12.62,
         "temp_kf": 0.6,
         "temp_max": 12.62,
         "temp_min": 12.02
        },
        "pop": 0,
        "sys": {
         "pod": "n"
        },
        "visibility": 10000,
        "weather": [
         {
          "description": "broken clouds",
          "icon": "04n",
          "id": 803,
          "main": "Clouds"
         }
        ],
        "wind": {
         "deg": 221,
         "gust": 6.6,
         "speed": 2.41
        }
       },
       {
        "clouds": {
         "all": 100
        },
        "dt": 1665198000,
        "dt_txt": "2022-10-08 03:00:00",
        "main": {
         "feels_like": 10.25,
         "grnd_level": 1010,
         "humidity": 77,
         "pressure": 1015,
         "sea_level": 1015,
         "temp": 11.08,
         "temp_kf": 0,
         "temp_max": 11.08,
         "temp_min": 11.08
        },
        "pop": 0,
        "sys": {
         "pod": "n"
        },
        "visibility": 10000,
        "weather": [
         {
          "description": "overcast clouds",
          "icon": "04n",
          "id": 804,
          "main": "Clouds"
         }
        ],
        "wind": {
         "deg": 222,
         "gust": 6.56,
         "speed": 2.45
        }
       },
       {
        "clouds": {
         "all": 80
        },
        "dt": 1665208800,
        "dt_txt": "2022-10-08 06:00:00",
        "main": {
         "feels_like": 9.58,
         "grnd_level": 1010,
         "humidity": 77,
         "pressure": 1016,
         "sea_level": 1016,
         "temp": 10.47,
         "temp_kf": 0,
         "temp_max": 10.47,
         "temp_min": 10.47
        },
        "pop": 0,
        "sys": {
         "pod": "d"
        },
        "visibility": 10000,
        "weather": [
         {
          "description": "broken clouds",
          "icon": "04d",
          "id": 803,
          "main": "Clouds"
         }
        ],
        "wind": {
         "deg": 236,
         "gust": 9.95,
         "speed": 2.95
        }
       },
       {
        "clouds": {
         "all": 82
        },
        "dt": 1665219600,
        "dt_txt": "2022-10-08 09:00:00",
        "main": {
         "feels_like": 13.52,
         "grnd_level": 1011,
         "humidity": 60,
         "pressure": 1017,
         "sea_level": 1017,
         "temp": 14.45,
         "temp_kf": 0,
         "temp_max": 14.45,
         "temp_min": 14.45
        },
        "pop": 0,
        "sys": {
         "pod": "d"
        },
        "visibility": 10000,
        "weather": [
         {
          "description": "broken clouds",
          "icon": "04d",
          "id": 803,
          "main": "Clouds"
         }
        ],
        "wind": {
         "deg": 268,
         "gust": 8.14,
         "speed": 4.99
        }
       },
       {
        "clouds": {
         "all": 90
        },
        "dt": 1665230400,
        "dt_txt": "2022-10-08 12:00:00",
        "main": {
         "feels_like": 13.35,
         "grnd_level": 1012,
         "humidity": 68,
         "pressure": 1017,
         "sea_level": 1017,
         "temp": 14.11,
         "temp_kf": 0,
         "temp_max": 14.11,
         "temp_min": 14.11
        },
        "pop": 0,
        "sys": {
         "pod": "d"
        },
        "visibility": 10000,
        "weather": [
         {
          "description": "overcast clouds",
          "icon": "04d",
          "id": 804,
          "main": "Clouds"
         }
        ],
        "wind": {
         "deg": 262,
         "gust": 8.31,
         "speed": 5.74
        }
       },
       {
        "clouds": {
         "all": 54
        },
        "dt": 1665241200,
        "dt_txt": "2022-10-08 15:00:00",
        "main": {
         "feels_like": 14.62,
         "grnd_level": 1012,
         "humidity": 49,
         "pressure": 1018,
         "sea_level": 1018,
         "temp": 15.71,
         "temp_kf": 0,
         "temp_max": 15.71,
         "temp_min": 15.71
        },
        "pop": 0.26,
        "sys": {
         "pod": "d"
        },
        "visibility": 10000,
        "weather": [
         {
          "description": "broken clouds",
          "icon": "04d",
          "id": 803,
          "main": "Clouds"
         }
        ],
        "wind": {
         "deg": 279,
         "gust": 9.98,
         "speed": 5.61
        }
       },
       {
        "clouds": {
         "all": 30
        },
        "dt": 1665252000,
        "dt_txt": "2022-10-08 18:00:00",
        "main": {
         "feels_like": 11.27,
         "grnd_level": 1015,
         "humidity": 61,
         "pressure": 1021,
         "sea_level": 1021,
         "temp": 12.38,
         "temp_kf": 0,
         "temp_max": 12.38,
         "temp_min": 12.38
        },
        "pop": 0,
        "sys": {
         "pod": "n"
        },
        "visibility": 10000,
        "weather": [
         {
          "description": "scattered clouds",
          "icon": "03n",
          "id": 802,
          "main": "Clouds"
         }
        ],
        "wind": {
         "deg": 280,
         "gust": 9.97,
         "speed": 4.67
        }
       },
       {
        "clouds": {
         "all": 29
        },
        "dt": 1665262800,
        "dt_txt": "2022-10-08 21:00:00",
        "main": {
         "feels_like": 9.55,
         "grnd_level": 1017,
         "humidity": 71,
         "pressure": 1023,
         "sea_level": 1023,
         "temp": 10.58,
         "temp_kf": 0,
         "temp_max": 10.58,
         "temp_min": 10.58
        },
        "pop": 0,
        "sys": {
         "pod": "n"
        },
        "visibility": 10000,
        "weather": [
         {
          "description": "scattered clouds",
          "icon": "03n",
          "id": 802,
          "main": "Clouds"
         }
        ],
        "wind": {
         "deg": 271,
         "gust": 11.1,
         "speed": 4.37
        }
       },
       {
        "clouds": {
         "all": 15
        },
        "dt": 1665273600,
        "dt_txt": "2022-10-09 00:00:00",
        "main": {
         "feels_like": 7.14,
         "grnd_level": 1019,
         "humidity": 80,
         "pressure": 1024,
         "sea_level": 1024,
         "temp": 9.18,
         "temp_kf": 0,
         "temp_max": 9.18,
         "temp_min": 9.18
        },
        "pop": 0,
        "sys": {
         "pod": "n"
        },
        "visibility": 10000,
        "weather": [
         {
          "description": "few clouds",
          "icon": "02n",
          "id": 801,
          "main": "Clouds"
         }
        ],
        "wind": {
         "deg": 271,
         "gust": 10.02,
         "speed": 3.7
        }
       },
       {
        "clouds": {
         "all": 0
        },
        "dt": 1665284400,
        "dt_txt": "2022-10-09 03:00:00",
        "main": {
         "feels_like": 6.07,
         "grnd_level": 1020,
         "humidity": 86,
         "pressure": 1025,
         "sea_level": 1025,
         "temp": 7.96,
         "temp_kf": 0,
         "temp_max": 7.96,
         "temp_min": 7.96
        },
        "pop": 0,
        "sys": {
         "pod": "n"
        },
        "visibility": 10000,
        "weather": [
         {
          "description": "clear sky",
          "icon": "01n",
          "id": 800,
          "main": "Clear"
         }
        ],
        "wind": {
         "deg": 277,
         "gust": 7.92,
         "speed": 2.98
        }
       },
       {
        "clouds": {
         "all": 0
        },
        "dt": 1665295200,
        "dt_txt": "2022-10-09 06:00:00",
        "main": {
         "feels_like": 6,
         "grnd_level": 1021,
         "humidity": 87,
         "pressure": 1026,
         "sea_level": 1026,
         "temp": 7.48,
         "temp_kf": 0,
         "temp_max": 7.48,
         "temp_min": 7.48
        },
        "pop": 0,
        "sys": {
         "pod": "d"
        },
        "visibility": 10000,
        "weather": [
         {
          "description": "clear sky",
          "icon": "01d",
          "id": 800,
          "main": "Clear"
         }
        ],
        "wind": {
         "deg": 264,
         "gust": 4.52,
         "speed": 2.3
        }
       },
       {
        "clouds": {
         "all": 2
        },
        "dt": 1665306000,
        "dt_txt": "2022-10-09 09:00:00",
        "main": {
         "feels_like": 11.14,
         "grnd_level": 1022,
         "humidity": 65,
         "pressure": 1027,
         "sea_level": 1027,
         "temp": 12.17,
         "temp_kf": 0,
         "temp_max": 12.17,
         "temp_min": 12.17
        },
        "pop": 0,
        "sys": {
         "pod": "d"
        },
        "visibility": 10000,
        "weather": [
         {
          "description": "clear sky",
          "icon": "01d",
          "id": 800,
          "main": "Clear"
         }
        ],
        "wind": {
         "deg": 248,
         "gust": 2.4,
         "speed": 1.88
        }
       },
       {
        "clouds": {
         "all": 5
        },
        "dt": 1665316800,
        "dt_txt": "2022-10-09 12:00:00",
        "main": {
         "feels_like": 14.04,
         "grnd_level": 1021,
         "humidity": 50,
         "pressure": 1026,
         "sea_level": 1026,
         "temp": 15.16,
         "temp_kf": 0,
         "temp_max": 15.16,
         "temp_min": 15.16
        },
        "pop": 0,
        "sys": {
         "pod": "d"
        },
        "visibility": 10000,
        "weather": [
         {
          "description": "clear sky",
          "icon": "01d",
          "id": 800,
          "main": "Clear"
         }
        ],
        "wind": {
         "deg": 218,
         "gust": 2.23,
         "speed": 1.78
        }
       },
       {
        "clouds": {
         "all": 7
        },
        "dt": 1665327600,
        "dt_txt": "2022-10-09 15:00:00",
        "main": {
         "feels_like": 14.13,
         "grnd_level": 1019,
         "humidity": 46,
         "pressure": 1024,
         "sea_level": 1024,
         "temp": 15.34,
         "temp_kf": 0,
         "temp_max": 15.34,
         "temp_min": 15.34
        },
        "pop": 0,
        "sys": {
         "pod": "d"
        },
        "visibility": 10000,
        "weather": [
         {
          "description": "clear sky",
          "icon": "01d",
          "id": 800,
          "main": "Clear"
         }
        ],
        "wind": {
         "deg": 164,
         "gust": 2.35,
         "speed": 1.85
        }
       },
       {
        "clouds": {
         "all": 4
        },
        "dt": 1665338400,
        "dt_txt": "2022-10-09 18:00:00",
        "main": {
         "feels_like": 10.69,
         "grnd_level": 1019,
         "humidity": 59,
         "pressure": 1025,
         "sea_level": 1025,
         "temp": 11.9,
         "temp_kf": 0,
         "temp_max": 11.9,
         "temp_min": 11.9
        },
        "pop": 0,
        "sys": {
         "pod": "n"
        },
        "visibility": 10000,
        "weather": [
         {
          "description": "clear sky",
          "icon": "01n",
          "id": 800,
          "main": "Clear"
         }
        ],
        "wind": {
         "deg": 133,
         "gust": 5.29,
         "speed": 2.66
        }
       },
       {
        "clouds": {
         "all": 6
        },
        "dt": 1665349200,
        "dt_txt": "2022-10-09 21:00:00",
        "main": {
         "feels_like": 9.21,
         "grnd_level": 1019,
         "humidity": 67,
         "pressure": 1024,
         "sea_level": 1024,
         "temp": 10.37,
         "temp_kf": 0,
         "temp_max": 10.37,
         "temp_min": 10.37
        },
        "pop": 0,
        "sys": {
         "pod": "n"
        },
        "visibility": 10000,
        "weather": [
         {
          "description": "clear sky",
          "icon": "01n",
          "id": 800,
          "main": "Clear"
         }
        ],
        "wind": {
         "deg": 134,
         "gust": 9.37,
         "speed": 3.35
        }
       },
       {
        "clouds": {
         "all": 6
        },
        "dt": 1665360000,
        "dt_txt": "2022-10-10 00:00:00",
        "main": {
         "feels_like": 7.32,
         "grnd_level": 1017,
         "humidity": 71,
         "pressure": 1023,
         "sea_level": 1023,
         "temp": 9.25,
         "temp_kf": 0,
         "temp_max": 9.25,
         "temp_min": 9.25
        },
        "pop": 0,
        "sys": {
         "pod": "n"
        },
        "visibility": 10000,
        "weather": [
         {
          "description": "clear sky",
          "icon": "01n",
          "id": 800,
          "main": "Clear"
         }
        ],
        "wind": {
         "deg": 132,
         "gust": 10.39,
         "speed": 3.51
        }
       },
       {
        "clouds": {
         "all": 7
        },
        "dt": 1665370800,
        "dt_txt": "2022-10-10 03:00:00",
        "main": {
         "feels_like": 6.19,
         "grnd_level": 1016,
         "humidity": 73,
         "pressure": 1021,
         "sea_level": 1021,
         "temp": 8.52,
         "temp_kf": 0,
         "temp_max": 8.52,
         "temp_min": 8.52
        },
        "pop": 0,
        "sys": {
         "pod": "n"
        },
        "visibility": 10000,
        "weather": [
         {
          "description": "clear sky",
          "icon": "01n",
          "id": 800,
          "main": "Clear"
         }
        ],
        "wind": {
         "deg": 135,
         "gust": 11.45,
         "speed": 3.99
        }
       },
       {
        "clouds": {
         "all": 5
        },
        "dt": 1665381600,
        "dt_txt": "2022-10-10 06:00:00",
        "main": {
         "feels_like": 5.99,
         "grnd_level": 1014,
         "humidity": 69,
         "pressure": 1020,
         "sea_level": 1020,
         "temp": 8.42,
         "temp_kf": 0,
         "temp_max": 8.42,
         "temp_min": 8.42
        },
        "pop": 0,
        "sys": {
         "pod": "d"
        },
        "visibility": 10000,
        "weather": [
         {
          "description": "clear sky",
          "icon": "01d",
          "id": 800,
          "main": "Clear"
         }
        ],
        "wind": {
         "deg": 144,
         "gust": 12.43,
         "speed": 4.15
        }
       },
       {
        "clouds": {
         "all": 2
        },
        "dt": 1665392400,
        "dt_txt": "2022-10-10 09:00:00",
        "main": {
         "feels_like": 12.41,
         "grnd_level": 1013,
         "humidity": 48,
         "pressure": 1018,
         "sea_level": 1018,
         "temp": 13.73,
         "temp_kf": 0,
         "temp_max": 13.73,
         "temp_min": 13.73
        },
        "pop": 0,
        "sys": {
         "pod": "d"
        },
        "visibility": 10000,
        "weather": [
         {
          "description": "clear sky",
          "icon": "01d",
          "id": 800,
          "main": "Clear"
         }
        ],
        "wind": {
         "deg": 164,
         "gust": 8.52,
         "speed": 4.8
        }
       },
       {
        "clouds": {
         "all": 2
        },
        "dt": 1665403200,
        "dt_txt": "2022-10-10 12:00:00",
        "main": {
         "feels_like": 16.77,
         "grnd_level": 1011,
         "humidity": 38,
         "pressure": 1017,
         "sea_level": 1017,
         "temp": 17.93,
         "temp_kf": 0,
         "temp_max": 17.93,
         "temp_min": 17.93
        },
        "pop": 0,
        "sys": {
         "pod": "d"
        },
        "visibility": 10000,
        "weather": [
         {
          "description": "clear sky",
          "icon": "01d",
          "id": 800,
          "main": "Clear"
         }
        ],
        "wind": {
         "deg": 178,
         "gust": 5.95,
         "speed": 4.53
        }
       },
       {
        "clouds": {
         "all": 0
        },
        "dt": 1665414000,
        "dt_txt": "2022-10-10 15:00:00",
        "main": {
         "feels_like": 16.72,
         "grnd_level": 1010,
         "humidity": 44,
         "pressure": 1015,
         "sea_level": 1015,
         "temp": 17.74,
         "temp_kf": 0,
         "temp_max": 17.74,
         "temp_min": 17.74
        },
        "pop": 0,
        "sys": {
         "pod": "d"
        },
        "visibility": 10000,
        "weather": [
         {
          "description": "clear sky",
          "icon": "01d",
          "id": 800,
          "main": "Clear"
         }
        ],
        "wind": {
         "deg": 199,
         "gust": 5.85,
         "speed": 3.19
        }
       },
       {
        "clouds": {
         "all": 12
        },
        "dt": 1665424800,
        "dt_txt": "2022-10-10 18:00:00",
        "main": {
         "feels_like": 12.91,
         "grnd_level": 1011,
         "humidity": 62,
         "pressure": 1016,
         "sea_level": 1016,
         "temp": 13.85,
         "temp_kf": 0,
         "temp_max": 13.85,
         "temp_min": 13.85
        },
        "pop": 0,
        "sys": {
         "pod": "n"
        },
        "visibility": 10000,
        "weather": [
         {
          "description": "few clouds",
          "icon": "02n",
          "id": 801,
          "main": "Clouds"
         }
        ],
        "wind": {
         "deg": 249,
         "gust": 9.18,
         "speed": 3.33
        }
       },
       {
        "clouds": {
         "all": 100
        },
        "dt": 1665435600,
        "dt_txt": "2022-10-10 21:00:00",
        "main": {
         "feels_like": 11.53,
         "grnd_level": 1013,
         "humidity": 67,
         "pressure": 1018,
         "sea_level": 1018,
         "temp": 12.48,
         "temp_kf": 0,
         "temp_max": 12.48,
         "temp_min": 12.48
        },
        "pop": 0,
        "sys": {
         "pod": "n"
        },
        "visibility": 10000,
        "weather": [
         {
          "description": "overcast clouds",
          "icon": "04n",
          "id": 804,
          "main": "Clouds"
         }
        ],
        "wind": {
         "deg": 284,
         "gust": 10.88,
         "speed": 3.97
        }
       },
       {
        "clouds": {
         "all": 99
        },
        "dt": 1665446400,
        "dt_txt": "2022-10-11 00:00:00",
        "main": {
         "feels_like": 10.99,
         "grnd_level": 1015,
         "humidity": 74,
         "pressure": 1021,
         "sea_level": 1021,
         "temp": 11.82,
         "temp_kf": 0,
         "temp_max": 11.82,
         "temp_min": 11.82
        },
        "pop": 0,
        "sys": {
         "pod": "n"
        },
        "visibility": 10000,
        "weather": [
         {
          "description": "overcast clouds",
          "icon": "04n",
          "id": 804,
          "main": "Clouds"
         }
        ],
        "wind": {
         "deg": 297,
         "gust": 10.11,
         "speed": 4.22
        }
       },
       {
        "clouds": {
         "all": 65
        },
        "dt": 1665457200,
        "dt_txt": "2022-10-11 03:00:00",
        "main": {
         "feels_like": 7.47,
         "grnd_level": 1018,
         "humidity": 86,
         "pressure": 1023,
         "sea_level": 1023,
         "temp": 9.09,
         "temp_kf": 0,
         "temp_max": 9.09,
         "temp_min": 9.09
        },
        "pop": 0,
        "sys": {
         "pod": "n"
        },
        "visibility": 10000,
        "weather": [
         {
          "description": "broken clouds",
          "icon": "04n",
          "id": 803,
          "main": "Clouds"
         }
        ],
        "wind": {
         "deg": 292,
         "gust": 7.76,
         "speed": 2.92
        }
       },
       {
        "clouds": {
         "all": 33
        },
        "dt": 1665468000,
        "dt_txt": "2022-10-11 06:00:00",
        "main": {
         "feels_like": 6.3,
         "grnd_level": 1019,
         "humidity": 86,
         "pressure": 1025,
         "sea_level": 1025,
         "temp": 7.96,
         "temp_kf": 0,
         "temp_max": 7.96,
         "temp_min": 7.96
        },
        "pop": 0,
        "sys": {
         "pod": "d"
        },
        "visibility": 10000,
        "weather": [
         {
          "description": "scattered clouds",
          "icon": "03d",
          "id": 802,
          "main": "Clouds"
         }
        ],
        "wind": {
         "deg": 277,
         "gust": 5.95,
         "speed": 2.64
        }
       },
       {
        "clouds": {
         "all": 13
        },
        "dt": 1665478800,
        "dt_txt": "2022-10-11 09:00:00",
        "main": {
         "feels_like": 11.2,
         "grnd_level": 1021,
         "humidity": 58,
         "pressure": 1026,
         "sea_level": 1026,
         "temp": 12.39,
         "temp_kf": 0,
         "temp_max": 12.39,
         "temp_min": 12.39
        },
        "pop": 0,
        "sys": {
         "pod": "d"
        },
        "visibility": 10000,
        "weather": [
         {
          "description": "few clouds",
          "icon": "02d",
          "id": 801,
          "main": "Clouds"
         }
        ],
        "wind": {
         "deg": 282,
         "gust": 5.87,
         "speed": 3.44
        }
       },
       {
        "clouds": {
         "all": 53
        },
        "dt": 1665489600,
        "dt_txt": "2022-10-11 12:00:00",
        "main": {
         "feels_like": 13.3,
         "grnd_level": 1021,
         "humidity": 44,
         "pressure": 1026,
         "sea_level": 1026,
         "temp": 14.63,
         "temp_kf": 0,
         "temp_max": 14.63,
         "temp_min": 14.63
        },
        "pop": 0,
        "sys": {
         "pod": "d"
        },
        "visibility": 10000,
        "weather": [
         {
          "description": "broken clouds",
          "icon": "04d",
          "id": 803,
          "main": "Clouds"
         }
        ],
        "wind": {
         "deg": 301,
         "gust": 5.17,
         "speed": 3.91
        }
       },
       {
        "clouds": {
         "all": 52
        },
        "dt": 1665500400,
        "dt_txt": "2022-10-11 15:00:00",
        "main": {
         "feels_like": 13.13,
         "grnd_level": 1020,
         "humidity": 43,
         "pressure": 1025,
         "sea_level": 1025,
         "temp": 14.5,
         "temp_kf": 0,
         "temp_max": 14.5,
         "temp_min": 14.5
        },
        "pop": 0,
        "sys": {
         "pod": "d"
        },
        "visibility": 10000,
        "weather": [
         {
          "description": "broken clouds",
          "icon": "04d",
          "id": 803,
          "main": "Clouds"
         }
        ],
        "wind": {
         "deg": 306,
         "gust": 4.06,
         "speed": 2.94
        }
       },
       {
        "clouds": {
         "all": 75
        },
        "dt": 1665511200,
        "dt_txt": "2022-10-11 18:00:00",
        "main": {
         "feels_like": 10.1,
         "grnd_level": 1021,
         "humidity": 55,
         "pressure": 1026,
         "sea_level": 1026,
         "temp": 11.46,
         "temp_kf": 0,
         "temp_max": 11.46,
         "temp_min": 11.46
        },
        "pop": 0,
        "sys": {
         "pod": "n"
        },
        "visibility": 10000,
        "weather": [
         {
          "description": "broken clouds",
          "icon": "04n",
          "id": 803,
          "main": "Clouds"
         }
        ],
        "wind": {
         "deg": 316,
         "gust": 2.4,
         "speed": 1.45
        }
       },
       {
        "clouds": {
         "all": 72
        },
        "dt": 1665522000,
        "dt_txt": "2022-10-11 21:00:00",
        "main": {
         "feels_like": 9.86,
         "grnd_level": 1021,
         "humidity": 62,
         "pressure": 1026,
         "sea_level": 1026,
         "temp": 9.86,
         "temp_kf": 0,
         "temp_max": 9.86,
         "temp_min": 9.86
        },
        "pop": 0,
        "sys": {
         "pod": "n"
        },
        "visibility": 10000,
        "weather": [
         {
          "description": "broken clouds",
          "icon": "04n",
          "id": 803,
          "main": "Clouds"
         }
        ],
        "wind": {
         "deg": 286,
         "gust": 1.12,
         "speed": 1.11
        }
       },
       {
        "clouds": {
         "all": 60
        },
        "dt": 1665532800,
        "dt_txt": "2022-10-12 00:00:00",
        "main": {
         "feels_like": 8.78,
         "grnd_level": 1021,
         "humidity": 67,
         "pressure": 1026,
         "sea_level": 1026,
         "temp": 8.78,
         "temp_kf": 0,
         "temp_max": 8.78,
         "temp_min": 8.78
        },
        "pop": 0,
        "sys": {
         "pod": "n"
        },
        "visibility": 10000,
        "weather": [
         {
          "description": "broken clouds",
          "icon": "04n",
          "id": 803,
          "main": "Clouds"
         }
        ],
        "wind": {
         "deg": 275,
         "gust": 1.46,
         "speed": 1.29
        }
       },
       {
        "clouds": {
         "all": 75
        },
        "dt": 1665543600,
        "dt_txt": "2022-10-12 03:00:00",
        "main": {
         "feels_like": 7.93,
         "grnd_level": 1021,
         "humidity": 70,
         "pressure": 1026,
         "sea_level": 1026,
         "temp": 7.93,
         "temp_kf": 0,
         "temp_max": 7.93,
         "temp_min": 7.93
        },
        "pop": 0,
        "sys": {
         "pod": "n"
        },
        "visibility": 10000,
        "weather": [
         {
          "description": "broken clouds",
          "icon": "04n",
          "id": 803,
          "main": "Clouds"
         }
        ],
        "wind": {
         "deg": 278,
         "gust": 0.78,
         "speed": 0.79
        }
       },
       {
        "clouds": {
         "all": 87
        },
        "dt": 1665554400,
        "dt_txt": "2022-10-12 06:00:00",
        "main": {
         "feels_like": 8.07,
         "grnd_level": 1020,
         "humidity": 70,
         "pressure": 1026,
         "sea_level": 1026,
         "temp": 8.07,
         "temp_kf": 0,
         "temp_max": 8.07,
         "temp_min": 8.07
        },
        "pop": 0,
        "sys": {
         "pod": "d"
        },
        "visibility": 10000,
        "weather": [
         {
          "description": "overcast clouds",
          "icon": "04d",
          "id": 804,
          "main": "Clouds"
         }
        ],
        "wind": {
         "deg": 243,
         "gust": 0.33,
         "speed": 0.17
        }
       },
       {
        "clouds": {
         "all": 97
        },
        "dt": 1665565200,
        "dt_txt": "2022-10-12 09:00:00",
        "main": {
         "feels_like": 10.54,
         "grnd_level": 1021,
         "humidity": 55,
         "pressure": 1026,
         "sea_level": 1026,
         "temp": 11.86,
         "temp_kf": 0,
         "temp_max": 11.86,
         "temp_min": 11.86
        },
        "pop": 0,
        "sys": {
         "pod": "d"
        },
        "visibility": 10000,
        "weather": [
         {
          "description": "overcast clouds",
          "icon": "04d",
          "id": 804,
          "main": "Clouds"
         }
        ],
        "wind": {
         "deg": 136,
         "gust": 1.23,
         "speed": 1.02
        }
       },
       {
        "clouds": {
         "all": 79
        },
        "dt": 1665576000,
        "dt_txt": "2022-10-12 12:00:00",
        "main": {
         "feels_like": 13.5,
         "grnd_level": 1020,
         "humidity": 44,
         "pressure": 1025,
         "sea_level": 1025,
         "temp": 14.81,
         "temp_kf": 0,
         "temp_max": 14.81,
         "temp_min": 14.81
        },
        "pop": 0,
        "sys": {
         "pod": "d"
        },
        "visibility": 10000,
        "weather": [
         {
          "description": "broken clouds",
          "icon": "04d",
          "id": 803,
          "main": "Clouds"
         }
        ],
        "wind": {
         "deg": 145,
         "gust": 1.98,
         "speed": 1.61
        }
       },
       {
        "clouds": {
         "all": 27
        },
        "dt": 1665586800,
        "dt_txt": "2022-10-12 15:00:00",
        "main": {
         "feels_like": 13.59,
         "grnd_level": 1018,
         "humidity": 44,
         "pressure": 1024,
         "sea_level": 1024,
         "temp": 14.9,
         "temp_kf": 0,
         "temp_max": 14.9,
         "temp_min": 14.9
        },
        "pop": 0,
        "sys": {
         "pod": "d"
        },
        "visibility": 10000,
        "weather": [
         {
          "description": "scattered clouds",
          "icon": "03d",
          "id": 802,
          "main": "Clouds"
         }
        ],
        "wind": {
         "deg": 133,
         "gust": 2.33,
         "speed": 1.63
        }
       }
      ],
      "text/plain": [
       "<IPython.core.display.JSON object>"
      ]
     },
     "execution_count": 61,
     "metadata": {
      "application/json": {
       "expanded": false,
       "root": "root"
      }
     },
     "output_type": "execute_result"
    }
   ],
   "source": [
    "#This will only work in jupyter notebook so if you are using colab you can skip it\n",
    "\n",
    "from IPython.display import JSON\n",
    "# JSON() helps us preview the json in scalable way\n",
    "JSON(response.json())\n",
    "# under the node 'list' are the actual weather informations for each hour\n",
    "JSON(response.json()['list'])"
   ]
  },
  {
   "cell_type": "markdown",
   "metadata": {
    "id": "aszMbScYncmK"
   },
   "source": [
    "#### 3.2.3 Gathering the data we need from json"
   ]
  },
  {
   "cell_type": "code",
   "execution_count": 70,
   "metadata": {
    "id": "SarXLzpHncmK"
   },
   "outputs": [],
   "source": [
    "\n",
    "\n",
    "weather_dict = {'city_id': [],\n",
    "                'forecast_time': [],\n",
    "                'outlook': [],\n",
    "                'temperature': [],\n",
    "                'feels_like': [],\n",
    "                'wind_speed': [],\n",
    "                'pop': []}\n",
    "# iterating over items in 'list' node and selecting the subnodes gives us the exact info we need \n",
    "for hour in response.json()['list']:\n",
    "  weather_dict['city_id'].append(cities['city_id'][0])\n",
    "  weather_dict['temperature'].append(hour['main']['temp'])\n",
    "  weather_dict['wind_speed'].append(hour['wind']['speed'])\n",
    "  weather_dict['forecast_time'].append(hour['dt_txt'])\n",
    "  weather_dict['outlook'].append(hour['weather'][0]['description'])\n",
    "  weather_dict['feels_like'].append(hour['main']['feels_like'])\n",
    "  weather_dict['pop'].append(hour['pop'])\n",
    "weather_df = pd.DataFrame(weather_dict)\n"
   ]
  },
  {
   "cell_type": "markdown",
   "metadata": {
    "id": "6iOSPqwYncmK"
   },
   "source": [
    "#### 3.2.4 Creating a new weather DataFrame"
   ]
  },
  {
   "cell_type": "code",
   "execution_count": 71,
   "metadata": {
    "colab": {
     "base_uri": "https://localhost:8080/",
     "height": 1000
    },
    "id": "CHc7eVe5ncmK",
    "outputId": "608a7fea-147a-4863-bcad-ca87fd1d55d2",
    "tags": []
   },
   "outputs": [
    {
     "data": {
      "text/html": [
       "<div>\n",
       "<style scoped>\n",
       "    .dataframe tbody tr th:only-of-type {\n",
       "        vertical-align: middle;\n",
       "    }\n",
       "\n",
       "    .dataframe tbody tr th {\n",
       "        vertical-align: top;\n",
       "    }\n",
       "\n",
       "    .dataframe thead th {\n",
       "        text-align: right;\n",
       "    }\n",
       "</style>\n",
       "<table border=\"1\" class=\"dataframe\">\n",
       "  <thead>\n",
       "    <tr style=\"text-align: right;\">\n",
       "      <th></th>\n",
       "      <th>city_id</th>\n",
       "      <th>forecast_time</th>\n",
       "      <th>outlook</th>\n",
       "      <th>temperature</th>\n",
       "      <th>feels_like</th>\n",
       "      <th>wind_speed</th>\n",
       "      <th>pop</th>\n",
       "    </tr>\n",
       "  </thead>\n",
       "  <tbody>\n",
       "    <tr>\n",
       "      <th>0</th>\n",
       "      <td>6</td>\n",
       "      <td>2022-10-07 18:00:00</td>\n",
       "      <td>clear sky</td>\n",
       "      <td>13.81</td>\n",
       "      <td>12.94</td>\n",
       "      <td>2.62</td>\n",
       "      <td>0.00</td>\n",
       "    </tr>\n",
       "    <tr>\n",
       "      <th>1</th>\n",
       "      <td>6</td>\n",
       "      <td>2022-10-07 21:00:00</td>\n",
       "      <td>scattered clouds</td>\n",
       "      <td>13.46</td>\n",
       "      <td>12.53</td>\n",
       "      <td>2.58</td>\n",
       "      <td>0.00</td>\n",
       "    </tr>\n",
       "    <tr>\n",
       "      <th>2</th>\n",
       "      <td>6</td>\n",
       "      <td>2022-10-08 00:00:00</td>\n",
       "      <td>broken clouds</td>\n",
       "      <td>12.62</td>\n",
       "      <td>11.79</td>\n",
       "      <td>2.41</td>\n",
       "      <td>0.00</td>\n",
       "    </tr>\n",
       "    <tr>\n",
       "      <th>3</th>\n",
       "      <td>6</td>\n",
       "      <td>2022-10-08 03:00:00</td>\n",
       "      <td>overcast clouds</td>\n",
       "      <td>11.08</td>\n",
       "      <td>10.25</td>\n",
       "      <td>2.45</td>\n",
       "      <td>0.00</td>\n",
       "    </tr>\n",
       "    <tr>\n",
       "      <th>4</th>\n",
       "      <td>6</td>\n",
       "      <td>2022-10-08 06:00:00</td>\n",
       "      <td>broken clouds</td>\n",
       "      <td>10.47</td>\n",
       "      <td>9.58</td>\n",
       "      <td>2.95</td>\n",
       "      <td>0.00</td>\n",
       "    </tr>\n",
       "    <tr>\n",
       "      <th>5</th>\n",
       "      <td>6</td>\n",
       "      <td>2022-10-08 09:00:00</td>\n",
       "      <td>broken clouds</td>\n",
       "      <td>14.45</td>\n",
       "      <td>13.52</td>\n",
       "      <td>4.99</td>\n",
       "      <td>0.00</td>\n",
       "    </tr>\n",
       "    <tr>\n",
       "      <th>6</th>\n",
       "      <td>6</td>\n",
       "      <td>2022-10-08 12:00:00</td>\n",
       "      <td>overcast clouds</td>\n",
       "      <td>14.11</td>\n",
       "      <td>13.35</td>\n",
       "      <td>5.74</td>\n",
       "      <td>0.00</td>\n",
       "    </tr>\n",
       "    <tr>\n",
       "      <th>7</th>\n",
       "      <td>6</td>\n",
       "      <td>2022-10-08 15:00:00</td>\n",
       "      <td>broken clouds</td>\n",
       "      <td>15.71</td>\n",
       "      <td>14.62</td>\n",
       "      <td>5.61</td>\n",
       "      <td>0.26</td>\n",
       "    </tr>\n",
       "    <tr>\n",
       "      <th>8</th>\n",
       "      <td>6</td>\n",
       "      <td>2022-10-08 18:00:00</td>\n",
       "      <td>scattered clouds</td>\n",
       "      <td>12.38</td>\n",
       "      <td>11.27</td>\n",
       "      <td>4.67</td>\n",
       "      <td>0.00</td>\n",
       "    </tr>\n",
       "    <tr>\n",
       "      <th>9</th>\n",
       "      <td>6</td>\n",
       "      <td>2022-10-08 21:00:00</td>\n",
       "      <td>scattered clouds</td>\n",
       "      <td>10.58</td>\n",
       "      <td>9.55</td>\n",
       "      <td>4.37</td>\n",
       "      <td>0.00</td>\n",
       "    </tr>\n",
       "    <tr>\n",
       "      <th>10</th>\n",
       "      <td>6</td>\n",
       "      <td>2022-10-09 00:00:00</td>\n",
       "      <td>few clouds</td>\n",
       "      <td>9.18</td>\n",
       "      <td>7.14</td>\n",
       "      <td>3.70</td>\n",
       "      <td>0.00</td>\n",
       "    </tr>\n",
       "    <tr>\n",
       "      <th>11</th>\n",
       "      <td>6</td>\n",
       "      <td>2022-10-09 03:00:00</td>\n",
       "      <td>clear sky</td>\n",
       "      <td>7.96</td>\n",
       "      <td>6.07</td>\n",
       "      <td>2.98</td>\n",
       "      <td>0.00</td>\n",
       "    </tr>\n",
       "    <tr>\n",
       "      <th>12</th>\n",
       "      <td>6</td>\n",
       "      <td>2022-10-09 06:00:00</td>\n",
       "      <td>clear sky</td>\n",
       "      <td>7.48</td>\n",
       "      <td>6.00</td>\n",
       "      <td>2.30</td>\n",
       "      <td>0.00</td>\n",
       "    </tr>\n",
       "    <tr>\n",
       "      <th>13</th>\n",
       "      <td>6</td>\n",
       "      <td>2022-10-09 09:00:00</td>\n",
       "      <td>clear sky</td>\n",
       "      <td>12.17</td>\n",
       "      <td>11.14</td>\n",
       "      <td>1.88</td>\n",
       "      <td>0.00</td>\n",
       "    </tr>\n",
       "    <tr>\n",
       "      <th>14</th>\n",
       "      <td>6</td>\n",
       "      <td>2022-10-09 12:00:00</td>\n",
       "      <td>clear sky</td>\n",
       "      <td>15.16</td>\n",
       "      <td>14.04</td>\n",
       "      <td>1.78</td>\n",
       "      <td>0.00</td>\n",
       "    </tr>\n",
       "    <tr>\n",
       "      <th>15</th>\n",
       "      <td>6</td>\n",
       "      <td>2022-10-09 15:00:00</td>\n",
       "      <td>clear sky</td>\n",
       "      <td>15.34</td>\n",
       "      <td>14.13</td>\n",
       "      <td>1.85</td>\n",
       "      <td>0.00</td>\n",
       "    </tr>\n",
       "    <tr>\n",
       "      <th>16</th>\n",
       "      <td>6</td>\n",
       "      <td>2022-10-09 18:00:00</td>\n",
       "      <td>clear sky</td>\n",
       "      <td>11.90</td>\n",
       "      <td>10.69</td>\n",
       "      <td>2.66</td>\n",
       "      <td>0.00</td>\n",
       "    </tr>\n",
       "    <tr>\n",
       "      <th>17</th>\n",
       "      <td>6</td>\n",
       "      <td>2022-10-09 21:00:00</td>\n",
       "      <td>clear sky</td>\n",
       "      <td>10.37</td>\n",
       "      <td>9.21</td>\n",
       "      <td>3.35</td>\n",
       "      <td>0.00</td>\n",
       "    </tr>\n",
       "    <tr>\n",
       "      <th>18</th>\n",
       "      <td>6</td>\n",
       "      <td>2022-10-10 00:00:00</td>\n",
       "      <td>clear sky</td>\n",
       "      <td>9.25</td>\n",
       "      <td>7.32</td>\n",
       "      <td>3.51</td>\n",
       "      <td>0.00</td>\n",
       "    </tr>\n",
       "    <tr>\n",
       "      <th>19</th>\n",
       "      <td>6</td>\n",
       "      <td>2022-10-10 03:00:00</td>\n",
       "      <td>clear sky</td>\n",
       "      <td>8.52</td>\n",
       "      <td>6.19</td>\n",
       "      <td>3.99</td>\n",
       "      <td>0.00</td>\n",
       "    </tr>\n",
       "    <tr>\n",
       "      <th>20</th>\n",
       "      <td>6</td>\n",
       "      <td>2022-10-10 06:00:00</td>\n",
       "      <td>clear sky</td>\n",
       "      <td>8.42</td>\n",
       "      <td>5.99</td>\n",
       "      <td>4.15</td>\n",
       "      <td>0.00</td>\n",
       "    </tr>\n",
       "    <tr>\n",
       "      <th>21</th>\n",
       "      <td>6</td>\n",
       "      <td>2022-10-10 09:00:00</td>\n",
       "      <td>clear sky</td>\n",
       "      <td>13.73</td>\n",
       "      <td>12.41</td>\n",
       "      <td>4.80</td>\n",
       "      <td>0.00</td>\n",
       "    </tr>\n",
       "    <tr>\n",
       "      <th>22</th>\n",
       "      <td>6</td>\n",
       "      <td>2022-10-10 12:00:00</td>\n",
       "      <td>clear sky</td>\n",
       "      <td>17.93</td>\n",
       "      <td>16.77</td>\n",
       "      <td>4.53</td>\n",
       "      <td>0.00</td>\n",
       "    </tr>\n",
       "    <tr>\n",
       "      <th>23</th>\n",
       "      <td>6</td>\n",
       "      <td>2022-10-10 15:00:00</td>\n",
       "      <td>clear sky</td>\n",
       "      <td>17.74</td>\n",
       "      <td>16.72</td>\n",
       "      <td>3.19</td>\n",
       "      <td>0.00</td>\n",
       "    </tr>\n",
       "    <tr>\n",
       "      <th>24</th>\n",
       "      <td>6</td>\n",
       "      <td>2022-10-10 18:00:00</td>\n",
       "      <td>few clouds</td>\n",
       "      <td>13.85</td>\n",
       "      <td>12.91</td>\n",
       "      <td>3.33</td>\n",
       "      <td>0.00</td>\n",
       "    </tr>\n",
       "    <tr>\n",
       "      <th>25</th>\n",
       "      <td>6</td>\n",
       "      <td>2022-10-10 21:00:00</td>\n",
       "      <td>overcast clouds</td>\n",
       "      <td>12.48</td>\n",
       "      <td>11.53</td>\n",
       "      <td>3.97</td>\n",
       "      <td>0.00</td>\n",
       "    </tr>\n",
       "    <tr>\n",
       "      <th>26</th>\n",
       "      <td>6</td>\n",
       "      <td>2022-10-11 00:00:00</td>\n",
       "      <td>overcast clouds</td>\n",
       "      <td>11.82</td>\n",
       "      <td>10.99</td>\n",
       "      <td>4.22</td>\n",
       "      <td>0.00</td>\n",
       "    </tr>\n",
       "    <tr>\n",
       "      <th>27</th>\n",
       "      <td>6</td>\n",
       "      <td>2022-10-11 03:00:00</td>\n",
       "      <td>broken clouds</td>\n",
       "      <td>9.09</td>\n",
       "      <td>7.47</td>\n",
       "      <td>2.92</td>\n",
       "      <td>0.00</td>\n",
       "    </tr>\n",
       "    <tr>\n",
       "      <th>28</th>\n",
       "      <td>6</td>\n",
       "      <td>2022-10-11 06:00:00</td>\n",
       "      <td>scattered clouds</td>\n",
       "      <td>7.96</td>\n",
       "      <td>6.30</td>\n",
       "      <td>2.64</td>\n",
       "      <td>0.00</td>\n",
       "    </tr>\n",
       "    <tr>\n",
       "      <th>29</th>\n",
       "      <td>6</td>\n",
       "      <td>2022-10-11 09:00:00</td>\n",
       "      <td>few clouds</td>\n",
       "      <td>12.39</td>\n",
       "      <td>11.20</td>\n",
       "      <td>3.44</td>\n",
       "      <td>0.00</td>\n",
       "    </tr>\n",
       "    <tr>\n",
       "      <th>30</th>\n",
       "      <td>6</td>\n",
       "      <td>2022-10-11 12:00:00</td>\n",
       "      <td>broken clouds</td>\n",
       "      <td>14.63</td>\n",
       "      <td>13.30</td>\n",
       "      <td>3.91</td>\n",
       "      <td>0.00</td>\n",
       "    </tr>\n",
       "    <tr>\n",
       "      <th>31</th>\n",
       "      <td>6</td>\n",
       "      <td>2022-10-11 15:00:00</td>\n",
       "      <td>broken clouds</td>\n",
       "      <td>14.50</td>\n",
       "      <td>13.13</td>\n",
       "      <td>2.94</td>\n",
       "      <td>0.00</td>\n",
       "    </tr>\n",
       "    <tr>\n",
       "      <th>32</th>\n",
       "      <td>6</td>\n",
       "      <td>2022-10-11 18:00:00</td>\n",
       "      <td>broken clouds</td>\n",
       "      <td>11.46</td>\n",
       "      <td>10.10</td>\n",
       "      <td>1.45</td>\n",
       "      <td>0.00</td>\n",
       "    </tr>\n",
       "    <tr>\n",
       "      <th>33</th>\n",
       "      <td>6</td>\n",
       "      <td>2022-10-11 21:00:00</td>\n",
       "      <td>broken clouds</td>\n",
       "      <td>9.86</td>\n",
       "      <td>9.86</td>\n",
       "      <td>1.11</td>\n",
       "      <td>0.00</td>\n",
       "    </tr>\n",
       "    <tr>\n",
       "      <th>34</th>\n",
       "      <td>6</td>\n",
       "      <td>2022-10-12 00:00:00</td>\n",
       "      <td>broken clouds</td>\n",
       "      <td>8.78</td>\n",
       "      <td>8.78</td>\n",
       "      <td>1.29</td>\n",
       "      <td>0.00</td>\n",
       "    </tr>\n",
       "    <tr>\n",
       "      <th>35</th>\n",
       "      <td>6</td>\n",
       "      <td>2022-10-12 03:00:00</td>\n",
       "      <td>broken clouds</td>\n",
       "      <td>7.93</td>\n",
       "      <td>7.93</td>\n",
       "      <td>0.79</td>\n",
       "      <td>0.00</td>\n",
       "    </tr>\n",
       "    <tr>\n",
       "      <th>36</th>\n",
       "      <td>6</td>\n",
       "      <td>2022-10-12 06:00:00</td>\n",
       "      <td>overcast clouds</td>\n",
       "      <td>8.07</td>\n",
       "      <td>8.07</td>\n",
       "      <td>0.17</td>\n",
       "      <td>0.00</td>\n",
       "    </tr>\n",
       "    <tr>\n",
       "      <th>37</th>\n",
       "      <td>6</td>\n",
       "      <td>2022-10-12 09:00:00</td>\n",
       "      <td>overcast clouds</td>\n",
       "      <td>11.86</td>\n",
       "      <td>10.54</td>\n",
       "      <td>1.02</td>\n",
       "      <td>0.00</td>\n",
       "    </tr>\n",
       "    <tr>\n",
       "      <th>38</th>\n",
       "      <td>6</td>\n",
       "      <td>2022-10-12 12:00:00</td>\n",
       "      <td>broken clouds</td>\n",
       "      <td>14.81</td>\n",
       "      <td>13.50</td>\n",
       "      <td>1.61</td>\n",
       "      <td>0.00</td>\n",
       "    </tr>\n",
       "    <tr>\n",
       "      <th>39</th>\n",
       "      <td>6</td>\n",
       "      <td>2022-10-12 15:00:00</td>\n",
       "      <td>scattered clouds</td>\n",
       "      <td>14.90</td>\n",
       "      <td>13.59</td>\n",
       "      <td>1.63</td>\n",
       "      <td>0.00</td>\n",
       "    </tr>\n",
       "  </tbody>\n",
       "</table>\n",
       "</div>"
      ],
      "text/plain": [
       "    city_id        forecast_time           outlook  temperature  feels_like  \\\n",
       "0         6  2022-10-07 18:00:00         clear sky        13.81       12.94   \n",
       "1         6  2022-10-07 21:00:00  scattered clouds        13.46       12.53   \n",
       "2         6  2022-10-08 00:00:00     broken clouds        12.62       11.79   \n",
       "3         6  2022-10-08 03:00:00   overcast clouds        11.08       10.25   \n",
       "4         6  2022-10-08 06:00:00     broken clouds        10.47        9.58   \n",
       "5         6  2022-10-08 09:00:00     broken clouds        14.45       13.52   \n",
       "6         6  2022-10-08 12:00:00   overcast clouds        14.11       13.35   \n",
       "7         6  2022-10-08 15:00:00     broken clouds        15.71       14.62   \n",
       "8         6  2022-10-08 18:00:00  scattered clouds        12.38       11.27   \n",
       "9         6  2022-10-08 21:00:00  scattered clouds        10.58        9.55   \n",
       "10        6  2022-10-09 00:00:00        few clouds         9.18        7.14   \n",
       "11        6  2022-10-09 03:00:00         clear sky         7.96        6.07   \n",
       "12        6  2022-10-09 06:00:00         clear sky         7.48        6.00   \n",
       "13        6  2022-10-09 09:00:00         clear sky        12.17       11.14   \n",
       "14        6  2022-10-09 12:00:00         clear sky        15.16       14.04   \n",
       "15        6  2022-10-09 15:00:00         clear sky        15.34       14.13   \n",
       "16        6  2022-10-09 18:00:00         clear sky        11.90       10.69   \n",
       "17        6  2022-10-09 21:00:00         clear sky        10.37        9.21   \n",
       "18        6  2022-10-10 00:00:00         clear sky         9.25        7.32   \n",
       "19        6  2022-10-10 03:00:00         clear sky         8.52        6.19   \n",
       "20        6  2022-10-10 06:00:00         clear sky         8.42        5.99   \n",
       "21        6  2022-10-10 09:00:00         clear sky        13.73       12.41   \n",
       "22        6  2022-10-10 12:00:00         clear sky        17.93       16.77   \n",
       "23        6  2022-10-10 15:00:00         clear sky        17.74       16.72   \n",
       "24        6  2022-10-10 18:00:00        few clouds        13.85       12.91   \n",
       "25        6  2022-10-10 21:00:00   overcast clouds        12.48       11.53   \n",
       "26        6  2022-10-11 00:00:00   overcast clouds        11.82       10.99   \n",
       "27        6  2022-10-11 03:00:00     broken clouds         9.09        7.47   \n",
       "28        6  2022-10-11 06:00:00  scattered clouds         7.96        6.30   \n",
       "29        6  2022-10-11 09:00:00        few clouds        12.39       11.20   \n",
       "30        6  2022-10-11 12:00:00     broken clouds        14.63       13.30   \n",
       "31        6  2022-10-11 15:00:00     broken clouds        14.50       13.13   \n",
       "32        6  2022-10-11 18:00:00     broken clouds        11.46       10.10   \n",
       "33        6  2022-10-11 21:00:00     broken clouds         9.86        9.86   \n",
       "34        6  2022-10-12 00:00:00     broken clouds         8.78        8.78   \n",
       "35        6  2022-10-12 03:00:00     broken clouds         7.93        7.93   \n",
       "36        6  2022-10-12 06:00:00   overcast clouds         8.07        8.07   \n",
       "37        6  2022-10-12 09:00:00   overcast clouds        11.86       10.54   \n",
       "38        6  2022-10-12 12:00:00     broken clouds        14.81       13.50   \n",
       "39        6  2022-10-12 15:00:00  scattered clouds        14.90       13.59   \n",
       "\n",
       "    wind_speed   pop  \n",
       "0         2.62  0.00  \n",
       "1         2.58  0.00  \n",
       "2         2.41  0.00  \n",
       "3         2.45  0.00  \n",
       "4         2.95  0.00  \n",
       "5         4.99  0.00  \n",
       "6         5.74  0.00  \n",
       "7         5.61  0.26  \n",
       "8         4.67  0.00  \n",
       "9         4.37  0.00  \n",
       "10        3.70  0.00  \n",
       "11        2.98  0.00  \n",
       "12        2.30  0.00  \n",
       "13        1.88  0.00  \n",
       "14        1.78  0.00  \n",
       "15        1.85  0.00  \n",
       "16        2.66  0.00  \n",
       "17        3.35  0.00  \n",
       "18        3.51  0.00  \n",
       "19        3.99  0.00  \n",
       "20        4.15  0.00  \n",
       "21        4.80  0.00  \n",
       "22        4.53  0.00  \n",
       "23        3.19  0.00  \n",
       "24        3.33  0.00  \n",
       "25        3.97  0.00  \n",
       "26        4.22  0.00  \n",
       "27        2.92  0.00  \n",
       "28        2.64  0.00  \n",
       "29        3.44  0.00  \n",
       "30        3.91  0.00  \n",
       "31        2.94  0.00  \n",
       "32        1.45  0.00  \n",
       "33        1.11  0.00  \n",
       "34        1.29  0.00  \n",
       "35        0.79  0.00  \n",
       "36        0.17  0.00  \n",
       "37        1.02  0.00  \n",
       "38        1.61  0.00  \n",
       "39        1.63  0.00  "
      ]
     },
     "execution_count": 71,
     "metadata": {},
     "output_type": "execute_result"
    }
   ],
   "source": [
    "weather_df = pd.DataFrame(weather_dict)\n",
    "weather_df"
   ]
  },
  {
   "cell_type": "code",
   "execution_count": 72,
   "metadata": {},
   "outputs": [],
   "source": [
    "schema=\"gans_database\"   # name of the database you want to use here\n",
    "host=\"127.0.0.1\"        # to connect to your local server\n",
    "user=\"root\"\n",
    "password=\"SharpGajanan9860\" # your password!!!!\n",
    "port=3306\n",
    "con = f'mysql+pymysql://{user}:{password}@{host}:{port}/{schema}'"
   ]
  },
  {
   "cell_type": "code",
   "execution_count": 73,
   "metadata": {},
   "outputs": [
    {
     "data": {
      "text/plain": [
       "40"
      ]
     },
     "execution_count": 73,
     "metadata": {},
     "output_type": "execute_result"
    }
   ],
   "source": [
    "weather_df.to_sql('weathers',         # 'iss_logs'-> table name;\n",
    "              if_exists='append', # if_exists -> will create new table if doesn't exist, otherwise, 'append' - will append data to existing table;\n",
    "              con=con,            # con-> connection string;\n",
    "              index=False)"
   ]
  },
  {
   "cell_type": "code",
   "execution_count": null,
   "metadata": {},
   "outputs": [],
   "source": []
  }
 ],
 "metadata": {
  "colab": {
   "collapsed_sections": [],
   "provenance": [],
   "toc_visible": true
  },
  "kernelspec": {
   "display_name": "Python 3 (ipykernel)",
   "language": "python",
   "name": "python3"
  },
  "language_info": {
   "codemirror_mode": {
    "name": "ipython",
    "version": 3
   },
   "file_extension": ".py",
   "mimetype": "text/x-python",
   "name": "python",
   "nbconvert_exporter": "python",
   "pygments_lexer": "ipython3",
   "version": "3.9.12"
  }
 },
 "nbformat": 4,
 "nbformat_minor": 1
}
