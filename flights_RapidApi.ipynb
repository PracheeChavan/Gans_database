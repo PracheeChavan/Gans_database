{
 "cells": [
  {
   "cell_type": "code",
   "execution_count": 13,
   "metadata": {
    "id": "h9FKm7mrkbqS"
   },
   "outputs": [],
   "source": [
    "import pandas as pd\n",
    "from datetime import datetime, date, timedelta\n",
    "import requests\n",
    "from pytz import timezone"
   ]
  },
  {
   "cell_type": "code",
   "execution_count": 25,
   "metadata": {
    "id": "iuNXcx-oMbX3"
   },
   "outputs": [],
   "source": [
    "def tomorrows_flight_arrivals(icao_list):\n",
    "\n",
    "  today = datetime.now().astimezone(timezone('Europe/Berlin')).date()\n",
    "  tomorrow = (today + timedelta(days=1))\n",
    "  \n",
    "  list_for_df = []\n",
    "  \n",
    "  for icao in icao_list:\n",
    "    times = [[\"00:00\",\"11:59\"],[\"12:00\",\"23:59\"]]\n",
    "   \n",
    "    for time in times:\n",
    "      url = f\"https://aerodatabox.p.rapidapi.com/flights/airports/icao/{icao}/{tomorrow}T{time[0]}/{tomorrow}T{time[1]}\"\n",
    "      querystring = {\"withLeg\":\"true\",\"direction\":\"Arrival\",\"withCancelled\":\"false\",\"withCodeshared\":\"true\",\"withCargo\":\"false\",\"withPrivate\":\"false\"}\n",
    "      headers = {\n",
    "          \"X-RapidAPI-Key\": \"0dc165bb4fmsh6e66l9b050bma2dp1fb4afjsnfb0f7c4c9dc9\",\n",
    "          \"X-RapidAPI-Host\": \"aerodatabox.p.rapidapi.com\"\n",
    "          }\n",
    "      response = requests.request(\"GET\", url, headers=headers, params=querystring)\n",
    "      flights_json = response.json()\n",
    "\n",
    "      for flight in flights_json['arrivals']:\n",
    "        flights_dict = {}\n",
    "        flights_dict['flight_number'] = flight.get('number', None)\n",
    "        flights_dict['departure_icao'] = flight['departure']['airport'].get('icao', None)\n",
    "        flights_dict['arrival_icao'] = icao\n",
    "        flights_dict['arrival_time'] = flight['arrival'].get('scheduledTimeLocal', None)\n",
    "        \n",
    "        list_for_df.append(flights_dict)\n",
    "\n",
    "  return pd.DataFrame(list_for_df)\n",
    " "
   ]
  },
  {
   "cell_type": "code",
   "execution_count": 29,
   "metadata": {
    "colab": {
     "base_uri": "https://localhost:8080/",
     "height": 364
    },
    "id": "HHHSrPfmnxEl",
    "outputId": "83e5545f-c89b-4eab-9a78-ea3d8f9a7bcc"
   },
   "outputs": [],
   "source": [
    "icaos = ['LOWI'] \n",
    " #['EDDB','EDDT','EDDH','EDDM','EDDS','EDJA','EGMC','EGSH','LEBL','LEGE','LERS','LOWI']"
   ]
  },
  {
   "cell_type": "code",
   "execution_count": 30,
   "metadata": {},
   "outputs": [],
   "source": [
    "result= tomorrows_flight_arrivals(icaos)\n",
    "flight_data=pd.DataFrame(result)"
   ]
  },
  {
   "cell_type": "code",
   "execution_count": 31,
   "metadata": {},
   "outputs": [
    {
     "data": {
      "text/html": [
       "<div>\n",
       "<style scoped>\n",
       "    .dataframe tbody tr th:only-of-type {\n",
       "        vertical-align: middle;\n",
       "    }\n",
       "\n",
       "    .dataframe tbody tr th {\n",
       "        vertical-align: top;\n",
       "    }\n",
       "\n",
       "    .dataframe thead th {\n",
       "        text-align: right;\n",
       "    }\n",
       "</style>\n",
       "<table border=\"1\" class=\"dataframe\">\n",
       "  <thead>\n",
       "    <tr style=\"text-align: right;\">\n",
       "      <th></th>\n",
       "      <th>flight_number</th>\n",
       "      <th>departure_icao</th>\n",
       "      <th>arrival_icao</th>\n",
       "      <th>arrival_time</th>\n",
       "    </tr>\n",
       "  </thead>\n",
       "  <tbody>\n",
       "    <tr>\n",
       "      <th>0</th>\n",
       "      <td>OS 903</td>\n",
       "      <td>LOWW</td>\n",
       "      <td>LOWI</td>\n",
       "      <td>2022-10-13 10:30+02:00</td>\n",
       "    </tr>\n",
       "    <tr>\n",
       "      <th>1</th>\n",
       "      <td>OS 901</td>\n",
       "      <td>LOWW</td>\n",
       "      <td>LOWI</td>\n",
       "      <td>2022-10-13 18:10+02:00</td>\n",
       "    </tr>\n",
       "    <tr>\n",
       "      <th>2</th>\n",
       "      <td>U2 8291</td>\n",
       "      <td>EGKK</td>\n",
       "      <td>LOWI</td>\n",
       "      <td>2022-10-13 15:30+02:00</td>\n",
       "    </tr>\n",
       "    <tr>\n",
       "      <th>3</th>\n",
       "      <td>EN 8052</td>\n",
       "      <td>EDDF</td>\n",
       "      <td>LOWI</td>\n",
       "      <td>2022-10-13 13:50+02:00</td>\n",
       "    </tr>\n",
       "    <tr>\n",
       "      <th>4</th>\n",
       "      <td>OS 913</td>\n",
       "      <td>LOWW</td>\n",
       "      <td>LOWI</td>\n",
       "      <td>2022-10-13 22:50+02:00</td>\n",
       "    </tr>\n",
       "    <tr>\n",
       "      <th>5</th>\n",
       "      <td>EN 8056</td>\n",
       "      <td>EDDF</td>\n",
       "      <td>LOWI</td>\n",
       "      <td>2022-10-13 22:10+02:00</td>\n",
       "    </tr>\n",
       "  </tbody>\n",
       "</table>\n",
       "</div>"
      ],
      "text/plain": [
       "  flight_number departure_icao arrival_icao            arrival_time\n",
       "0        OS 903           LOWW         LOWI  2022-10-13 10:30+02:00\n",
       "1        OS 901           LOWW         LOWI  2022-10-13 18:10+02:00\n",
       "2       U2 8291           EGKK         LOWI  2022-10-13 15:30+02:00\n",
       "3       EN 8052           EDDF         LOWI  2022-10-13 13:50+02:00\n",
       "4        OS 913           LOWW         LOWI  2022-10-13 22:50+02:00\n",
       "5       EN 8056           EDDF         LOWI  2022-10-13 22:10+02:00"
      ]
     },
     "execution_count": 31,
     "metadata": {},
     "output_type": "execute_result"
    }
   ],
   "source": [
    "flight_data"
   ]
  },
  {
   "cell_type": "code",
   "execution_count": 32,
   "metadata": {},
   "outputs": [
    {
     "data": {
      "text/html": [
       "<div>\n",
       "<style scoped>\n",
       "    .dataframe tbody tr th:only-of-type {\n",
       "        vertical-align: middle;\n",
       "    }\n",
       "\n",
       "    .dataframe tbody tr th {\n",
       "        vertical-align: top;\n",
       "    }\n",
       "\n",
       "    .dataframe thead th {\n",
       "        text-align: right;\n",
       "    }\n",
       "</style>\n",
       "<table border=\"1\" class=\"dataframe\">\n",
       "  <thead>\n",
       "    <tr style=\"text-align: right;\">\n",
       "      <th></th>\n",
       "      <th>flight_number</th>\n",
       "      <th>departure_icao</th>\n",
       "      <th>arrival_icao</th>\n",
       "      <th>arrival_time</th>\n",
       "    </tr>\n",
       "  </thead>\n",
       "  <tbody>\n",
       "    <tr>\n",
       "      <th>0</th>\n",
       "      <td>OS 903</td>\n",
       "      <td>LOWW</td>\n",
       "      <td>LOWI</td>\n",
       "      <td>2022-10-13 08:30:00</td>\n",
       "    </tr>\n",
       "    <tr>\n",
       "      <th>1</th>\n",
       "      <td>OS 901</td>\n",
       "      <td>LOWW</td>\n",
       "      <td>LOWI</td>\n",
       "      <td>2022-10-13 16:10:00</td>\n",
       "    </tr>\n",
       "    <tr>\n",
       "      <th>2</th>\n",
       "      <td>U2 8291</td>\n",
       "      <td>EGKK</td>\n",
       "      <td>LOWI</td>\n",
       "      <td>2022-10-13 13:30:00</td>\n",
       "    </tr>\n",
       "    <tr>\n",
       "      <th>3</th>\n",
       "      <td>EN 8052</td>\n",
       "      <td>EDDF</td>\n",
       "      <td>LOWI</td>\n",
       "      <td>2022-10-13 11:50:00</td>\n",
       "    </tr>\n",
       "    <tr>\n",
       "      <th>4</th>\n",
       "      <td>OS 913</td>\n",
       "      <td>LOWW</td>\n",
       "      <td>LOWI</td>\n",
       "      <td>2022-10-13 20:50:00</td>\n",
       "    </tr>\n",
       "    <tr>\n",
       "      <th>5</th>\n",
       "      <td>EN 8056</td>\n",
       "      <td>EDDF</td>\n",
       "      <td>LOWI</td>\n",
       "      <td>2022-10-13 20:10:00</td>\n",
       "    </tr>\n",
       "  </tbody>\n",
       "</table>\n",
       "</div>"
      ],
      "text/plain": [
       "  flight_number departure_icao arrival_icao        arrival_time\n",
       "0        OS 903           LOWW         LOWI 2022-10-13 08:30:00\n",
       "1        OS 901           LOWW         LOWI 2022-10-13 16:10:00\n",
       "2       U2 8291           EGKK         LOWI 2022-10-13 13:30:00\n",
       "3       EN 8052           EDDF         LOWI 2022-10-13 11:50:00\n",
       "4        OS 913           LOWW         LOWI 2022-10-13 20:50:00\n",
       "5       EN 8056           EDDF         LOWI 2022-10-13 20:10:00"
      ]
     },
     "execution_count": 32,
     "metadata": {},
     "output_type": "execute_result"
    }
   ],
   "source": [
    "flight_data['arrival_time']=pd.to_datetime(flight_data['arrival_time']).dt.tz_convert(None)\n",
    "flight_data"
   ]
  },
  {
   "cell_type": "code",
   "execution_count": 220,
   "metadata": {},
   "outputs": [],
   "source": [
    "schema=\"gans_database\"   \n",
    "host=\"127.0.0.1\"        \n",
    "user=\"root\"\n",
    "password=\"my_module.mypassword\" \n",
    "port=3306\n",
    "con = f'mysql+pymysql://{user}:{password}@{host}:{port}/{schema}'       "
   ]
  },
  {
   "cell_type": "code",
   "execution_count": 221,
   "metadata": {},
   "outputs": [
    {
     "data": {
      "text/plain": [
       "4"
      ]
     },
     "execution_count": 221,
     "metadata": {},
     "output_type": "execute_result"
    }
   ],
   "source": [
    "flights.to_sql('flights',        \n",
    "              if_exists='append', \n",
    "              con=con,           \n",
    "              index=False)"
   ]
  }
 ],
 "metadata": {
  "colab": {
   "collapsed_sections": [],
   "provenance": []
  },
  "kernelspec": {
   "display_name": "Python 3 (ipykernel)",
   "language": "python",
   "name": "python3"
  },
  "language_info": {
   "codemirror_mode": {
    "name": "ipython",
    "version": 3
   },
   "file_extension": ".py",
   "mimetype": "text/x-python",
   "name": "python",
   "nbconvert_exporter": "python",
   "pygments_lexer": "ipython3",
   "version": "3.9.12"
  }
 },
 "nbformat": 4,
 "nbformat_minor": 1
}
